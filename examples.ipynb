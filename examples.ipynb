{
 "cells": [
  {
   "cell_type": "markdown",
   "id": "5a066605",
   "metadata": {},
   "source": [
    "# Regression Notebook with PyGRN"
   ]
  },
  {
   "cell_type": "code",
   "execution_count": 1,
   "id": "d5f7d001",
   "metadata": {},
   "outputs": [],
   "source": [
    "from pygrn import grns, problems, evolution, config\n",
    "import argparse\n",
    "import os\n",
    "import numpy as np\n",
    "import matplotlib.pyplot as plt\n",
    "from loguru import logger\n",
    "\n",
    "\n",
    "\n",
    "# Creation of the Regression problem\n",
    "def f(t, f: float = 1, k: int = 3):\n",
    "    \"\"\" Fourrier decomposition of a square signal\n",
    "\n",
    "    Args:\n",
    "        t (float): time\n",
    "        f(float, optional): frequency. Defaults to 1. \n",
    "        k (int, optional): degree of decomposition. Defaults to 2.\n",
    "\n",
    "    Returns:\n",
    "        values\n",
    "    \"\"\"\n",
    "    y = np.zeros(t.shape[0])\n",
    "    for i in range(0, k):\n",
    "\n",
    "        y += np.sin((2*i + 1) * 2*np.pi*f*t)/(2*i + 1)\n",
    "    \n",
    "    \n",
    "    y /= (4/np.pi)\n",
    "    \n",
    "    # transform values between 0 and 1\n",
    "    y = (y - np.min(y)) / (np.max(y) - np.min(y))\n",
    "    \n",
    "    return y\n",
    "\n",
    "def f_lin(t):\n",
    "\n",
    "    return t\n",
    "\n",
    "class Regression(problems.base.Problem):\n",
    "    def __init__(self, x_train, y_train):\n",
    "        super().__init__(\"regression\")\n",
    "        self.namestr = \"regression\"\n",
    "        self.nin = 1\n",
    "        self.nout = 1\n",
    "        self.cacheable = True\n",
    "\n",
    "        self.x_train = x_train\n",
    "        self.y_train = y_train\n",
    "\n",
    "        \n",
    "    def eval(self, grn):\n",
    "\n",
    "        grn.setup()\n",
    "        grn.warmup(25)\n",
    "        fit = 0.0\n",
    "        for i in range(max(self.x_train.shape)):\n",
    "            grn.set_input(self.x_train[i])\n",
    "            grn.step()\n",
    "            fit += np.linalg.norm(grn.get_output().item() - self.y_train[i]).item()\n",
    "\n",
    "        return 1-fit\n"
   ]
  },
  {
   "cell_type": "code",
   "execution_count": null,
   "id": "72d8bd3f",
   "metadata": {},
   "outputs": [
    {
     "ename": "KeyboardInterrupt",
     "evalue": "",
     "output_type": "error",
     "traceback": [
      "\u001b[31m---------------------------------------------------------------------------\u001b[39m",
      "\u001b[31mKeyboardInterrupt\u001b[39m                         Traceback (most recent call last)",
      "\u001b[36mCell\u001b[39m\u001b[36m \u001b[39m\u001b[32mIn[3]\u001b[39m\u001b[32m, line 11\u001b[39m\n\u001b[32m      7\u001b[39m problem = Regression(t, y)\n\u001b[32m     10\u001b[39m grneat = evolution.Evolution(problem, grn, num_workers=\u001b[32m30\u001b[39m)\n\u001b[32m---> \u001b[39m\u001b[32m11\u001b[39m best_fit, best_ind = \u001b[43mgrneat\u001b[49m\u001b[43m.\u001b[49m\u001b[43mrun\u001b[49m\u001b[43m(\u001b[49m\u001b[32;43m20\u001b[39;49m\u001b[43m)\u001b[49m\n\u001b[32m     13\u001b[39m best_fit_history = grneat.best_fit_history\n\u001b[32m     14\u001b[39m logger.info(\u001b[33m\"\u001b[39m\u001b[33mbest fit: \u001b[39m\u001b[33m\"\u001b[39m, best_fit)\n",
      "\u001b[36mFile \u001b[39m\u001b[32m~/Documents/code/pyGRN/pygrn/evolution/evolution.py:42\u001b[39m, in \u001b[36mEvolution.run\u001b[39m\u001b[34m(self, generations)\u001b[39m\n\u001b[32m     40\u001b[39m \u001b[38;5;28;01mdef\u001b[39;00m\u001b[38;5;250m \u001b[39m\u001b[34mrun\u001b[39m(\u001b[38;5;28mself\u001b[39m, generations):\n\u001b[32m     41\u001b[39m     \u001b[38;5;28;01mfor\u001b[39;00m gen \u001b[38;5;129;01min\u001b[39;00m \u001b[38;5;28mrange\u001b[39m(generations):\n\u001b[32m---> \u001b[39m\u001b[32m42\u001b[39m         \u001b[38;5;28;43mself\u001b[39;49m\u001b[43m.\u001b[49m\u001b[43mstep\u001b[49m\u001b[43m(\u001b[49m\u001b[43m)\u001b[49m\n\u001b[32m     43\u001b[39m     best_fit, best_ind_pop = \u001b[38;5;28mself\u001b[39m.population.get_best()\n\u001b[32m     44\u001b[39m     \u001b[38;5;28;01mreturn\u001b[39;00m best_fit, best_ind_pop\n",
      "\u001b[36mFile \u001b[39m\u001b[32m~/Documents/code/pyGRN/pygrn/evolution/evolution.py:30\u001b[39m, in \u001b[36mEvolution.step\u001b[39m\u001b[34m(self)\u001b[39m\n\u001b[32m     28\u001b[39m \u001b[38;5;28;01mdef\u001b[39;00m\u001b[38;5;250m \u001b[39m\u001b[34mstep\u001b[39m(\u001b[38;5;28mself\u001b[39m):\n\u001b[32m     29\u001b[39m     \u001b[38;5;28mself\u001b[39m.population.evaluate(\u001b[38;5;28mself\u001b[39m.problem, \u001b[38;5;28mself\u001b[39m.num_workers)\n\u001b[32m---> \u001b[39m\u001b[32m30\u001b[39m     \u001b[38;5;28;43mself\u001b[39;49m\u001b[43m.\u001b[49m\u001b[43mpopulation\u001b[49m\u001b[43m.\u001b[49m\u001b[43mspeciation\u001b[49m\u001b[43m(\u001b[49m\u001b[43m)\u001b[49m\n\u001b[32m     31\u001b[39m     \u001b[38;5;28mself\u001b[39m.population.adjust_thresholds()\n\u001b[32m     33\u001b[39m     \u001b[38;5;66;03m# renew species\u001b[39;00m\n",
      "\u001b[36mFile \u001b[39m\u001b[32m~/Documents/code/pyGRN/pygrn/evolution/population.py:80\u001b[39m, in \u001b[36mPopulation.speciation\u001b[39m\u001b[34m(self)\u001b[39m\n\u001b[32m     78\u001b[39m min_dist = np.inf\n\u001b[32m     79\u001b[39m \u001b[38;5;28;01mfor\u001b[39;00m spi \u001b[38;5;129;01min\u001b[39;00m \u001b[38;5;28mrange\u001b[39m(\u001b[38;5;28mlen\u001b[39m(\u001b[38;5;28mself\u001b[39m.species)):\n\u001b[32m---> \u001b[39m\u001b[32m80\u001b[39m     sp_dist = \u001b[38;5;28;43mself\u001b[39;49m\u001b[43m.\u001b[49m\u001b[43mspecies\u001b[49m\u001b[43m[\u001b[49m\u001b[43mspi\u001b[49m\u001b[43m]\u001b[49m\u001b[43m.\u001b[49m\u001b[43mrepresentative\u001b[49m\u001b[43m.\u001b[49m\u001b[43mgrn\u001b[49m\u001b[43m.\u001b[49m\u001b[43mdistance_to\u001b[49m\u001b[43m(\u001b[49m\n\u001b[32m     81\u001b[39m \u001b[43m        \u001b[49m\u001b[43mind\u001b[49m\u001b[43m.\u001b[49m\u001b[43mgrn\u001b[49m\u001b[43m)\u001b[49m\n\u001b[32m     82\u001b[39m     \u001b[38;5;28;01mif\u001b[39;00m ((sp_dist < min_dist) \u001b[38;5;129;01mand\u001b[39;00m\n\u001b[32m     83\u001b[39m         (sp_dist < \u001b[38;5;28mself\u001b[39m.species[spi].species_threshold)):\n\u001b[32m     84\u001b[39m         species_match = spi\n",
      "\u001b[36mFile \u001b[39m\u001b[32m~/Documents/code/pyGRN/pygrn/grns/base.py:165\u001b[39m, in \u001b[36mGRN.distance_to\u001b[39m\u001b[34m(self, other)\u001b[39m\n\u001b[32m    163\u001b[39m \u001b[38;5;66;03m# Compute Din and Dout, input protein are the first num_input + num_output elements\u001b[39;00m\n\u001b[32m    164\u001b[39m \u001b[38;5;28;01mfor\u001b[39;00m k \u001b[38;5;129;01min\u001b[39;00m \u001b[38;5;28mrange\u001b[39m(glarge.num_input + glarge.num_output):\n\u001b[32m--> \u001b[39m\u001b[32m165\u001b[39m     gDist = \u001b[43mglarge\u001b[49m\u001b[43m.\u001b[49m\u001b[43mprotein_distance\u001b[49m\u001b[43m(\u001b[49m\u001b[43mgsmall\u001b[49m\u001b[43m,\u001b[49m\u001b[43m \u001b[49m\u001b[43mk\u001b[49m\u001b[43m,\u001b[49m\u001b[43m \u001b[49m\u001b[43mk\u001b[49m\u001b[43m)\u001b[49m\n\u001b[32m    166\u001b[39m     distance += gDist\n\u001b[32m    168\u001b[39m \u001b[38;5;66;03m# Compute Dreg\u001b[39;00m\n\u001b[32m    169\u001b[39m \u001b[38;5;66;03m# protein k in large\u001b[39;00m\n",
      "\u001b[36mFile \u001b[39m\u001b[32m~/Documents/code/pyGRN/pygrn/grns/base.py:137\u001b[39m, in \u001b[36mGRN.protein_distance\u001b[39m\u001b[34m(self, other, k, j)\u001b[39m\n\u001b[32m    120\u001b[39m \u001b[38;5;28;01mdef\u001b[39;00m\u001b[38;5;250m \u001b[39m\u001b[34mprotein_distance\u001b[39m(\u001b[38;5;28mself\u001b[39m, other, k, j):\n\u001b[32m    121\u001b[39m \u001b[38;5;250m    \u001b[39m\u001b[33;03m\"\"\"\u001b[39;00m\n\u001b[32m    122\u001b[39m \u001b[33;03m        Compute the distance between proteins k of the parent genome and protein i of the other genome\u001b[39;00m\n\u001b[32m    123\u001b[39m \n\u001b[32m   (...)\u001b[39m\u001b[32m    133\u001b[39m \u001b[33;03m               c * abs(enhancers[k] - enhancers[j])\u001b[39;00m\n\u001b[32m    134\u001b[39m \u001b[33;03m    \"\"\"\u001b[39;00m\n\u001b[32m    135\u001b[39m     \u001b[38;5;28;01mreturn\u001b[39;00m (\u001b[38;5;28mabs\u001b[39m(\u001b[38;5;28mself\u001b[39m.identifiers[k] - other.identifiers[j]) *\n\u001b[32m    136\u001b[39m             config.ID_COEF +\n\u001b[32m--> \u001b[39m\u001b[32m137\u001b[39m             \u001b[38;5;28mabs\u001b[39m(\u001b[38;5;28mself\u001b[39m.inhibitors[k] - other.inhibitors[j]) *\n\u001b[32m    138\u001b[39m             config.INH_COEF +\n\u001b[32m    139\u001b[39m             \u001b[38;5;28mabs\u001b[39m(\u001b[38;5;28mself\u001b[39m.enhancers[k] - other.enhancers[j]) * config.ENH_COEF) / \u001b[32m1\u001b[39m\n",
      "\u001b[31mKeyboardInterrupt\u001b[39m: "
     ]
    }
   ],
   "source": [
    "t = np.linspace(-1, 1, 500)\n",
    "y = f(t, f=1, k=10)\n",
    "    \n",
    "# logger.remove()\n",
    "logger.level(\"INFO\")\n",
    "grn = lambda : grns.DissetGRN()\n",
    "problem = Regression(t, y)\n",
    "\n",
    "\n",
    "grneat = evolution.Evolution(problem, grn, num_workers=10)\n",
    "best_fit, best_ind = grneat.run(20)\n",
    "\n",
    "best_fit_history = grneat.best_fit_history\n",
    "logger.info(\"best fit: \", best_fit)\n",
    "# problem.eval(grneat.best_grn)\n",
    "    \n",
    "# y_eval = f(t_eval)\n",
    "best_grn = best_ind.grn\n",
    "\n",
    "best_grn.setup()\n",
    "best_grn.warmup(25)\n",
    "y_eval = []\n",
    "for i in range(max(t.shape)):\n",
    "    best_grn.set_input(t[i])\n",
    "    best_grn.step()\n",
    "    y_eval.append(best_grn.get_output().item())\n",
    "\n",
    "\n",
    "plt.plot(t, y_eval, label=\"prediction\")\n",
    "plt.plot(t, y, '.', label=\"target\")\n",
    "\n",
    "plt.legend()\n",
    "plt.figure(figsize=(10, 5))\n",
    "plt.plot(best_fit_history)\n",
    "plt.show()"
   ]
  },
  {
   "cell_type": "code",
   "execution_count": 3,
   "id": "61a13c39",
   "metadata": {},
   "outputs": [
    {
     "name": "stdout",
     "output_type": "stream",
     "text": [
      "delta =  1.0113637521494716\n",
      "belta =  1.057738915273828\n",
      "[0.         0.33333333 0.33333333 0.33333333]\n",
      "[0.01010101 0.33333333 0.33333333 0.33333333]\n",
      "[0.02020202 0.33333333 0.33333333 0.33333333]\n",
      "[0.03030303 0.33333333 0.33333333 0.33333333]\n",
      "[0.04040404 0.33333333 0.33333333 0.33333333]\n",
      "[0.05050505 0.33333333 0.33333333 0.33333333]\n",
      "[0.06060606 0.33333333 0.33333333 0.33333333]\n",
      "[0.07070707 0.33333333 0.33333333 0.33333333]\n",
      "[0.08080808 0.33333333 0.33333333 0.33333333]\n",
      "[0.09090909 0.33333333 0.33333333 0.33333333]\n",
      "[0.1010101  0.33333333 0.33333333 0.33333333]\n",
      "[0.11111111 0.33333333 0.33333333 0.33333333]\n",
      "[0.12121212 0.33333333 0.33333333 0.33333333]\n",
      "[0.13131313 0.33333333 0.33333333 0.33333333]\n",
      "[0.14141414 0.33333333 0.33333333 0.33333333]\n",
      "[0.15151515 0.33333333 0.33333333 0.33333333]\n",
      "[0.16161616 0.33333333 0.33333333 0.33333333]\n",
      "[0.17171717 0.33333333 0.33333333 0.33333333]\n",
      "[0.18181818 0.33333333 0.33333333 0.33333333]\n",
      "[0.19191919 0.33333333 0.33333333 0.33333333]\n",
      "[0.2020202  0.33333333 0.33333333 0.33333333]\n",
      "[0.21212121 0.33333333 0.33333333 0.33333333]\n",
      "[0.22222222 0.33333333 0.33333333 0.33333333]\n",
      "[0.23232323 0.33333333 0.33333333 0.33333333]\n",
      "[0.24242424 0.33333333 0.33333333 0.33333333]\n",
      "[0.25252525 0.33333333 0.33333333 0.33333333]\n",
      "[0.26262626 0.33333333 0.33333333 0.33333333]\n",
      "[0.27272727 0.33333333 0.33333333 0.33333333]\n",
      "[0.28282828 0.33333333 0.33333333 0.33333333]\n",
      "[0.29292929 0.33333333 0.33333333 0.33333333]\n",
      "[0.3030303  0.33333333 0.33333333 0.33333333]\n",
      "[0.31313131 0.33333333 0.33333333 0.33333333]\n",
      "[0.32323232 0.33333333 0.33333333 0.33333333]\n",
      "[0.33333333 0.33333333 0.33333333 0.33333333]\n",
      "[0.34343434 0.33333333 0.33333333 0.33333333]\n",
      "[0.35353535 0.33333333 0.33333333 0.33333333]\n",
      "[0.36363636 0.33333333 0.33333333 0.33333333]\n",
      "[0.37373737 0.33333333 0.33333333 0.33333333]\n",
      "[0.38383838 0.33333333 0.33333333 0.33333333]\n",
      "[0.39393939 0.33333333 0.33333333 0.33333333]\n",
      "[0.4040404  0.33333333 0.33333333 0.33333333]\n",
      "[0.41414141 0.33333333 0.33333333 0.33333333]\n",
      "[0.42424242 0.33333333 0.33333333 0.33333333]\n",
      "[0.43434343 0.33333333 0.33333333 0.33333333]\n",
      "[0.44444444 0.33333333 0.33333333 0.33333333]\n",
      "[0.45454545 0.33333333 0.33333333 0.33333333]\n",
      "[0.46464646 0.33333333 0.33333333 0.33333333]\n",
      "[0.47474747 0.33333333 0.33333333 0.33333333]\n",
      "[0.48484848 0.33333333 0.33333333 0.33333333]\n",
      "[0.49494949 0.33333333 0.33333333 0.33333333]\n",
      "[0.50505051 0.33333333 0.33333333 0.33333333]\n",
      "[0.51515152 0.33333333 0.33333333 0.33333333]\n",
      "[0.52525253 0.33333333 0.33333333 0.33333333]\n",
      "[0.53535354 0.33333333 0.33333333 0.33333333]\n",
      "[0.54545455 0.33333333 0.33333333 0.33333333]\n",
      "[0.55555556 0.33333333 0.33333333 0.33333333]\n",
      "[0.56565657 0.33333333 0.33333333 0.33333333]\n",
      "[0.57575758 0.33333333 0.33333333 0.33333333]\n",
      "[0.58585859 0.33333333 0.33333333 0.33333333]\n",
      "[0.5959596  0.33333333 0.33333333 0.33333333]\n",
      "[0.60606061 0.33333333 0.33333333 0.33333333]\n",
      "[0.61616162 0.33333333 0.33333333 0.33333333]\n",
      "[0.62626263 0.33333333 0.33333333 0.33333333]\n",
      "[0.63636364 0.33333333 0.33333333 0.33333333]\n",
      "[0.64646465 0.33333333 0.33333333 0.33333333]\n",
      "[0.65656566 0.33333333 0.33333333 0.33333333]\n",
      "[0.66666667 0.33333333 0.33333333 0.33333333]\n",
      "[0.67676768 0.33333333 0.33333333 0.33333333]\n",
      "[0.68686869 0.33333333 0.33333333 0.33333333]\n",
      "[0.6969697  0.33333333 0.33333333 0.33333333]\n",
      "[0.70707071 0.33333333 0.33333333 0.33333333]\n",
      "[0.71717172 0.33333333 0.33333333 0.33333333]\n",
      "[0.72727273 0.33333333 0.33333333 0.33333333]\n",
      "[0.73737374 0.33333333 0.33333333 0.33333333]\n",
      "[0.74747475 0.33333333 0.33333333 0.33333333]\n",
      "[0.75757576 0.33333333 0.33333333 0.33333333]\n",
      "[0.76767677 0.33333333 0.33333333 0.33333333]\n",
      "[0.77777778 0.33333333 0.33333333 0.33333333]\n",
      "[0.78787879 0.33333333 0.33333333 0.33333333]\n",
      "[0.7979798  0.33333333 0.33333333 0.33333333]\n",
      "[0.80808081 0.33333333 0.33333333 0.33333333]\n",
      "[0.81818182 0.33333333 0.33333333 0.33333333]\n",
      "[0.82828283 0.33333333 0.33333333 0.33333333]\n",
      "[0.83838384 0.33333333 0.33333333 0.33333333]\n",
      "[0.84848485 0.33333333 0.33333333 0.33333333]\n",
      "[0.85858586 0.33333333 0.33333333 0.33333333]\n",
      "[0.86868687 0.33333333 0.33333333 0.33333333]\n",
      "[0.87878788 0.33333333 0.33333333 0.33333333]\n",
      "[0.88888889 0.33333333 0.33333333 0.33333333]\n",
      "[0.8989899  0.33333333 0.33333333 0.33333333]\n",
      "[0.90909091 0.33333333 0.33333333 0.33333333]\n",
      "[0.91919192 0.33333333 0.33333333 0.33333333]\n",
      "[0.92929293 0.33333333 0.33333333 0.33333333]\n",
      "[0.93939394 0.33333333 0.33333333 0.33333333]\n",
      "[0.94949495 0.33333333 0.33333333 0.33333333]\n",
      "[0.95959596 0.33333333 0.33333333 0.33333333]\n",
      "[0.96969697 0.33333333 0.33333333 0.33333333]\n",
      "[0.97979798 0.33333333 0.33333333 0.33333333]\n",
      "[0.98989899 0.33333333 0.33333333 0.33333333]\n",
      "[1.         0.33333333 0.33333333 0.33333333]\n"
     ]
    },
    {
     "data": {
      "image/png": "[encoded data removed]",
      "text/plain": [
       "<Figure size 640x480 with 1 Axes>"
      ]
     },
     "metadata": {},
     "output_type": "display_data"
    },
    {
     "data": {
      "text/plain": [
       "<Figure size 1000x500 with 0 Axes>"
      ]
     },
     "metadata": {},
     "output_type": "display_data"
    }
   ],
   "source": [
    "# test a random genome \n",
    "from pygrn import grns, problems, evolution, config\n",
    "import argparse\n",
    "import os\n",
    "import numpy as np\n",
    "import matplotlib.pyplot as plt\n",
    "from loguru import logger\n",
    "\n",
    "\n",
    "\n",
    "grn = grns.ClassicGRN()\n",
    "grn.random(1, 1, 2)\n",
    "t = np.linspace(0, 1, 100)\n",
    "\n",
    "print(\"delta = \", grn.delta)\n",
    "print(\"belta = \", grn.beta)\n",
    "grn.setup()\n",
    "grn.warmup(25)\n",
    "y_eval = []\n",
    "for i in range(max(t.shape)):\n",
    "    grn.set_input(t[i])\n",
    "    grn.step()\n",
    "\n",
    "    print(grn.concentration)\n",
    "    y_eval.append(grn.get_output().item())\n",
    "\n",
    "plt.plot(t, y_eval, label=\"prediction\")\n",
    "# plt.plot(t, y, label=\"target\")\n",
    "\n",
    "plt.legend()\n",
    "plt.figure(figsize=(10, 5))\n",
    "# plt.plot(best_fit_history)\n",
    "plt.show()"
   ]
  },
  {
   "cell_type": "markdown",
   "id": "9d01f282",
   "metadata": {},
   "source": [
    "# Double the frequence of a sinus\n",
    "- see [1] for explanantion "
   ]
  },
  {
   "cell_type": "code",
   "execution_count": 1,
   "id": "f859543f",
   "metadata": {},
   "outputs": [
    {
     "name": "stdout",
     "output_type": "stream",
     "text": [
      "500\n"
     ]
    },
    {
     "name": "stderr",
     "output_type": "stream",
     "text": [
      "\u001b[32m2025-07-22 10:14:33.242\u001b[0m | \u001b[34m\u001b[1mDEBUG   \u001b[0m | \u001b[36mpygrn.evolution.evolution\u001b[0m:\u001b[36mreport\u001b[0m:\u001b[36m52\u001b[0m - \u001b[34m\u001b[1mS,2025-07-22T10:14:33.242469,0,0,56,0.903814,-477.470327,3,0.160000,0.062661,3.000000\u001b[0m\n",
      "\u001b[32m2025-07-22 10:14:33.244\u001b[0m | \u001b[34m\u001b[1mDEBUG   \u001b[0m | \u001b[36mpygrn.evolution.evolution\u001b[0m:\u001b[36mreport\u001b[0m:\u001b[36m52\u001b[0m - \u001b[34m\u001b[1mS,2025-07-22T10:14:33.243505,0,1,149,0.857638,-460.532580,3,0.140000,0.061155,3.000000\u001b[0m\n",
      "\u001b[32m2025-07-22 10:14:33.245\u001b[0m | \u001b[34m\u001b[1mDEBUG   \u001b[0m | \u001b[36mpygrn.evolution.evolution\u001b[0m:\u001b[36mreport\u001b[0m:\u001b[36m52\u001b[0m - \u001b[34m\u001b[1mS,2025-07-22T10:14:33.244725,0,2,119,0.883896,-476.780583,3,0.140000,0.066633,3.000000\u001b[0m\n",
      "\u001b[32m2025-07-22 10:14:33.246\u001b[0m | \u001b[34m\u001b[1mDEBUG   \u001b[0m | \u001b[36mpygrn.evolution.evolution\u001b[0m:\u001b[36mreport\u001b[0m:\u001b[36m52\u001b[0m - \u001b[34m\u001b[1mS,2025-07-22T10:14:33.245708,0,3,99,0.901164,-477.470327,3,0.160000,0.058177,3.000000\u001b[0m\n",
      "\u001b[32m2025-07-22 10:14:33.247\u001b[0m | \u001b[34m\u001b[1mDEBUG   \u001b[0m | \u001b[36mpygrn.evolution.evolution\u001b[0m:\u001b[36mreport\u001b[0m:\u001b[36m52\u001b[0m - \u001b[34m\u001b[1mS,2025-07-22T10:14:33.246952,0,4,77,0.903814,-477.470327,3,0.160000,0.047540,3.000000\u001b[0m\n",
      "\u001b[32m2025-07-22 10:14:33.249\u001b[0m | \u001b[1mINFO    \u001b[0m | \u001b[36mpygrn.evolution.evolution\u001b[0m:\u001b[36mreport\u001b[0m:\u001b[36m80\u001b[0m - \u001b[1mGeneration 0: best fit -460.5325802754844, fit mean -480.8206980157208, fit std 17.678039632286527\u001b[0m\n"
     ]
    },
    {
     "name": "stdout",
     "output_type": "stream",
     "text": [
      "500\n"
     ]
    },
    {
     "name": "stderr",
     "output_type": "stream",
     "text": [
      "\u001b[32m2025-07-22 10:14:39.899\u001b[0m | \u001b[34m\u001b[1mDEBUG   \u001b[0m | \u001b[36mpygrn.evolution.evolution\u001b[0m:\u001b[36mreport\u001b[0m:\u001b[36m52\u001b[0m - \u001b[34m\u001b[1mS,2025-07-22T10:14:39.898913,1,0,91,0.651274,-477.470327,3,0.170000,0.028904,3.538462\u001b[0m\n",
      "\u001b[32m2025-07-22 10:14:39.901\u001b[0m | \u001b[34m\u001b[1mDEBUG   \u001b[0m | \u001b[36mpygrn.evolution.evolution\u001b[0m:\u001b[36mreport\u001b[0m:\u001b[36m52\u001b[0m - \u001b[34m\u001b[1mS,2025-07-22T10:14:39.900494,1,1,122,0.683571,-457.414143,3,0.130000,0.056229,3.459016\u001b[0m\n",
      "\u001b[32m2025-07-22 10:14:39.902\u001b[0m | \u001b[34m\u001b[1mDEBUG   \u001b[0m | \u001b[36mpygrn.evolution.evolution\u001b[0m:\u001b[36mreport\u001b[0m:\u001b[36m52\u001b[0m - \u001b[34m\u001b[1mS,2025-07-22T10:14:39.902032,1,2,99,0.690887,-477.233036,3,0.150000,0.044095,3.444444\u001b[0m\n",
      "\u001b[32m2025-07-22 10:14:39.903\u001b[0m | \u001b[34m\u001b[1mDEBUG   \u001b[0m | \u001b[36mpygrn.evolution.evolution\u001b[0m:\u001b[36mreport\u001b[0m:\u001b[36m52\u001b[0m - \u001b[34m\u001b[1mS,2025-07-22T10:14:39.903051,1,3,98,0.654726,-477.470327,3,0.170000,0.048935,3.530612\u001b[0m\n",
      "\u001b[32m2025-07-22 10:14:39.904\u001b[0m | \u001b[34m\u001b[1mDEBUG   \u001b[0m | \u001b[36mpygrn.evolution.evolution\u001b[0m:\u001b[36mreport\u001b[0m:\u001b[36m52\u001b[0m - \u001b[34m\u001b[1mS,2025-07-22T10:14:39.903745,1,4,90,0.668189,-477.470327,3,0.170000,0.035934,3.500000\u001b[0m\n",
      "\u001b[32m2025-07-22 10:14:39.904\u001b[0m | \u001b[1mINFO    \u001b[0m | \u001b[36mpygrn.evolution.evolution\u001b[0m:\u001b[36mreport\u001b[0m:\u001b[36m80\u001b[0m - \u001b[1mGeneration 1: best fit -457.41414305738965, fit mean -516.4254851562137, fit std 39.43315019050688\u001b[0m\n"
     ]
    },
    {
     "name": "stdout",
     "output_type": "stream",
     "text": [
      "500\n"
     ]
    },
    {
     "name": "stderr",
     "output_type": "stream",
     "text": [
      "\u001b[32m2025-07-22 10:14:46.764\u001b[0m | \u001b[34m\u001b[1mDEBUG   \u001b[0m | \u001b[36mpygrn.evolution.evolution\u001b[0m:\u001b[36mreport\u001b[0m:\u001b[36m52\u001b[0m - \u001b[34m\u001b[1mS,2025-07-22T10:14:46.763980,2,0,101,0.654252,-477.470327,3,0.160000,0.030361,3.544554\u001b[0m\n",
      "\u001b[32m2025-07-22 10:14:46.766\u001b[0m | \u001b[34m\u001b[1mDEBUG   \u001b[0m | \u001b[36mpygrn.evolution.evolution\u001b[0m:\u001b[36mreport\u001b[0m:\u001b[36m52\u001b[0m - \u001b[34m\u001b[1mS,2025-07-22T10:14:46.765626,2,1,94,0.669735,-457.414143,3,0.140000,0.053130,3.500000\u001b[0m\n",
      "\u001b[32m2025-07-22 10:14:46.767\u001b[0m | \u001b[34m\u001b[1mDEBUG   \u001b[0m | \u001b[36mpygrn.evolution.evolution\u001b[0m:\u001b[36mreport\u001b[0m:\u001b[36m52\u001b[0m - \u001b[34m\u001b[1mS,2025-07-22T10:14:46.766795,2,2,95,0.659787,-477.233036,3,0.160000,0.043777,3.526316\u001b[0m\n",
      "\u001b[32m2025-07-22 10:14:46.768\u001b[0m | \u001b[34m\u001b[1mDEBUG   \u001b[0m | \u001b[36mpygrn.evolution.evolution\u001b[0m:\u001b[36mreport\u001b[0m:\u001b[36m52\u001b[0m - \u001b[34m\u001b[1mS,2025-07-22T10:14:46.767909,2,3,104,0.618542,-477.470327,3,0.160000,0.052855,3.615385\u001b[0m\n",
      "\u001b[32m2025-07-22 10:14:46.769\u001b[0m | \u001b[34m\u001b[1mDEBUG   \u001b[0m | \u001b[36mpygrn.evolution.evolution\u001b[0m:\u001b[36mreport\u001b[0m:\u001b[36m52\u001b[0m - \u001b[34m\u001b[1mS,2025-07-22T10:14:46.768927,2,4,106,0.633168,-477.470327,3,0.160000,0.037378,3.594340\u001b[0m\n",
      "\u001b[32m2025-07-22 10:14:46.770\u001b[0m | \u001b[1mINFO    \u001b[0m | \u001b[36mpygrn.evolution.evolution\u001b[0m:\u001b[36mreport\u001b[0m:\u001b[36m80\u001b[0m - \u001b[1mGeneration 2: best fit -457.41414305738965, fit mean -520.7987484326768, fit std 42.69962275945503\u001b[0m\n"
     ]
    },
    {
     "name": "stdout",
     "output_type": "stream",
     "text": [
      "500\n"
     ]
    },
    {
     "name": "stderr",
     "output_type": "stream",
     "text": [
      "\u001b[32m2025-07-22 10:14:53.977\u001b[0m | \u001b[34m\u001b[1mDEBUG   \u001b[0m | \u001b[36mpygrn.evolution.evolution\u001b[0m:\u001b[36mreport\u001b[0m:\u001b[36m52\u001b[0m - \u001b[34m\u001b[1mS,2025-07-22T10:14:53.976987,3,0,114,0.745477,-477.470327,3,0.150000,0.031380,3.578947\u001b[0m\n",
      "\u001b[32m2025-07-22 10:14:53.979\u001b[0m | \u001b[34m\u001b[1mDEBUG   \u001b[0m | \u001b[36mpygrn.evolution.evolution\u001b[0m:\u001b[36mreport\u001b[0m:\u001b[36m52\u001b[0m - \u001b[34m\u001b[1mS,2025-07-22T10:14:53.978668,3,1,138,0.721102,-457.414143,3,0.130000,0.056506,3.644928\u001b[0m\n",
      "\u001b[32m2025-07-22 10:14:53.980\u001b[0m | \u001b[34m\u001b[1mDEBUG   \u001b[0m | \u001b[36mpygrn.evolution.evolution\u001b[0m:\u001b[36mreport\u001b[0m:\u001b[36m52\u001b[0m - \u001b[34m\u001b[1mS,2025-07-22T10:14:53.980333,3,2,71,0.741232,-477.233036,3,0.170000,0.044677,3.591549\u001b[0m\n",
      "\u001b[32m2025-07-22 10:14:53.981\u001b[0m | \u001b[34m\u001b[1mDEBUG   \u001b[0m | \u001b[36mpygrn.evolution.evolution\u001b[0m:\u001b[36mreport\u001b[0m:\u001b[36m52\u001b[0m - \u001b[34m\u001b[1mS,2025-07-22T10:14:53.981374,3,3,48,0.634183,-477.470327,3,0.170000,0.038797,3.958333\u001b[0m\n",
      "\u001b[32m2025-07-22 10:14:53.983\u001b[0m | \u001b[34m\u001b[1mDEBUG   \u001b[0m | \u001b[36mpygrn.evolution.evolution\u001b[0m:\u001b[36mreport\u001b[0m:\u001b[36m52\u001b[0m - \u001b[34m\u001b[1mS,2025-07-22T10:14:53.982289,3,4,129,0.749497,-477.470327,3,0.150000,0.057028,3.558140\u001b[0m\n",
      "\u001b[32m2025-07-22 10:14:53.983\u001b[0m | \u001b[1mINFO    \u001b[0m | \u001b[36mpygrn.evolution.evolution\u001b[0m:\u001b[36mreport\u001b[0m:\u001b[36m80\u001b[0m - \u001b[1mGeneration 3: best fit -457.41414305738965, fit mean -526.1414591095472, fit std 45.0490214938131\u001b[0m\n"
     ]
    },
    {
     "name": "stdout",
     "output_type": "stream",
     "text": [
      "500\n"
     ]
    },
    {
     "name": "stderr",
     "output_type": "stream",
     "text": [
      "\u001b[32m2025-07-22 10:15:01.330\u001b[0m | \u001b[34m\u001b[1mDEBUG   \u001b[0m | \u001b[36mpygrn.evolution.evolution\u001b[0m:\u001b[36mreport\u001b[0m:\u001b[36m52\u001b[0m - \u001b[34m\u001b[1mS,2025-07-22T10:15:01.330382,4,0,82,0.750914,-477.457263,3,0.160000,0.041155,3.548780\u001b[0m\n",
      "\u001b[32m2025-07-22 10:15:01.332\u001b[0m | \u001b[34m\u001b[1mDEBUG   \u001b[0m | \u001b[36mpygrn.evolution.evolution\u001b[0m:\u001b[36mreport\u001b[0m:\u001b[36m52\u001b[0m - \u001b[34m\u001b[1mS,2025-07-22T10:15:01.331404,4,1,96,0.745294,-457.414143,3,0.140000,0.045393,3.583333\u001b[0m\n",
      "\u001b[32m2025-07-22 10:15:01.333\u001b[0m | \u001b[34m\u001b[1mDEBUG   \u001b[0m | \u001b[36mpygrn.evolution.evolution\u001b[0m:\u001b[36mreport\u001b[0m:\u001b[36m52\u001b[0m - \u001b[34m\u001b[1mS,2025-07-22T10:15:01.332484,4,2,77,0.695613,-477.233036,3,0.180000,0.044839,3.740260\u001b[0m\n",
      "\u001b[32m2025-07-22 10:15:01.334\u001b[0m | \u001b[34m\u001b[1mDEBUG   \u001b[0m | \u001b[36mpygrn.evolution.evolution\u001b[0m:\u001b[36mreport\u001b[0m:\u001b[36m52\u001b[0m - \u001b[34m\u001b[1mS,2025-07-22T10:15:01.333552,4,3,91,0.717526,-477.470327,3,0.180000,0.040782,3.681319\u001b[0m\n",
      "\u001b[32m2025-07-22 10:15:01.335\u001b[0m | \u001b[34m\u001b[1mDEBUG   \u001b[0m | \u001b[36mpygrn.evolution.evolution\u001b[0m:\u001b[36mreport\u001b[0m:\u001b[36m52\u001b[0m - \u001b[34m\u001b[1mS,2025-07-22T10:15:01.334811,4,4,154,0.693754,-477.470327,3,0.140000,0.062662,3.766234\u001b[0m\n",
      "\u001b[32m2025-07-22 10:15:01.336\u001b[0m | \u001b[1mINFO    \u001b[0m | \u001b[36mpygrn.evolution.evolution\u001b[0m:\u001b[36mreport\u001b[0m:\u001b[36m80\u001b[0m - \u001b[1mGeneration 4: best fit -457.41414305738965, fit mean -528.8913438663026, fit std 45.77806772915251\u001b[0m\n"
     ]
    },
    {
     "name": "stdout",
     "output_type": "stream",
     "text": [
      "500\n"
     ]
    },
    {
     "name": "stderr",
     "output_type": "stream",
     "text": [
      "\u001b[32m2025-07-22 10:15:08.920\u001b[0m | \u001b[34m\u001b[1mDEBUG   \u001b[0m | \u001b[36mpygrn.evolution.evolution\u001b[0m:\u001b[36mreport\u001b[0m:\u001b[36m52\u001b[0m - \u001b[34m\u001b[1mS,2025-07-22T10:15:08.919526,5,0,127,0.724270,-477.457263,3,0.150000,0.063249,3.629921\u001b[0m\n",
      "\u001b[32m2025-07-22 10:15:08.921\u001b[0m | \u001b[34m\u001b[1mDEBUG   \u001b[0m | \u001b[36mpygrn.evolution.evolution\u001b[0m:\u001b[36mreport\u001b[0m:\u001b[36m52\u001b[0m - \u001b[34m\u001b[1mS,2025-07-22T10:15:08.920574,5,1,100,0.753198,-457.414143,3,0.130000,0.060153,3.530000\u001b[0m\n",
      "\u001b[32m2025-07-22 10:15:08.922\u001b[0m | \u001b[34m\u001b[1mDEBUG   \u001b[0m | \u001b[36mpygrn.evolution.evolution\u001b[0m:\u001b[36mreport\u001b[0m:\u001b[36m52\u001b[0m - \u001b[34m\u001b[1mS,2025-07-22T10:15:08.921486,5,2,128,0.700213,-476.847997,3,0.170000,0.074361,3.742188\u001b[0m\n",
      "\u001b[32m2025-07-22 10:15:08.923\u001b[0m | \u001b[34m\u001b[1mDEBUG   \u001b[0m | \u001b[36mpygrn.evolution.evolution\u001b[0m:\u001b[36mreport\u001b[0m:\u001b[36m52\u001b[0m - \u001b[34m\u001b[1mS,2025-07-22T10:15:08.922854,5,3,42,0.700589,-477.470327,3,0.190000,0.029013,3.738095\u001b[0m\n",
      "\u001b[32m2025-07-22 10:15:08.923\u001b[0m | \u001b[34m\u001b[1mDEBUG   \u001b[0m | \u001b[36mpygrn.evolution.evolution\u001b[0m:\u001b[36mreport\u001b[0m:\u001b[36m52\u001b[0m - \u001b[34m\u001b[1mS,2025-07-22T10:15:08.923477,5,4,103,0.675367,-477.470327,3,0.130000,0.061424,3.805825\u001b[0m\n",
      "\u001b[32m2025-07-22 10:15:08.924\u001b[0m | \u001b[1mINFO    \u001b[0m | \u001b[36mpygrn.evolution.evolution\u001b[0m:\u001b[36mreport\u001b[0m:\u001b[36m80\u001b[0m - \u001b[1mGeneration 5: best fit -457.41414305738965, fit mean -530.3602272607524, fit std 45.539114164969135\u001b[0m\n"
     ]
    },
    {
     "name": "stdout",
     "output_type": "stream",
     "text": [
      "500\n"
     ]
    },
    {
     "name": "stderr",
     "output_type": "stream",
     "text": [
      "\u001b[32m2025-07-22 10:15:16.304\u001b[0m | \u001b[34m\u001b[1mDEBUG   \u001b[0m | \u001b[36mpygrn.evolution.evolution\u001b[0m:\u001b[36mreport\u001b[0m:\u001b[36m52\u001b[0m - \u001b[34m\u001b[1mS,2025-07-22T10:15:16.303756,6,0,53,0.718208,-477.470327,3,0.160000,0.027338,3.660377\u001b[0m\n",
      "\u001b[32m2025-07-22 10:15:16.305\u001b[0m | \u001b[34m\u001b[1mDEBUG   \u001b[0m | \u001b[36mpygrn.evolution.evolution\u001b[0m:\u001b[36mreport\u001b[0m:\u001b[36m52\u001b[0m - \u001b[34m\u001b[1mS,2025-07-22T10:15:16.304671,6,1,96,0.738556,-477.470327,3,0.180000,0.035103,3.604167\u001b[0m\n",
      "\u001b[32m2025-07-22 10:15:16.306\u001b[0m | \u001b[34m\u001b[1mDEBUG   \u001b[0m | \u001b[36mpygrn.evolution.evolution\u001b[0m:\u001b[36mreport\u001b[0m:\u001b[36m52\u001b[0m - \u001b[34m\u001b[1mS,2025-07-22T10:15:16.306389,6,2,45,0.746267,-477.470327,3,0.140000,0.045160,3.577778\u001b[0m\n",
      "\u001b[32m2025-07-22 10:15:16.308\u001b[0m | \u001b[34m\u001b[1mDEBUG   \u001b[0m | \u001b[36mpygrn.evolution.evolution\u001b[0m:\u001b[36mreport\u001b[0m:\u001b[36m52\u001b[0m - \u001b[34m\u001b[1mS,2025-07-22T10:15:16.307478,6,3,118,0.732245,-474.168238,3,0.160000,0.047629,3.593220\u001b[0m\n",
      "\u001b[32m2025-07-22 10:15:16.309\u001b[0m | \u001b[34m\u001b[1mDEBUG   \u001b[0m | \u001b[36mpygrn.evolution.evolution\u001b[0m:\u001b[36mreport\u001b[0m:\u001b[36m52\u001b[0m - \u001b[34m\u001b[1mS,2025-07-22T10:15:16.308535,6,4,100,0.724107,-457.414143,3,0.140000,0.051231,3.620000\u001b[0m\n",
      "\u001b[32m2025-07-22 10:15:16.310\u001b[0m | \u001b[34m\u001b[1mDEBUG   \u001b[0m | \u001b[36mpygrn.evolution.evolution\u001b[0m:\u001b[36mreport\u001b[0m:\u001b[36m52\u001b[0m - \u001b[34m\u001b[1mS,2025-07-22T10:15:16.309615,6,5,88,0.719373,-477.470327,3,0.120000,0.041702,3.670455\u001b[0m\n",
      "\u001b[32m2025-07-22 10:15:16.310\u001b[0m | \u001b[1mINFO    \u001b[0m | \u001b[36mpygrn.evolution.evolution\u001b[0m:\u001b[36mreport\u001b[0m:\u001b[36m80\u001b[0m - \u001b[1mGeneration 6: best fit -457.41414305738965, fit mean -525.9292832016871, fit std 45.98016781871456\u001b[0m\n"
     ]
    },
    {
     "name": "stdout",
     "output_type": "stream",
     "text": [
      "500\n"
     ]
    },
    {
     "name": "stderr",
     "output_type": "stream",
     "text": [
      "\u001b[32m2025-07-22 10:15:23.445\u001b[0m | \u001b[34m\u001b[1mDEBUG   \u001b[0m | \u001b[36mpygrn.evolution.evolution\u001b[0m:\u001b[36mreport\u001b[0m:\u001b[36m52\u001b[0m - \u001b[34m\u001b[1mS,2025-07-22T10:15:23.445074,7,0,97,0.742811,-477.470327,3,0.150000,0.033231,3.587629\u001b[0m\n",
      "\u001b[32m2025-07-22 10:15:23.446\u001b[0m | \u001b[34m\u001b[1mDEBUG   \u001b[0m | \u001b[36mpygrn.evolution.evolution\u001b[0m:\u001b[36mreport\u001b[0m:\u001b[36m52\u001b[0m - \u001b[34m\u001b[1mS,2025-07-22T10:15:23.446210,7,1,91,0.728545,-477.470327,3,0.130000,0.047620,3.637363\u001b[0m\n",
      "\u001b[32m2025-07-22 10:15:23.447\u001b[0m | \u001b[34m\u001b[1mDEBUG   \u001b[0m | \u001b[36mpygrn.evolution.evolution\u001b[0m:\u001b[36mreport\u001b[0m:\u001b[36m52\u001b[0m - \u001b[34m\u001b[1mS,2025-07-22T10:15:23.447511,7,2,55,0.720864,-472.293283,3,0.170000,0.029497,3.618182\u001b[0m\n",
      "\u001b[32m2025-07-22 10:15:23.448\u001b[0m | \u001b[34m\u001b[1mDEBUG   \u001b[0m | \u001b[36mpygrn.evolution.evolution\u001b[0m:\u001b[36mreport\u001b[0m:\u001b[36m52\u001b[0m - \u001b[34m\u001b[1mS,2025-07-22T10:15:23.448227,7,3,83,0.711566,-457.414143,3,0.150000,0.058635,3.698795\u001b[0m\n",
      "\u001b[32m2025-07-22 10:15:23.449\u001b[0m | \u001b[34m\u001b[1mDEBUG   \u001b[0m | \u001b[36mpygrn.evolution.evolution\u001b[0m:\u001b[36mreport\u001b[0m:\u001b[36m52\u001b[0m - \u001b[34m\u001b[1mS,2025-07-22T10:15:23.448907,7,4,58,0.720961,-477.470327,3,0.190000,0.038089,3.655172\u001b[0m\n",
      "\u001b[32m2025-07-22 10:15:23.450\u001b[0m | \u001b[34m\u001b[1mDEBUG   \u001b[0m | \u001b[36mpygrn.evolution.evolution\u001b[0m:\u001b[36mreport\u001b[0m:\u001b[36m52\u001b[0m - \u001b[34m\u001b[1mS,2025-07-22T10:15:23.449585,7,5,116,0.758539,-477.470327,3,0.110000,0.039313,3.534483\u001b[0m\n",
      "\u001b[32m2025-07-22 10:15:23.450\u001b[0m | \u001b[1mINFO    \u001b[0m | \u001b[36mpygrn.evolution.evolution\u001b[0m:\u001b[36mreport\u001b[0m:\u001b[36m80\u001b[0m - \u001b[1mGeneration 7: best fit -457.41414305738965, fit mean -524.8180151971542, fit std 45.81397428600873\u001b[0m\n"
     ]
    },
    {
     "name": "stdout",
     "output_type": "stream",
     "text": [
      "500\n"
     ]
    },
    {
     "name": "stderr",
     "output_type": "stream",
     "text": [
      "\u001b[32m2025-07-22 10:15:30.734\u001b[0m | \u001b[34m\u001b[1mDEBUG   \u001b[0m | \u001b[36mpygrn.evolution.evolution\u001b[0m:\u001b[36mreport\u001b[0m:\u001b[36m52\u001b[0m - \u001b[34m\u001b[1mS,2025-07-22T10:15:30.734536,8,0,65,0.749570,-477.470327,3,0.160000,0.033993,3.553846\u001b[0m\n",
      "\u001b[32m2025-07-22 10:15:30.736\u001b[0m | \u001b[34m\u001b[1mDEBUG   \u001b[0m | \u001b[36mpygrn.evolution.evolution\u001b[0m:\u001b[36mreport\u001b[0m:\u001b[36m52\u001b[0m - \u001b[34m\u001b[1mS,2025-07-22T10:15:30.735708,8,1,71,0.709479,-477.470327,3,0.140000,0.038032,3.704225\u001b[0m\n",
      "\u001b[32m2025-07-22 10:15:30.736\u001b[0m | \u001b[34m\u001b[1mDEBUG   \u001b[0m | \u001b[36mpygrn.evolution.evolution\u001b[0m:\u001b[36mreport\u001b[0m:\u001b[36m52\u001b[0m - \u001b[34m\u001b[1mS,2025-07-22T10:15:30.736661,8,2,58,0.732386,-472.293283,3,0.180000,0.030297,3.637931\u001b[0m\n",
      "\u001b[32m2025-07-22 10:15:30.738\u001b[0m | \u001b[34m\u001b[1mDEBUG   \u001b[0m | \u001b[36mpygrn.evolution.evolution\u001b[0m:\u001b[36mreport\u001b[0m:\u001b[36m52\u001b[0m - \u001b[34m\u001b[1mS,2025-07-22T10:15:30.738386,8,3,76,0.751531,-457.414143,3,0.160000,0.056114,3.565789\u001b[0m\n",
      "\u001b[32m2025-07-22 10:15:30.740\u001b[0m | \u001b[34m\u001b[1mDEBUG   \u001b[0m | \u001b[36mpygrn.evolution.evolution\u001b[0m:\u001b[36mreport\u001b[0m:\u001b[36m52\u001b[0m - \u001b[34m\u001b[1mS,2025-07-22T10:15:30.739297,8,4,120,0.740735,-477.470327,3,0.180000,0.045434,3.591667\u001b[0m\n",
      "\u001b[32m2025-07-22 10:15:30.741\u001b[0m | \u001b[34m\u001b[1mDEBUG   \u001b[0m | \u001b[36mpygrn.evolution.evolution\u001b[0m:\u001b[36mreport\u001b[0m:\u001b[36m52\u001b[0m - \u001b[34m\u001b[1mS,2025-07-22T10:15:30.740538,8,5,110,0.758181,-477.470327,3,0.100000,0.039827,3.536364\u001b[0m\n",
      "\u001b[32m2025-07-22 10:15:30.741\u001b[0m | \u001b[1mINFO    \u001b[0m | \u001b[36mpygrn.evolution.evolution\u001b[0m:\u001b[36mreport\u001b[0m:\u001b[36m80\u001b[0m - \u001b[1mGeneration 8: best fit -457.41414305738965, fit mean -522.7351511902898, fit std 44.95239576471807\u001b[0m\n"
     ]
    },
    {
     "name": "stdout",
     "output_type": "stream",
     "text": [
      "500\n"
     ]
    },
    {
     "name": "stderr",
     "output_type": "stream",
     "text": [
      "\u001b[32m2025-07-22 10:15:38.105\u001b[0m | \u001b[34m\u001b[1mDEBUG   \u001b[0m | \u001b[36mpygrn.evolution.evolution\u001b[0m:\u001b[36mreport\u001b[0m:\u001b[36m52\u001b[0m - \u001b[34m\u001b[1mS,2025-07-22T10:15:38.104559,9,0,82,0.720662,-477.470327,3,0.170000,0.017972,3.658537\u001b[0m\n",
      "\u001b[32m2025-07-22 10:15:38.106\u001b[0m | \u001b[34m\u001b[1mDEBUG   \u001b[0m | \u001b[36mpygrn.evolution.evolution\u001b[0m:\u001b[36mreport\u001b[0m:\u001b[36m52\u001b[0m - \u001b[34m\u001b[1mS,2025-07-22T10:15:38.106207,9,1,75,0.734281,-477.470327,3,0.150000,0.044595,3.626667\u001b[0m\n",
      "\u001b[32m2025-07-22 10:15:38.107\u001b[0m | \u001b[34m\u001b[1mDEBUG   \u001b[0m | \u001b[36mpygrn.evolution.evolution\u001b[0m:\u001b[36mreport\u001b[0m:\u001b[36m52\u001b[0m - \u001b[34m\u001b[1mS,2025-07-22T10:15:38.107400,9,2,105,0.727553,-460.295278,3,0.170000,0.043381,3.619048\u001b[0m\n",
      "\u001b[32m2025-07-22 10:15:38.108\u001b[0m | \u001b[34m\u001b[1mDEBUG   \u001b[0m | \u001b[36mpygrn.evolution.evolution\u001b[0m:\u001b[36mreport\u001b[0m:\u001b[36m52\u001b[0m - \u001b[34m\u001b[1mS,2025-07-22T10:15:38.108244,9,3,83,0.737032,-457.414143,3,0.170000,0.056796,3.698795\u001b[0m\n",
      "\u001b[32m2025-07-22 10:15:38.109\u001b[0m | \u001b[34m\u001b[1mDEBUG   \u001b[0m | \u001b[36mpygrn.evolution.evolution\u001b[0m:\u001b[36mreport\u001b[0m:\u001b[36m52\u001b[0m - \u001b[34m\u001b[1mS,2025-07-22T10:15:38.108874,9,4,85,0.738714,-477.470323,3,0.170000,0.046587,3.600000\u001b[0m\n",
      "\u001b[32m2025-07-22 10:15:38.110\u001b[0m | \u001b[34m\u001b[1mDEBUG   \u001b[0m | \u001b[36mpygrn.evolution.evolution\u001b[0m:\u001b[36mreport\u001b[0m:\u001b[36m52\u001b[0m - \u001b[34m\u001b[1mS,2025-07-22T10:15:38.110134,9,5,70,0.750941,-477.470327,3,0.110000,0.045406,3.571429\u001b[0m\n",
      "\u001b[32m2025-07-22 10:15:38.111\u001b[0m | \u001b[1mINFO    \u001b[0m | \u001b[36mpygrn.evolution.evolution\u001b[0m:\u001b[36mreport\u001b[0m:\u001b[36m80\u001b[0m - \u001b[1mGeneration 9: best fit -457.41414305738965, fit mean -524.7042366932827, fit std 45.434362729059735\u001b[0m\n"
     ]
    },
    {
     "name": "stdout",
     "output_type": "stream",
     "text": [
      "500\n"
     ]
    },
    {
     "name": "stderr",
     "output_type": "stream",
     "text": [
      "\u001b[32m2025-07-22 10:15:45.961\u001b[0m | \u001b[34m\u001b[1mDEBUG   \u001b[0m | \u001b[36mpygrn.evolution.evolution\u001b[0m:\u001b[36mreport\u001b[0m:\u001b[36m52\u001b[0m - \u001b[34m\u001b[1mS,2025-07-22T10:15:45.960958,10,0,117,0.710054,-477.470327,3,0.160000,0.042061,3.692308\u001b[0m\n",
      "\u001b[32m2025-07-22 10:15:45.963\u001b[0m | \u001b[34m\u001b[1mDEBUG   \u001b[0m | \u001b[36mpygrn.evolution.evolution\u001b[0m:\u001b[36mreport\u001b[0m:\u001b[36m52\u001b[0m - \u001b[34m\u001b[1mS,2025-07-22T10:15:45.962200,10,1,90,0.763429,-477.470327,3,0.140000,0.036024,3.511111\u001b[0m\n",
      "\u001b[32m2025-07-22 10:15:45.965\u001b[0m | \u001b[34m\u001b[1mDEBUG   \u001b[0m | \u001b[36mpygrn.evolution.evolution\u001b[0m:\u001b[36mreport\u001b[0m:\u001b[36m52\u001b[0m - \u001b[34m\u001b[1mS,2025-07-22T10:15:45.964487,10,2,73,0.718465,-459.681503,3,0.180000,0.030029,3.684932\u001b[0m\n",
      "\u001b[32m2025-07-22 10:15:45.966\u001b[0m | \u001b[34m\u001b[1mDEBUG   \u001b[0m | \u001b[36mpygrn.evolution.evolution\u001b[0m:\u001b[36mreport\u001b[0m:\u001b[36m52\u001b[0m - \u001b[34m\u001b[1mS,2025-07-22T10:15:45.965815,10,3,101,0.765582,-457.414143,3,0.160000,0.046191,3.603960\u001b[0m\n",
      "\u001b[32m2025-07-22 10:15:45.967\u001b[0m | \u001b[34m\u001b[1mDEBUG   \u001b[0m | \u001b[36mpygrn.evolution.evolution\u001b[0m:\u001b[36mreport\u001b[0m:\u001b[36m52\u001b[0m - \u001b[34m\u001b[1mS,2025-07-22T10:15:45.967038,10,4,55,0.727045,-477.470327,3,0.180000,0.036122,3.636364\u001b[0m\n",
      "\u001b[32m2025-07-22 10:15:45.968\u001b[0m | \u001b[34m\u001b[1mDEBUG   \u001b[0m | \u001b[36mpygrn.evolution.evolution\u001b[0m:\u001b[36mreport\u001b[0m:\u001b[36m52\u001b[0m - \u001b[34m\u001b[1mS,2025-07-22T10:15:45.967653,10,5,64,0.737165,-477.470327,3,0.120000,0.038773,3.593750\u001b[0m\n",
      "\u001b[32m2025-07-22 10:15:45.968\u001b[0m | \u001b[1mINFO    \u001b[0m | \u001b[36mpygrn.evolution.evolution\u001b[0m:\u001b[36mreport\u001b[0m:\u001b[36m80\u001b[0m - \u001b[1mGeneration 10: best fit -457.41414305738965, fit mean -523.8769355776236, fit std 44.0442415305443\u001b[0m\n"
     ]
    },
    {
     "name": "stdout",
     "output_type": "stream",
     "text": [
      "500\n"
     ]
    },
    {
     "name": "stderr",
     "output_type": "stream",
     "text": [
      "\u001b[32m2025-07-22 10:15:54.266\u001b[0m | \u001b[34m\u001b[1mDEBUG   \u001b[0m | \u001b[36mpygrn.evolution.evolution\u001b[0m:\u001b[36mreport\u001b[0m:\u001b[36m52\u001b[0m - \u001b[34m\u001b[1mS,2025-07-22T10:15:54.266080,11,0,61,0.730988,-477.470327,3,0.170000,0.026109,3.639344\u001b[0m\n",
      "\u001b[32m2025-07-22 10:15:54.267\u001b[0m | \u001b[34m\u001b[1mDEBUG   \u001b[0m | \u001b[36mpygrn.evolution.evolution\u001b[0m:\u001b[36mreport\u001b[0m:\u001b[36m52\u001b[0m - \u001b[34m\u001b[1mS,2025-07-22T10:15:54.267326,11,1,87,0.758003,-477.470327,3,0.130000,0.037015,3.528736\u001b[0m\n",
      "\u001b[32m2025-07-22 10:15:54.269\u001b[0m | \u001b[34m\u001b[1mDEBUG   \u001b[0m | \u001b[36mpygrn.evolution.evolution\u001b[0m:\u001b[36mreport\u001b[0m:\u001b[36m52\u001b[0m - \u001b[34m\u001b[1mS,2025-07-22T10:15:54.268691,11,2,82,0.745737,-459.354506,3,0.190000,0.046144,3.621951\u001b[0m\n",
      "\u001b[32m2025-07-22 10:15:54.269\u001b[0m | \u001b[34m\u001b[1mDEBUG   \u001b[0m | \u001b[36mpygrn.evolution.evolution\u001b[0m:\u001b[36mreport\u001b[0m:\u001b[36m52\u001b[0m - \u001b[34m\u001b[1mS,2025-07-22T10:15:54.269507,11,3,74,0.760304,-457.414143,3,0.170000,0.042198,3.608108\u001b[0m\n",
      "\u001b[32m2025-07-22 10:15:54.270\u001b[0m | \u001b[34m\u001b[1mDEBUG   \u001b[0m | \u001b[36mpygrn.evolution.evolution\u001b[0m:\u001b[36mreport\u001b[0m:\u001b[36m52\u001b[0m - \u001b[34m\u001b[1mS,2025-07-22T10:15:54.270213,11,4,95,0.725697,-477.295101,3,0.170000,0.042656,3.642105\u001b[0m\n",
      "\u001b[32m2025-07-22 10:15:54.271\u001b[0m | \u001b[34m\u001b[1mDEBUG   \u001b[0m | \u001b[36mpygrn.evolution.evolution\u001b[0m:\u001b[36mreport\u001b[0m:\u001b[36m52\u001b[0m - \u001b[34m\u001b[1mS,2025-07-22T10:15:54.271026,11,5,101,0.709103,-477.470327,3,0.110000,0.036634,3.702970\u001b[0m\n",
      "\u001b[32m2025-07-22 10:15:54.272\u001b[0m | \u001b[1mINFO    \u001b[0m | \u001b[36mpygrn.evolution.evolution\u001b[0m:\u001b[36mreport\u001b[0m:\u001b[36m80\u001b[0m - \u001b[1mGeneration 11: best fit -457.41414305738965, fit mean -523.9845757556789, fit std 45.02890215725968\u001b[0m\n"
     ]
    },
    {
     "name": "stdout",
     "output_type": "stream",
     "text": [
      "500\n"
     ]
    },
    {
     "name": "stderr",
     "output_type": "stream",
     "text": [
      "\u001b[32m2025-07-22 10:16:02.251\u001b[0m | \u001b[34m\u001b[1mDEBUG   \u001b[0m | \u001b[36mpygrn.evolution.evolution\u001b[0m:\u001b[36mreport\u001b[0m:\u001b[36m52\u001b[0m - \u001b[34m\u001b[1mS,2025-07-22T10:16:02.250443,12,0,78,0.756901,-477.470327,3,0.180000,0.022667,3.525641\u001b[0m\n",
      "\u001b[32m2025-07-22 10:16:02.252\u001b[0m | \u001b[34m\u001b[1mDEBUG   \u001b[0m | \u001b[36mpygrn.evolution.evolution\u001b[0m:\u001b[36mreport\u001b[0m:\u001b[36m52\u001b[0m - \u001b[34m\u001b[1mS,2025-07-22T10:16:02.252207,12,1,57,0.753808,-477.470327,3,0.140000,0.047773,3.543860\u001b[0m\n",
      "\u001b[32m2025-07-22 10:16:02.254\u001b[0m | \u001b[34m\u001b[1mDEBUG   \u001b[0m | \u001b[36mpygrn.evolution.evolution\u001b[0m:\u001b[36mreport\u001b[0m:\u001b[36m52\u001b[0m - \u001b[34m\u001b[1mS,2025-07-22T10:16:02.253574,12,2,92,0.753779,-456.304718,3,0.180000,0.031603,3.663043\u001b[0m\n",
      "\u001b[32m2025-07-22 10:16:02.255\u001b[0m | \u001b[34m\u001b[1mDEBUG   \u001b[0m | \u001b[36mpygrn.evolution.evolution\u001b[0m:\u001b[36mreport\u001b[0m:\u001b[36m52\u001b[0m - \u001b[34m\u001b[1mS,2025-07-22T10:16:02.254979,12,3,26,0.729187,-477.470294,3,0.180000,0.031817,3.615385\u001b[0m\n",
      "\u001b[32m2025-07-22 10:16:02.256\u001b[0m | \u001b[34m\u001b[1mDEBUG   \u001b[0m | \u001b[36mpygrn.evolution.evolution\u001b[0m:\u001b[36mreport\u001b[0m:\u001b[36m52\u001b[0m - \u001b[34m\u001b[1mS,2025-07-22T10:16:02.255586,12,4,137,0.713506,-470.641883,3,0.160000,0.054962,3.642336\u001b[0m\n",
      "\u001b[32m2025-07-22 10:16:02.258\u001b[0m | \u001b[34m\u001b[1mDEBUG   \u001b[0m | \u001b[36mpygrn.evolution.evolution\u001b[0m:\u001b[36mreport\u001b[0m:\u001b[36m52\u001b[0m - \u001b[34m\u001b[1mS,2025-07-22T10:16:02.257207,12,5,110,0.726691,-477.470327,3,0.100000,0.037548,3.627273\u001b[0m\n",
      "\u001b[32m2025-07-22 10:16:02.258\u001b[0m | \u001b[1mINFO    \u001b[0m | \u001b[36mpygrn.evolution.evolution\u001b[0m:\u001b[36mreport\u001b[0m:\u001b[36m80\u001b[0m - \u001b[1mGeneration 12: best fit -456.30471830531985, fit mean -523.427163987101, fit std 46.274792645899836\u001b[0m\n"
     ]
    },
    {
     "name": "stdout",
     "output_type": "stream",
     "text": [
      "500\n"
     ]
    },
    {
     "name": "stderr",
     "output_type": "stream",
     "text": [
      "\u001b[32m2025-07-22 10:16:09.670\u001b[0m | \u001b[34m\u001b[1mDEBUG   \u001b[0m | \u001b[36mpygrn.evolution.evolution\u001b[0m:\u001b[36mreport\u001b[0m:\u001b[36m52\u001b[0m - \u001b[34m\u001b[1mS,2025-07-22T10:16:09.669687,13,0,72,0.730833,-477.470327,3,0.190000,0.021810,3.625000\u001b[0m\n",
      "\u001b[32m2025-07-22 10:16:09.671\u001b[0m | \u001b[34m\u001b[1mDEBUG   \u001b[0m | \u001b[36mpygrn.evolution.evolution\u001b[0m:\u001b[36mreport\u001b[0m:\u001b[36m52\u001b[0m - \u001b[34m\u001b[1mS,2025-07-22T10:16:09.671265,13,1,109,0.712944,-477.470327,3,0.130000,0.047807,3.678899\u001b[0m\n",
      "\u001b[32m2025-07-22 10:16:09.672\u001b[0m | \u001b[34m\u001b[1mDEBUG   \u001b[0m | \u001b[36mpygrn.evolution.evolution\u001b[0m:\u001b[36mreport\u001b[0m:\u001b[36m52\u001b[0m - \u001b[34m\u001b[1mS,2025-07-22T10:16:09.672418,13,2,76,0.776827,-456.304718,3,0.190000,0.019949,3.618421\u001b[0m\n",
      "\u001b[32m2025-07-22 10:16:09.674\u001b[0m | \u001b[34m\u001b[1mDEBUG   \u001b[0m | \u001b[36mpygrn.evolution.evolution\u001b[0m:\u001b[36mreport\u001b[0m:\u001b[36m52\u001b[0m - \u001b[34m\u001b[1mS,2025-07-22T10:16:09.673600,13,3,103,0.726242,-462.128703,3,0.170000,0.041301,3.640777\u001b[0m\n",
      "\u001b[32m2025-07-22 10:16:09.675\u001b[0m | \u001b[34m\u001b[1mDEBUG   \u001b[0m | \u001b[36mpygrn.evolution.evolution\u001b[0m:\u001b[36mreport\u001b[0m:\u001b[36m52\u001b[0m - \u001b[34m\u001b[1mS,2025-07-22T10:16:09.675056,13,4,74,0.753872,-467.085950,3,0.170000,0.041029,3.567568\u001b[0m\n",
      "\u001b[32m2025-07-22 10:16:09.676\u001b[0m | \u001b[34m\u001b[1mDEBUG   \u001b[0m | \u001b[36mpygrn.evolution.evolution\u001b[0m:\u001b[36mreport\u001b[0m:\u001b[36m52\u001b[0m - \u001b[34m\u001b[1mS,2025-07-22T10:16:09.675969,13,5,66,0.764193,-477.470327,3,0.110000,0.039585,3.500000\u001b[0m\n",
      "\u001b[32m2025-07-22 10:16:09.677\u001b[0m | \u001b[1mINFO    \u001b[0m | \u001b[36mpygrn.evolution.evolution\u001b[0m:\u001b[36mreport\u001b[0m:\u001b[36m80\u001b[0m - \u001b[1mGeneration 13: best fit -456.30471830531985, fit mean -522.2079325238327, fit std 45.33399024493093\u001b[0m\n"
     ]
    },
    {
     "name": "stdout",
     "output_type": "stream",
     "text": [
      "500\n"
     ]
    },
    {
     "name": "stderr",
     "output_type": "stream",
     "text": [
      "\u001b[32m2025-07-22 10:16:17.268\u001b[0m | \u001b[34m\u001b[1mDEBUG   \u001b[0m | \u001b[36mpygrn.evolution.evolution\u001b[0m:\u001b[36mreport\u001b[0m:\u001b[36m52\u001b[0m - \u001b[34m\u001b[1mS,2025-07-22T10:16:17.268012,14,0,60,0.715455,-477.470327,3,0.200000,0.019756,3.666667\u001b[0m\n",
      "\u001b[32m2025-07-22 10:16:17.269\u001b[0m | \u001b[34m\u001b[1mDEBUG   \u001b[0m | \u001b[36mpygrn.evolution.evolution\u001b[0m:\u001b[36mreport\u001b[0m:\u001b[36m52\u001b[0m - \u001b[34m\u001b[1mS,2025-07-22T10:16:17.269199,14,1,100,0.736390,-477.470327,3,0.120000,0.044798,3.600000\u001b[0m\n",
      "\u001b[32m2025-07-22 10:16:17.270\u001b[0m | \u001b[34m\u001b[1mDEBUG   \u001b[0m | \u001b[36mpygrn.evolution.evolution\u001b[0m:\u001b[36mreport\u001b[0m:\u001b[36m52\u001b[0m - \u001b[34m\u001b[1mS,2025-07-22T10:16:17.270300,14,2,85,0.763675,-456.304718,3,0.180000,0.017966,3.658824\u001b[0m\n",
      "\u001b[32m2025-07-22 10:16:17.271\u001b[0m | \u001b[34m\u001b[1mDEBUG   \u001b[0m | \u001b[36mpygrn.evolution.evolution\u001b[0m:\u001b[36mreport\u001b[0m:\u001b[36m52\u001b[0m - \u001b[34m\u001b[1mS,2025-07-22T10:16:17.271155,14,3,84,0.750222,-458.494048,3,0.160000,0.043907,3.642857\u001b[0m\n",
      "\u001b[32m2025-07-22 10:16:17.272\u001b[0m | \u001b[34m\u001b[1mDEBUG   \u001b[0m | \u001b[36mpygrn.evolution.evolution\u001b[0m:\u001b[36mreport\u001b[0m:\u001b[36m52\u001b[0m - \u001b[34m\u001b[1mS,2025-07-22T10:16:17.271783,14,4,79,0.746044,-467.085950,3,0.180000,0.067521,3.582278\u001b[0m\n",
      "\u001b[32m2025-07-22 10:16:17.273\u001b[0m | \u001b[34m\u001b[1mDEBUG   \u001b[0m | \u001b[36mpygrn.evolution.evolution\u001b[0m:\u001b[36mreport\u001b[0m:\u001b[36m52\u001b[0m - \u001b[34m\u001b[1mS,2025-07-22T10:16:17.272776,14,5,92,0.761885,-477.470327,3,0.100000,0.038006,3.510870\u001b[0m\n",
      "\u001b[32m2025-07-22 10:16:17.273\u001b[0m | \u001b[1mINFO    \u001b[0m | \u001b[36mpygrn.evolution.evolution\u001b[0m:\u001b[36mreport\u001b[0m:\u001b[36m80\u001b[0m - \u001b[1mGeneration 14: best fit -456.30471830531985, fit mean -520.6152135758963, fit std 44.75380325997236\u001b[0m\n"
     ]
    },
    {
     "name": "stdout",
     "output_type": "stream",
     "text": [
      "500\n"
     ]
    },
    {
     "name": "stderr",
     "output_type": "stream",
     "text": [
      "\u001b[32m2025-07-22 10:16:24.500\u001b[0m | \u001b[34m\u001b[1mDEBUG   \u001b[0m | \u001b[36mpygrn.evolution.evolution\u001b[0m:\u001b[36mreport\u001b[0m:\u001b[36m52\u001b[0m - \u001b[34m\u001b[1mS,2025-07-22T10:16:24.500022,15,0,130,0.735709,-477.470327,3,0.190000,0.030284,3.600000\u001b[0m\n",
      "\u001b[32m2025-07-22 10:16:24.502\u001b[0m | \u001b[34m\u001b[1mDEBUG   \u001b[0m | \u001b[36mpygrn.evolution.evolution\u001b[0m:\u001b[36mreport\u001b[0m:\u001b[36m52\u001b[0m - \u001b[34m\u001b[1mS,2025-07-22T10:16:24.501962,15,1,68,0.744701,-477.470327,3,0.130000,0.039427,3.558824\u001b[0m\n",
      "\u001b[32m2025-07-22 10:16:24.503\u001b[0m | \u001b[34m\u001b[1mDEBUG   \u001b[0m | \u001b[36mpygrn.evolution.evolution\u001b[0m:\u001b[36mreport\u001b[0m:\u001b[36m52\u001b[0m - \u001b[34m\u001b[1mS,2025-07-22T10:16:24.503044,15,2,71,0.751026,-456.304718,3,0.190000,0.012601,3.690141\u001b[0m\n",
      "\u001b[32m2025-07-22 10:16:24.504\u001b[0m | \u001b[34m\u001b[1mDEBUG   \u001b[0m | \u001b[36mpygrn.evolution.evolution\u001b[0m:\u001b[36mreport\u001b[0m:\u001b[36m52\u001b[0m - \u001b[34m\u001b[1mS,2025-07-22T10:16:24.504302,15,3,49,0.766169,-456.857545,3,0.170000,0.037907,3.591837\u001b[0m\n",
      "\u001b[32m2025-07-22 10:16:24.506\u001b[0m | \u001b[34m\u001b[1mDEBUG   \u001b[0m | \u001b[36mpygrn.evolution.evolution\u001b[0m:\u001b[36mreport\u001b[0m:\u001b[36m52\u001b[0m - \u001b[34m\u001b[1mS,2025-07-22T10:16:24.505322,15,4,118,0.769376,-458.494048,3,0.170000,0.029800,3.533898\u001b[0m\n",
      "\u001b[32m2025-07-22 10:16:24.507\u001b[0m | \u001b[34m\u001b[1mDEBUG   \u001b[0m | \u001b[36mpygrn.evolution.evolution\u001b[0m:\u001b[36mreport\u001b[0m:\u001b[36m52\u001b[0m - \u001b[34m\u001b[1mS,2025-07-22T10:16:24.506834,15,5,64,0.748670,-477.470327,3,0.110000,0.053324,3.562500\u001b[0m\n",
      "\u001b[32m2025-07-22 10:16:24.507\u001b[0m | \u001b[1mINFO    \u001b[0m | \u001b[36mpygrn.evolution.evolution\u001b[0m:\u001b[36mreport\u001b[0m:\u001b[36m80\u001b[0m - \u001b[1mGeneration 15: best fit -456.30471830531985, fit mean -519.4355256378454, fit std 44.66268594576196\u001b[0m\n"
     ]
    },
    {
     "name": "stdout",
     "output_type": "stream",
     "text": [
      "500\n"
     ]
    },
    {
     "name": "stderr",
     "output_type": "stream",
     "text": [
      "\u001b[32m2025-07-22 10:16:31.744\u001b[0m | \u001b[34m\u001b[1mDEBUG   \u001b[0m | \u001b[36mpygrn.evolution.evolution\u001b[0m:\u001b[36mreport\u001b[0m:\u001b[36m52\u001b[0m - \u001b[34m\u001b[1mS,2025-07-22T10:16:31.744465,16,0,94,0.738797,-477.470327,3,0.180000,0.031886,3.585106\u001b[0m\n",
      "\u001b[32m2025-07-22 10:16:31.746\u001b[0m | \u001b[34m\u001b[1mDEBUG   \u001b[0m | \u001b[36mpygrn.evolution.evolution\u001b[0m:\u001b[36mreport\u001b[0m:\u001b[36m52\u001b[0m - \u001b[34m\u001b[1mS,2025-07-22T10:16:31.745773,16,1,60,0.712974,-477.470327,3,0.140000,0.048286,3.683333\u001b[0m\n",
      "\u001b[32m2025-07-22 10:16:31.748\u001b[0m | \u001b[34m\u001b[1mDEBUG   \u001b[0m | \u001b[36mpygrn.evolution.evolution\u001b[0m:\u001b[36mreport\u001b[0m:\u001b[36m52\u001b[0m - \u001b[34m\u001b[1mS,2025-07-22T10:16:31.747502,16,2,139,0.778993,-456.304718,3,0.180000,0.025269,3.669065\u001b[0m\n",
      "\u001b[32m2025-07-22 10:16:31.749\u001b[0m | \u001b[34m\u001b[1mDEBUG   \u001b[0m | \u001b[36mpygrn.evolution.evolution\u001b[0m:\u001b[36mreport\u001b[0m:\u001b[36m52\u001b[0m - \u001b[34m\u001b[1mS,2025-07-22T10:16:31.749179,16,3,87,0.735605,-477.470274,3,0.160000,0.049279,3.586207\u001b[0m\n",
      "\u001b[32m2025-07-22 10:16:31.750\u001b[0m | \u001b[34m\u001b[1mDEBUG   \u001b[0m | \u001b[36mpygrn.evolution.evolution\u001b[0m:\u001b[36mreport\u001b[0m:\u001b[36m52\u001b[0m - \u001b[34m\u001b[1mS,2025-07-22T10:16:31.750584,16,4,72,0.745899,-458.694487,3,0.180000,0.044572,3.597222\u001b[0m\n",
      "\u001b[32m2025-07-22 10:16:31.752\u001b[0m | \u001b[34m\u001b[1mDEBUG   \u001b[0m | \u001b[36mpygrn.evolution.evolution\u001b[0m:\u001b[36mreport\u001b[0m:\u001b[36m52\u001b[0m - \u001b[34m\u001b[1mS,2025-07-22T10:16:31.751950,16,5,48,0.729460,-477.470327,3,0.120000,0.038730,3.604167\u001b[0m\n",
      "\u001b[32m2025-07-22 10:16:31.752\u001b[0m | \u001b[1mINFO    \u001b[0m | \u001b[36mpygrn.evolution.evolution\u001b[0m:\u001b[36mreport\u001b[0m:\u001b[36m80\u001b[0m - \u001b[1mGeneration 16: best fit -456.30471830531985, fit mean -520.7709730481789, fit std 43.80041374781882\u001b[0m\n"
     ]
    },
    {
     "name": "stdout",
     "output_type": "stream",
     "text": [
      "500\n"
     ]
    },
    {
     "name": "stderr",
     "output_type": "stream",
     "text": [
      "\u001b[32m2025-07-22 10:16:39.070\u001b[0m | \u001b[34m\u001b[1mDEBUG   \u001b[0m | \u001b[36mpygrn.evolution.evolution\u001b[0m:\u001b[36mreport\u001b[0m:\u001b[36m52\u001b[0m - \u001b[34m\u001b[1mS,2025-07-22T10:16:39.069966,17,0,75,0.726781,-477.470327,3,0.190000,0.032412,3.626667\u001b[0m\n",
      "\u001b[32m2025-07-22 10:16:39.071\u001b[0m | \u001b[34m\u001b[1mDEBUG   \u001b[0m | \u001b[36mpygrn.evolution.evolution\u001b[0m:\u001b[36mreport\u001b[0m:\u001b[36m52\u001b[0m - \u001b[34m\u001b[1mS,2025-07-22T10:16:39.071057,17,1,46,0.751776,-477.470327,3,0.150000,0.040134,3.543478\u001b[0m\n",
      "\u001b[32m2025-07-22 10:16:39.073\u001b[0m | \u001b[34m\u001b[1mDEBUG   \u001b[0m | \u001b[36mpygrn.evolution.evolution\u001b[0m:\u001b[36mreport\u001b[0m:\u001b[36m52\u001b[0m - \u001b[34m\u001b[1mS,2025-07-22T10:16:39.072574,17,2,102,0.778990,-456.304718,3,0.170000,0.030970,3.715686\u001b[0m\n",
      "\u001b[32m2025-07-22 10:16:39.073\u001b[0m | \u001b[34m\u001b[1mDEBUG   \u001b[0m | \u001b[36mpygrn.evolution.evolution\u001b[0m:\u001b[36mreport\u001b[0m:\u001b[36m52\u001b[0m - \u001b[34m\u001b[1mS,2025-07-22T10:16:39.073367,17,3,69,0.732726,-477.470327,3,0.170000,0.040323,3.608696\u001b[0m\n",
      "\u001b[32m2025-07-22 10:16:39.074\u001b[0m | \u001b[34m\u001b[1mDEBUG   \u001b[0m | \u001b[36mpygrn.evolution.evolution\u001b[0m:\u001b[36mreport\u001b[0m:\u001b[36m52\u001b[0m - \u001b[34m\u001b[1mS,2025-07-22T10:16:39.073990,17,4,90,0.747269,-458.694487,3,0.170000,0.034652,3.622222\u001b[0m\n",
      "\u001b[32m2025-07-22 10:16:39.075\u001b[0m | \u001b[34m\u001b[1mDEBUG   \u001b[0m | \u001b[36mpygrn.evolution.evolution\u001b[0m:\u001b[36mreport\u001b[0m:\u001b[36m52\u001b[0m - \u001b[34m\u001b[1mS,2025-07-22T10:16:39.075013,17,5,118,0.738315,-477.470327,3,0.110000,0.045512,3.593220\u001b[0m\n",
      "\u001b[32m2025-07-22 10:16:39.076\u001b[0m | \u001b[1mINFO    \u001b[0m | \u001b[36mpygrn.evolution.evolution\u001b[0m:\u001b[36mreport\u001b[0m:\u001b[36m80\u001b[0m - \u001b[1mGeneration 17: best fit -456.30471830531985, fit mean -520.6393914303013, fit std 44.21504350003702\u001b[0m\n"
     ]
    },
    {
     "name": "stdout",
     "output_type": "stream",
     "text": [
      "500\n"
     ]
    },
    {
     "name": "stderr",
     "output_type": "stream",
     "text": [
      "\u001b[32m2025-07-22 10:16:46.419\u001b[0m | \u001b[34m\u001b[1mDEBUG   \u001b[0m | \u001b[36mpygrn.evolution.evolution\u001b[0m:\u001b[36mreport\u001b[0m:\u001b[36m52\u001b[0m - \u001b[34m\u001b[1mS,2025-07-22T10:16:46.418762,18,0,61,0.706150,-477.470327,3,0.200000,0.042509,3.704918\u001b[0m\n",
      "\u001b[32m2025-07-22 10:16:46.420\u001b[0m | \u001b[34m\u001b[1mDEBUG   \u001b[0m | \u001b[36mpygrn.evolution.evolution\u001b[0m:\u001b[36mreport\u001b[0m:\u001b[36m52\u001b[0m - \u001b[34m\u001b[1mS,2025-07-22T10:16:46.420282,18,1,65,0.724931,-477.470327,3,0.160000,0.032541,3.630769\u001b[0m\n",
      "\u001b[32m2025-07-22 10:16:46.422\u001b[0m | \u001b[34m\u001b[1mDEBUG   \u001b[0m | \u001b[36mpygrn.evolution.evolution\u001b[0m:\u001b[36mreport\u001b[0m:\u001b[36m52\u001b[0m - \u001b[34m\u001b[1mS,2025-07-22T10:16:46.421539,18,2,91,0.782054,-456.304718,3,0.160000,0.023421,3.725275\u001b[0m\n",
      "\u001b[32m2025-07-22 10:16:46.423\u001b[0m | \u001b[34m\u001b[1mDEBUG   \u001b[0m | \u001b[36mpygrn.evolution.evolution\u001b[0m:\u001b[36mreport\u001b[0m:\u001b[36m52\u001b[0m - \u001b[34m\u001b[1mS,2025-07-22T10:16:46.422636,18,3,138,0.740632,-477.470327,3,0.160000,0.037970,3.586957\u001b[0m\n",
      "\u001b[32m2025-07-22 10:16:46.424\u001b[0m | \u001b[34m\u001b[1mDEBUG   \u001b[0m | \u001b[36mpygrn.evolution.evolution\u001b[0m:\u001b[36mreport\u001b[0m:\u001b[36m52\u001b[0m - \u001b[34m\u001b[1mS,2025-07-22T10:16:46.423932,18,4,88,0.775963,-457.674068,3,0.160000,0.042479,3.545455\u001b[0m\n",
      "\u001b[32m2025-07-22 10:16:46.424\u001b[0m | \u001b[34m\u001b[1mDEBUG   \u001b[0m | \u001b[36mpygrn.evolution.evolution\u001b[0m:\u001b[36mreport\u001b[0m:\u001b[36m52\u001b[0m - \u001b[34m\u001b[1mS,2025-07-22T10:16:46.424656,18,5,57,0.753808,-477.470327,3,0.120000,0.035272,3.543860\u001b[0m\n",
      "\u001b[32m2025-07-22 10:16:46.425\u001b[0m | \u001b[1mINFO    \u001b[0m | \u001b[36mpygrn.evolution.evolution\u001b[0m:\u001b[36mreport\u001b[0m:\u001b[36m80\u001b[0m - \u001b[1mGeneration 18: best fit -456.30471830531985, fit mean -519.9574697906323, fit std 45.47123772507631\u001b[0m\n"
     ]
    },
    {
     "name": "stdout",
     "output_type": "stream",
     "text": [
      "500\n"
     ]
    },
    {
     "name": "stderr",
     "output_type": "stream",
     "text": [
      "\u001b[32m2025-07-22 10:16:54.091\u001b[0m | \u001b[34m\u001b[1mDEBUG   \u001b[0m | \u001b[36mpygrn.evolution.evolution\u001b[0m:\u001b[36mreport\u001b[0m:\u001b[36m52\u001b[0m - \u001b[34m\u001b[1mS,2025-07-22T10:16:54.091245,19,0,65,0.715580,-477.470327,3,0.210000,0.021148,3.676923\u001b[0m\n",
      "\u001b[32m2025-07-22 10:16:54.092\u001b[0m | \u001b[34m\u001b[1mDEBUG   \u001b[0m | \u001b[36mpygrn.evolution.evolution\u001b[0m:\u001b[36mreport\u001b[0m:\u001b[36m52\u001b[0m - \u001b[34m\u001b[1mS,2025-07-22T10:16:54.092513,19,1,78,0.712307,-477.470327,3,0.170000,0.038077,3.679487\u001b[0m\n",
      "\u001b[32m2025-07-22 10:16:54.094\u001b[0m | \u001b[34m\u001b[1mDEBUG   \u001b[0m | \u001b[36mpygrn.evolution.evolution\u001b[0m:\u001b[36mreport\u001b[0m:\u001b[36m52\u001b[0m - \u001b[34m\u001b[1mS,2025-07-22T10:16:54.093611,19,2,61,0.753596,-456.304718,3,0.170000,0.008258,3.786885\u001b[0m\n",
      "\u001b[32m2025-07-22 10:16:54.095\u001b[0m | \u001b[34m\u001b[1mDEBUG   \u001b[0m | \u001b[36mpygrn.evolution.evolution\u001b[0m:\u001b[36mreport\u001b[0m:\u001b[36m52\u001b[0m - \u001b[34m\u001b[1mS,2025-07-22T10:16:54.094666,19,3,99,0.706510,-477.470327,3,0.150000,0.062783,3.707071\u001b[0m\n",
      "\u001b[32m2025-07-22 10:16:54.096\u001b[0m | \u001b[34m\u001b[1mDEBUG   \u001b[0m | \u001b[36mpygrn.evolution.evolution\u001b[0m:\u001b[36mreport\u001b[0m:\u001b[36m52\u001b[0m - \u001b[34m\u001b[1mS,2025-07-22T10:16:54.095791,19,4,92,0.785845,-457.204193,3,0.150000,0.047624,3.554348\u001b[0m\n",
      "\u001b[32m2025-07-22 10:16:54.097\u001b[0m | \u001b[34m\u001b[1mDEBUG   \u001b[0m | \u001b[36mpygrn.evolution.evolution\u001b[0m:\u001b[36mreport\u001b[0m:\u001b[36m52\u001b[0m - \u001b[34m\u001b[1mS,2025-07-22T10:16:54.097033,19,5,105,0.694021,-477.470327,3,0.110000,0.052957,3.733333\u001b[0m\n",
      "\u001b[32m2025-07-22 10:16:54.098\u001b[0m | \u001b[1mINFO    \u001b[0m | \u001b[36mpygrn.evolution.evolution\u001b[0m:\u001b[36mreport\u001b[0m:\u001b[36m80\u001b[0m - \u001b[1mGeneration 19: best fit -456.30471830531985, fit mean -525.8892049044745, fit std 45.54040115488821\u001b[0m\n"
     ]
    },
    {
     "name": "stdout",
     "output_type": "stream",
     "text": [
      "500\n"
     ]
    },
    {
     "name": "stderr",
     "output_type": "stream",
     "text": [
      "\u001b[32m2025-07-22 10:17:01.350\u001b[0m | \u001b[34m\u001b[1mDEBUG   \u001b[0m | \u001b[36mpygrn.evolution.evolution\u001b[0m:\u001b[36mreport\u001b[0m:\u001b[36m52\u001b[0m - \u001b[34m\u001b[1mS,2025-07-22T10:17:01.349759,20,0,64,0.765526,-477.470327,3,0.220000,0.023915,3.500000\u001b[0m\n",
      "\u001b[32m2025-07-22 10:17:01.351\u001b[0m | \u001b[34m\u001b[1mDEBUG   \u001b[0m | \u001b[36mpygrn.evolution.evolution\u001b[0m:\u001b[36mreport\u001b[0m:\u001b[36m52\u001b[0m - \u001b[34m\u001b[1mS,2025-07-22T10:17:01.351439,20,1,81,0.694081,-477.470327,3,0.180000,0.035083,3.740741\u001b[0m\n",
      "\u001b[32m2025-07-22 10:17:01.353\u001b[0m | \u001b[34m\u001b[1mDEBUG   \u001b[0m | \u001b[36mpygrn.evolution.evolution\u001b[0m:\u001b[36mreport\u001b[0m:\u001b[36m52\u001b[0m - \u001b[34m\u001b[1mS,2025-07-22T10:17:01.352555,20,2,103,0.788467,-456.304035,3,0.160000,0.014177,3.699029\u001b[0m\n",
      "\u001b[32m2025-07-22 10:17:01.353\u001b[0m | \u001b[34m\u001b[1mDEBUG   \u001b[0m | \u001b[36mpygrn.evolution.evolution\u001b[0m:\u001b[36mreport\u001b[0m:\u001b[36m52\u001b[0m - \u001b[34m\u001b[1mS,2025-07-22T10:17:01.353484,20,3,73,0.691849,-477.470327,3,0.160000,0.054039,3.739726\u001b[0m\n",
      "\u001b[32m2025-07-22 10:17:01.354\u001b[0m | \u001b[34m\u001b[1mDEBUG   \u001b[0m | \u001b[36mpygrn.evolution.evolution\u001b[0m:\u001b[36mreport\u001b[0m:\u001b[36m52\u001b[0m - \u001b[34m\u001b[1mS,2025-07-22T10:17:01.354193,20,4,90,0.767740,-457.674068,3,0.140000,0.036145,3.600000\u001b[0m\n",
      "\u001b[32m2025-07-22 10:17:01.356\u001b[0m | \u001b[34m\u001b[1mDEBUG   \u001b[0m | \u001b[36mpygrn.evolution.evolution\u001b[0m:\u001b[36mreport\u001b[0m:\u001b[36m52\u001b[0m - \u001b[34m\u001b[1mS,2025-07-22T10:17:01.355373,20,5,89,0.734090,-477.470327,3,0.100000,0.036120,3.606742\u001b[0m\n",
      "\u001b[32m2025-07-22 10:17:01.356\u001b[0m | \u001b[1mINFO    \u001b[0m | \u001b[36mpygrn.evolution.evolution\u001b[0m:\u001b[36mreport\u001b[0m:\u001b[36m80\u001b[0m - \u001b[1mGeneration 20: best fit -456.3040350997032, fit mean -521.7162522865269, fit std 45.372702053905\u001b[0m\n"
     ]
    },
    {
     "name": "stdout",
     "output_type": "stream",
     "text": [
      "500\n"
     ]
    },
    {
     "name": "stderr",
     "output_type": "stream",
     "text": [
      "\u001b[32m2025-07-22 10:17:08.696\u001b[0m | \u001b[34m\u001b[1mDEBUG   \u001b[0m | \u001b[36mpygrn.evolution.evolution\u001b[0m:\u001b[36mreport\u001b[0m:\u001b[36m52\u001b[0m - \u001b[34m\u001b[1mS,2025-07-22T10:17:08.696251,21,0,93,0.766015,-477.470327,3,0.210000,0.029078,3.494624\u001b[0m\n",
      "\u001b[32m2025-07-22 10:17:08.698\u001b[0m | \u001b[34m\u001b[1mDEBUG   \u001b[0m | \u001b[36mpygrn.evolution.evolution\u001b[0m:\u001b[36mreport\u001b[0m:\u001b[36m52\u001b[0m - \u001b[34m\u001b[1mS,2025-07-22T10:17:08.697643,21,1,121,0.710097,-477.470327,3,0.170000,0.032384,3.685950\u001b[0m\n",
      "\u001b[32m2025-07-22 10:17:08.700\u001b[0m | \u001b[34m\u001b[1mDEBUG   \u001b[0m | \u001b[36mpygrn.evolution.evolution\u001b[0m:\u001b[36mreport\u001b[0m:\u001b[36m52\u001b[0m - \u001b[34m\u001b[1mS,2025-07-22T10:17:08.699728,21,2,98,0.797220,-456.304035,3,0.150000,0.022771,3.683673\u001b[0m\n",
      "\u001b[32m2025-07-22 10:17:08.701\u001b[0m | \u001b[34m\u001b[1mDEBUG   \u001b[0m | \u001b[36mpygrn.evolution.evolution\u001b[0m:\u001b[36mreport\u001b[0m:\u001b[36m52\u001b[0m - \u001b[34m\u001b[1mS,2025-07-22T10:17:08.701298,21,3,75,0.708423,-477.470327,3,0.170000,0.049303,3.706667\u001b[0m\n",
      "\u001b[32m2025-07-22 10:17:08.702\u001b[0m | \u001b[34m\u001b[1mDEBUG   \u001b[0m | \u001b[36mpygrn.evolution.evolution\u001b[0m:\u001b[36mreport\u001b[0m:\u001b[36m52\u001b[0m - \u001b[34m\u001b[1mS,2025-07-22T10:17:08.702512,21,4,70,0.750970,-458.017473,3,0.150000,0.032100,3.685714\u001b[0m\n",
      "\u001b[32m2025-07-22 10:17:08.703\u001b[0m | \u001b[34m\u001b[1mDEBUG   \u001b[0m | \u001b[36mpygrn.evolution.evolution\u001b[0m:\u001b[36mreport\u001b[0m:\u001b[36m52\u001b[0m - \u001b[34m\u001b[1mS,2025-07-22T10:17:08.703238,21,5,43,0.727719,-477.470327,3,0.110000,0.043852,3.627907\u001b[0m\n",
      "\u001b[32m2025-07-22 10:17:08.704\u001b[0m | \u001b[1mINFO    \u001b[0m | \u001b[36mpygrn.evolution.evolution\u001b[0m:\u001b[36mreport\u001b[0m:\u001b[36m80\u001b[0m - \u001b[1mGeneration 21: best fit -456.3040350997032, fit mean -521.2493041061563, fit std 45.08130388166439\u001b[0m\n"
     ]
    },
    {
     "name": "stdout",
     "output_type": "stream",
     "text": [
      "500\n"
     ]
    },
    {
     "name": "stderr",
     "output_type": "stream",
     "text": [
      "\u001b[32m2025-07-22 10:17:15.840\u001b[0m | \u001b[34m\u001b[1mDEBUG   \u001b[0m | \u001b[36mpygrn.evolution.evolution\u001b[0m:\u001b[36mreport\u001b[0m:\u001b[36m52\u001b[0m - \u001b[34m\u001b[1mS,2025-07-22T10:17:15.839203,22,0,121,0.741304,-477.470327,3,0.200000,0.035328,3.570248\u001b[0m\n",
      "\u001b[32m2025-07-22 10:17:15.841\u001b[0m | \u001b[34m\u001b[1mDEBUG   \u001b[0m | \u001b[36mpygrn.evolution.evolution\u001b[0m:\u001b[36mreport\u001b[0m:\u001b[36m52\u001b[0m - \u001b[34m\u001b[1mS,2025-07-22T10:17:15.841325,22,1,56,0.735728,-477.470327,3,0.180000,0.050241,3.607143\u001b[0m\n",
      "\u001b[32m2025-07-22 10:17:15.843\u001b[0m | \u001b[34m\u001b[1mDEBUG   \u001b[0m | \u001b[36mpygrn.evolution.evolution\u001b[0m:\u001b[36mreport\u001b[0m:\u001b[36m52\u001b[0m - \u001b[34m\u001b[1mS,2025-07-22T10:17:15.842648,22,2,99,0.818066,-456.304035,3,0.140000,0.052717,3.545455\u001b[0m\n",
      "\u001b[32m2025-07-22 10:17:15.844\u001b[0m | \u001b[34m\u001b[1mDEBUG   \u001b[0m | \u001b[36mpygrn.evolution.evolution\u001b[0m:\u001b[36mreport\u001b[0m:\u001b[36m52\u001b[0m - \u001b[34m\u001b[1mS,2025-07-22T10:17:15.844037,22,3,61,0.746804,-477.470319,3,0.180000,0.053721,3.573770\u001b[0m\n",
      "\u001b[32m2025-07-22 10:17:15.845\u001b[0m | \u001b[34m\u001b[1mDEBUG   \u001b[0m | \u001b[36mpygrn.evolution.evolution\u001b[0m:\u001b[36mreport\u001b[0m:\u001b[36m52\u001b[0m - \u001b[34m\u001b[1mS,2025-07-22T10:17:15.844788,22,4,112,0.754794,-458.017473,3,0.140000,0.029693,3.607143\u001b[0m\n",
      "\u001b[32m2025-07-22 10:17:15.846\u001b[0m | \u001b[34m\u001b[1mDEBUG   \u001b[0m | \u001b[36mpygrn.evolution.evolution\u001b[0m:\u001b[36mreport\u001b[0m:\u001b[36m52\u001b[0m - \u001b[34m\u001b[1mS,2025-07-22T10:17:15.846020,22,5,51,0.786183,-477.470327,3,0.120000,0.044630,3.431373\u001b[0m\n",
      "\u001b[32m2025-07-22 10:17:15.846\u001b[0m | \u001b[1mINFO    \u001b[0m | \u001b[36mpygrn.evolution.evolution\u001b[0m:\u001b[36mreport\u001b[0m:\u001b[36m80\u001b[0m - \u001b[1mGeneration 22: best fit -456.3040350997032, fit mean -516.2689721237267, fit std 44.09473069506911\u001b[0m\n"
     ]
    },
    {
     "name": "stdout",
     "output_type": "stream",
     "text": [
      "500\n"
     ]
    },
    {
     "name": "stderr",
     "output_type": "stream",
     "text": [
      "\u001b[32m2025-07-22 10:17:23.175\u001b[0m | \u001b[34m\u001b[1mDEBUG   \u001b[0m | \u001b[36mpygrn.evolution.evolution\u001b[0m:\u001b[36mreport\u001b[0m:\u001b[36m52\u001b[0m - \u001b[34m\u001b[1mS,2025-07-22T10:17:23.174835,23,0,67,0.736484,-477.470327,3,0.210000,0.032981,3.597015\u001b[0m\n",
      "\u001b[32m2025-07-22 10:17:23.176\u001b[0m | \u001b[34m\u001b[1mDEBUG   \u001b[0m | \u001b[36mpygrn.evolution.evolution\u001b[0m:\u001b[36mreport\u001b[0m:\u001b[36m52\u001b[0m - \u001b[34m\u001b[1mS,2025-07-22T10:17:23.175776,23,1,109,0.754752,-477.470327,3,0.170000,0.040921,3.532110\u001b[0m\n",
      "\u001b[32m2025-07-22 10:17:23.177\u001b[0m | \u001b[34m\u001b[1mDEBUG   \u001b[0m | \u001b[36mpygrn.evolution.evolution\u001b[0m:\u001b[36mreport\u001b[0m:\u001b[36m52\u001b[0m - \u001b[34m\u001b[1mS,2025-07-22T10:17:23.176909,23,2,96,0.773966,-456.304035,3,0.130000,0.058244,3.666667\u001b[0m\n",
      "\u001b[32m2025-07-22 10:17:23.178\u001b[0m | \u001b[34m\u001b[1mDEBUG   \u001b[0m | \u001b[36mpygrn.evolution.evolution\u001b[0m:\u001b[36mreport\u001b[0m:\u001b[36m52\u001b[0m - \u001b[34m\u001b[1mS,2025-07-22T10:17:23.177927,23,3,55,0.766033,-477.470327,3,0.190000,0.041366,3.490909\u001b[0m\n",
      "\u001b[32m2025-07-22 10:17:23.179\u001b[0m | \u001b[34m\u001b[1mDEBUG   \u001b[0m | \u001b[36mpygrn.evolution.evolution\u001b[0m:\u001b[36mreport\u001b[0m:\u001b[36m52\u001b[0m - \u001b[34m\u001b[1mS,2025-07-22T10:17:23.178911,23,4,87,0.775932,-457.184744,3,0.130000,0.062777,3.505747\u001b[0m\n",
      "\u001b[32m2025-07-22 10:17:23.180\u001b[0m | \u001b[34m\u001b[1mDEBUG   \u001b[0m | \u001b[36mpygrn.evolution.evolution\u001b[0m:\u001b[36mreport\u001b[0m:\u001b[36m52\u001b[0m - \u001b[34m\u001b[1mS,2025-07-22T10:17:23.179990,23,5,86,0.731715,-458.740294,3,0.110000,0.039955,3.616279\u001b[0m\n",
      "\u001b[32m2025-07-22 10:17:23.180\u001b[0m | \u001b[1mINFO    \u001b[0m | \u001b[36mpygrn.evolution.evolution\u001b[0m:\u001b[36mreport\u001b[0m:\u001b[36m80\u001b[0m - \u001b[1mGeneration 23: best fit -456.3040350997032, fit mean -518.097480418232, fit std 43.22900668705554\u001b[0m\n"
     ]
    },
    {
     "name": "stdout",
     "output_type": "stream",
     "text": [
      "500\n"
     ]
    },
    {
     "name": "stderr",
     "output_type": "stream",
     "text": [
      "\u001b[32m2025-07-22 10:17:30.646\u001b[0m | \u001b[34m\u001b[1mDEBUG   \u001b[0m | \u001b[36mpygrn.evolution.evolution\u001b[0m:\u001b[36mreport\u001b[0m:\u001b[36m52\u001b[0m - \u001b[34m\u001b[1mS,2025-07-22T10:17:30.645417,24,0,111,0.713206,-477.470327,3,0.200000,0.052739,3.684685\u001b[0m\n",
      "\u001b[32m2025-07-22 10:17:30.647\u001b[0m | \u001b[34m\u001b[1mDEBUG   \u001b[0m | \u001b[36mpygrn.evolution.evolution\u001b[0m:\u001b[36mreport\u001b[0m:\u001b[36m52\u001b[0m - \u001b[34m\u001b[1mS,2025-07-22T10:17:30.647583,24,1,47,0.771643,-477.470327,3,0.180000,0.035688,3.468085\u001b[0m\n",
      "\u001b[32m2025-07-22 10:17:30.649\u001b[0m | \u001b[34m\u001b[1mDEBUG   \u001b[0m | \u001b[36mpygrn.evolution.evolution\u001b[0m:\u001b[36mreport\u001b[0m:\u001b[36m52\u001b[0m - \u001b[34m\u001b[1mS,2025-07-22T10:17:30.648648,24,2,65,0.796914,-456.304035,3,0.140000,0.025976,3.723077\u001b[0m\n",
      "\u001b[32m2025-07-22 10:17:30.650\u001b[0m | \u001b[34m\u001b[1mDEBUG   \u001b[0m | \u001b[36mpygrn.evolution.evolution\u001b[0m:\u001b[36mreport\u001b[0m:\u001b[36m52\u001b[0m - \u001b[34m\u001b[1mS,2025-07-22T10:17:30.649838,24,3,90,0.710441,-477.470327,3,0.180000,0.038173,3.677778\u001b[0m\n",
      "\u001b[32m2025-07-22 10:17:30.651\u001b[0m | \u001b[34m\u001b[1mDEBUG   \u001b[0m | \u001b[36mpygrn.evolution.evolution\u001b[0m:\u001b[36mreport\u001b[0m:\u001b[36m52\u001b[0m - \u001b[34m\u001b[1mS,2025-07-22T10:17:30.651225,24,4,90,0.768006,-457.184744,3,0.120000,0.026640,3.588889\u001b[0m\n",
      "\u001b[32m2025-07-22 10:17:30.652\u001b[0m | \u001b[34m\u001b[1mDEBUG   \u001b[0m | \u001b[36mpygrn.evolution.evolution\u001b[0m:\u001b[36mreport\u001b[0m:\u001b[36m52\u001b[0m - \u001b[34m\u001b[1mS,2025-07-22T10:17:30.652489,24,5,97,0.734006,-477.470327,3,0.100000,0.040637,3.608247\u001b[0m\n",
      "\u001b[32m2025-07-22 10:17:30.653\u001b[0m | \u001b[1mINFO    \u001b[0m | \u001b[36mpygrn.evolution.evolution\u001b[0m:\u001b[36mreport\u001b[0m:\u001b[36m80\u001b[0m - \u001b[1mGeneration 24: best fit -456.3040350997032, fit mean -521.65046020776, fit std 44.7807364998438\u001b[0m\n"
     ]
    },
    {
     "name": "stdout",
     "output_type": "stream",
     "text": [
      "500\n"
     ]
    },
    {
     "name": "stderr",
     "output_type": "stream",
     "text": [
      "\u001b[32m2025-07-22 10:17:37.788\u001b[0m | \u001b[34m\u001b[1mDEBUG   \u001b[0m | \u001b[36mpygrn.evolution.evolution\u001b[0m:\u001b[36mreport\u001b[0m:\u001b[36m52\u001b[0m - \u001b[34m\u001b[1mS,2025-07-22T10:17:37.788471,25,0,65,0.707279,-477.470327,3,0.210000,0.038993,3.707692\u001b[0m\n",
      "\u001b[32m2025-07-22 10:17:37.790\u001b[0m | \u001b[34m\u001b[1mDEBUG   \u001b[0m | \u001b[36mpygrn.evolution.evolution\u001b[0m:\u001b[36mreport\u001b[0m:\u001b[36m52\u001b[0m - \u001b[34m\u001b[1mS,2025-07-22T10:17:37.789549,25,1,97,0.752225,-477.470327,3,0.170000,0.036584,3.536082\u001b[0m\n",
      "\u001b[32m2025-07-22 10:17:37.791\u001b[0m | \u001b[34m\u001b[1mDEBUG   \u001b[0m | \u001b[36mpygrn.evolution.evolution\u001b[0m:\u001b[36mreport\u001b[0m:\u001b[36m52\u001b[0m - \u001b[34m\u001b[1mS,2025-07-22T10:17:37.791170,25,2,108,0.803614,-456.304035,3,0.130000,0.018722,3.601852\u001b[0m\n",
      "\u001b[32m2025-07-22 10:17:37.792\u001b[0m | \u001b[34m\u001b[1mDEBUG   \u001b[0m | \u001b[36mpygrn.evolution.evolution\u001b[0m:\u001b[36mreport\u001b[0m:\u001b[36m52\u001b[0m - \u001b[34m\u001b[1mS,2025-07-22T10:17:37.792246,25,3,58,0.716112,-477.470327,3,0.190000,0.045818,3.672414\u001b[0m\n",
      "\u001b[32m2025-07-22 10:17:37.793\u001b[0m | \u001b[34m\u001b[1mDEBUG   \u001b[0m | \u001b[36mpygrn.evolution.evolution\u001b[0m:\u001b[36mreport\u001b[0m:\u001b[36m52\u001b[0m - \u001b[34m\u001b[1mS,2025-07-22T10:17:37.792807,25,4,83,0.774942,-457.126657,3,0.130000,0.032806,3.614458\u001b[0m\n",
      "\u001b[32m2025-07-22 10:17:37.794\u001b[0m | \u001b[34m\u001b[1mDEBUG   \u001b[0m | \u001b[36mpygrn.evolution.evolution\u001b[0m:\u001b[36mreport\u001b[0m:\u001b[36m52\u001b[0m - \u001b[34m\u001b[1mS,2025-07-22T10:17:37.793609,25,5,89,0.728457,-477.470327,3,0.090000,0.043162,3.617978\u001b[0m\n",
      "\u001b[32m2025-07-22 10:17:37.794\u001b[0m | \u001b[1mINFO    \u001b[0m | \u001b[36mpygrn.evolution.evolution\u001b[0m:\u001b[36mreport\u001b[0m:\u001b[36m80\u001b[0m - \u001b[1mGeneration 25: best fit -456.3040350997032, fit mean -519.1459343437386, fit std 45.17873155348943\u001b[0m\n"
     ]
    },
    {
     "name": "stdout",
     "output_type": "stream",
     "text": [
      "500\n"
     ]
    },
    {
     "name": "stderr",
     "output_type": "stream",
     "text": [
      "\u001b[32m2025-07-22 10:17:44.795\u001b[0m | \u001b[34m\u001b[1mDEBUG   \u001b[0m | \u001b[36mpygrn.evolution.evolution\u001b[0m:\u001b[36mreport\u001b[0m:\u001b[36m52\u001b[0m - \u001b[34m\u001b[1mS,2025-07-22T10:17:44.794922,26,0,86,0.711569,-477.470327,3,0.200000,0.047994,3.686047\u001b[0m\n",
      "\u001b[32m2025-07-22 10:17:44.796\u001b[0m | \u001b[34m\u001b[1mDEBUG   \u001b[0m | \u001b[36mpygrn.evolution.evolution\u001b[0m:\u001b[36mreport\u001b[0m:\u001b[36m52\u001b[0m - \u001b[34m\u001b[1mS,2025-07-22T10:17:44.796032,26,1,96,0.740112,-477.470327,3,0.160000,0.043114,3.583333\u001b[0m\n",
      "\u001b[32m2025-07-22 10:17:44.798\u001b[0m | \u001b[34m\u001b[1mDEBUG   \u001b[0m | \u001b[36mpygrn.evolution.evolution\u001b[0m:\u001b[36mreport\u001b[0m:\u001b[36m52\u001b[0m - \u001b[34m\u001b[1mS,2025-07-22T10:17:44.797480,26,2,94,0.804650,-456.304035,3,0.120000,0.018349,3.553191\u001b[0m\n",
      "\u001b[32m2025-07-22 10:17:44.798\u001b[0m | \u001b[34m\u001b[1mDEBUG   \u001b[0m | \u001b[36mpygrn.evolution.evolution\u001b[0m:\u001b[36mreport\u001b[0m:\u001b[36m52\u001b[0m - \u001b[34m\u001b[1mS,2025-07-22T10:17:44.798465,26,3,69,0.678004,-457.126657,3,0.200000,0.045662,3.811594\u001b[0m\n",
      "\u001b[32m2025-07-22 10:17:44.799\u001b[0m | \u001b[34m\u001b[1mDEBUG   \u001b[0m | \u001b[36mpygrn.evolution.evolution\u001b[0m:\u001b[36mreport\u001b[0m:\u001b[36m52\u001b[0m - \u001b[34m\u001b[1mS,2025-07-22T10:17:44.799132,26,4,64,0.743689,-457.175576,3,0.140000,0.024819,3.609375\u001b[0m\n",
      "\u001b[32m2025-07-22 10:17:44.800\u001b[0m | \u001b[34m\u001b[1mDEBUG   \u001b[0m | \u001b[36mpygrn.evolution.evolution\u001b[0m:\u001b[36mreport\u001b[0m:\u001b[36m52\u001b[0m - \u001b[34m\u001b[1mS,2025-07-22T10:17:44.799774,26,5,91,0.775797,-477.470327,3,0.080000,0.046466,3.472527\u001b[0m\n",
      "\u001b[32m2025-07-22 10:17:44.800\u001b[0m | \u001b[1mINFO    \u001b[0m | \u001b[36mpygrn.evolution.evolution\u001b[0m:\u001b[36mreport\u001b[0m:\u001b[36m80\u001b[0m - \u001b[1mGeneration 26: best fit -456.3040350997032, fit mean -520.9551773827426, fit std 44.60168909183452\u001b[0m\n"
     ]
    },
    {
     "name": "stdout",
     "output_type": "stream",
     "text": [
      "500\n"
     ]
    },
    {
     "name": "stderr",
     "output_type": "stream",
     "text": [
      "\u001b[32m2025-07-22 10:17:52.341\u001b[0m | \u001b[34m\u001b[1mDEBUG   \u001b[0m | \u001b[36mpygrn.evolution.evolution\u001b[0m:\u001b[36mreport\u001b[0m:\u001b[36m52\u001b[0m - \u001b[34m\u001b[1mS,2025-07-22T10:17:52.341467,27,0,72,0.696254,-477.470327,3,0.210000,0.041313,3.736111\u001b[0m\n",
      "\u001b[32m2025-07-22 10:17:52.343\u001b[0m | \u001b[34m\u001b[1mDEBUG   \u001b[0m | \u001b[36mpygrn.evolution.evolution\u001b[0m:\u001b[36mreport\u001b[0m:\u001b[36m52\u001b[0m - \u001b[34m\u001b[1mS,2025-07-22T10:17:52.342488,27,1,72,0.738183,-477.470327,3,0.170000,0.050077,3.597222\u001b[0m\n",
      "\u001b[32m2025-07-22 10:17:52.344\u001b[0m | \u001b[34m\u001b[1mDEBUG   \u001b[0m | \u001b[36mpygrn.evolution.evolution\u001b[0m:\u001b[36mreport\u001b[0m:\u001b[36m52\u001b[0m - \u001b[34m\u001b[1mS,2025-07-22T10:17:52.343525,27,2,75,0.808355,-456.255455,3,0.130000,0.009340,3.720000\u001b[0m\n",
      "\u001b[32m2025-07-22 10:17:52.345\u001b[0m | \u001b[34m\u001b[1mDEBUG   \u001b[0m | \u001b[36mpygrn.evolution.evolution\u001b[0m:\u001b[36mreport\u001b[0m:\u001b[36m52\u001b[0m - \u001b[34m\u001b[1mS,2025-07-22T10:17:52.344743,27,3,83,0.701713,-477.469109,3,0.210000,0.027095,3.710843\u001b[0m\n",
      "\u001b[32m2025-07-22 10:17:52.346\u001b[0m | \u001b[34m\u001b[1mDEBUG   \u001b[0m | \u001b[36mpygrn.evolution.evolution\u001b[0m:\u001b[36mreport\u001b[0m:\u001b[36m52\u001b[0m - \u001b[34m\u001b[1mS,2025-07-22T10:17:52.346016,27,4,113,0.760111,-457.126657,3,0.130000,0.037223,3.663717\u001b[0m\n",
      "\u001b[32m2025-07-22 10:17:52.347\u001b[0m | \u001b[34m\u001b[1mDEBUG   \u001b[0m | \u001b[36mpygrn.evolution.evolution\u001b[0m:\u001b[36mreport\u001b[0m:\u001b[36m52\u001b[0m - \u001b[34m\u001b[1mS,2025-07-22T10:17:52.347228,27,5,85,0.745218,-477.470302,3,0.070000,0.037828,3.564706\u001b[0m\n",
      "\u001b[32m2025-07-22 10:17:52.348\u001b[0m | \u001b[1mINFO    \u001b[0m | \u001b[36mpygrn.evolution.evolution\u001b[0m:\u001b[36mreport\u001b[0m:\u001b[36m80\u001b[0m - \u001b[1mGeneration 27: best fit -456.2554553279155, fit mean -521.6688109290783, fit std 46.140244030636396\u001b[0m\n"
     ]
    },
    {
     "name": "stdout",
     "output_type": "stream",
     "text": [
      "500\n"
     ]
    },
    {
     "name": "stderr",
     "output_type": "stream",
     "text": [
      "\u001b[32m2025-07-22 10:17:59.523\u001b[0m | \u001b[34m\u001b[1mDEBUG   \u001b[0m | \u001b[36mpygrn.evolution.evolution\u001b[0m:\u001b[36mreport\u001b[0m:\u001b[36m52\u001b[0m - \u001b[34m\u001b[1mS,2025-07-22T10:17:59.523258,28,0,92,0.682899,-477.470327,3,0.200000,0.057470,3.793478\u001b[0m\n",
      "\u001b[32m2025-07-22 10:17:59.525\u001b[0m | \u001b[34m\u001b[1mDEBUG   \u001b[0m | \u001b[36mpygrn.evolution.evolution\u001b[0m:\u001b[36mreport\u001b[0m:\u001b[36m52\u001b[0m - \u001b[34m\u001b[1mS,2025-07-22T10:17:59.525388,28,1,51,0.737415,-477.470327,3,0.180000,0.036183,3.588235\u001b[0m\n",
      "\u001b[32m2025-07-22 10:17:59.526\u001b[0m | \u001b[34m\u001b[1mDEBUG   \u001b[0m | \u001b[36mpygrn.evolution.evolution\u001b[0m:\u001b[36mreport\u001b[0m:\u001b[36m52\u001b[0m - \u001b[34m\u001b[1mS,2025-07-22T10:17:59.526323,28,2,101,0.784088,-456.255455,3,0.120000,0.019259,3.702970\u001b[0m\n",
      "\u001b[32m2025-07-22 10:17:59.527\u001b[0m | \u001b[34m\u001b[1mDEBUG   \u001b[0m | \u001b[36mpygrn.evolution.evolution\u001b[0m:\u001b[36mreport\u001b[0m:\u001b[36m52\u001b[0m - \u001b[34m\u001b[1mS,2025-07-22T10:17:59.527302,28,3,84,0.746557,-477.470327,3,0.200000,0.050766,3.535714\u001b[0m\n",
      "\u001b[32m2025-07-22 10:17:59.528\u001b[0m | \u001b[34m\u001b[1mDEBUG   \u001b[0m | \u001b[36mpygrn.evolution.evolution\u001b[0m:\u001b[36mreport\u001b[0m:\u001b[36m52\u001b[0m - \u001b[34m\u001b[1mS,2025-07-22T10:17:59.528043,28,4,77,0.786365,-457.126657,3,0.140000,0.031742,3.532468\u001b[0m\n",
      "\u001b[32m2025-07-22 10:17:59.529\u001b[0m | \u001b[34m\u001b[1mDEBUG   \u001b[0m | \u001b[36mpygrn.evolution.evolution\u001b[0m:\u001b[36mreport\u001b[0m:\u001b[36m52\u001b[0m - \u001b[34m\u001b[1mS,2025-07-22T10:17:59.528731,28,5,95,0.754036,-457.567033,3,0.060000,0.040324,3.557895\u001b[0m\n",
      "\u001b[32m2025-07-22 10:17:59.529\u001b[0m | \u001b[1mINFO    \u001b[0m | \u001b[36mpygrn.evolution.evolution\u001b[0m:\u001b[36mreport\u001b[0m:\u001b[36m80\u001b[0m - \u001b[1mGeneration 28: best fit -456.2554553279155, fit mean -520.0729519077714, fit std 46.4656780657232\u001b[0m\n"
     ]
    },
    {
     "name": "stdout",
     "output_type": "stream",
     "text": [
      "500\n"
     ]
    },
    {
     "name": "stderr",
     "output_type": "stream",
     "text": [
      "\u001b[32m2025-07-22 10:18:06.500\u001b[0m | \u001b[34m\u001b[1mDEBUG   \u001b[0m | \u001b[36mpygrn.evolution.evolution\u001b[0m:\u001b[36mreport\u001b[0m:\u001b[36m52\u001b[0m - \u001b[34m\u001b[1mS,2025-07-22T10:18:06.500483,29,0,106,0.748619,-477.470327,3,0.190000,0.067447,3.556604\u001b[0m\n",
      "\u001b[32m2025-07-22 10:18:06.502\u001b[0m | \u001b[34m\u001b[1mDEBUG   \u001b[0m | \u001b[36mpygrn.evolution.evolution\u001b[0m:\u001b[36mreport\u001b[0m:\u001b[36m52\u001b[0m - \u001b[34m\u001b[1mS,2025-07-22T10:18:06.501635,29,1,75,0.733994,-477.470327,3,0.190000,0.046627,3.613333\u001b[0m\n",
      "\u001b[32m2025-07-22 10:18:06.503\u001b[0m | \u001b[34m\u001b[1mDEBUG   \u001b[0m | \u001b[36mpygrn.evolution.evolution\u001b[0m:\u001b[36mreport\u001b[0m:\u001b[36m52\u001b[0m - \u001b[34m\u001b[1mS,2025-07-22T10:18:06.502682,29,2,99,0.785944,-456.255455,3,0.110000,0.019395,3.676768\u001b[0m\n",
      "\u001b[32m2025-07-22 10:18:06.504\u001b[0m | \u001b[34m\u001b[1mDEBUG   \u001b[0m | \u001b[36mpygrn.evolution.evolution\u001b[0m:\u001b[36mreport\u001b[0m:\u001b[36m52\u001b[0m - \u001b[34m\u001b[1mS,2025-07-22T10:18:06.503771,29,3,82,0.751860,-477.468994,3,0.210000,0.047562,3.536585\u001b[0m\n",
      "\u001b[32m2025-07-22 10:18:06.505\u001b[0m | \u001b[34m\u001b[1mDEBUG   \u001b[0m | \u001b[36mpygrn.evolution.evolution\u001b[0m:\u001b[36mreport\u001b[0m:\u001b[36m52\u001b[0m - \u001b[34m\u001b[1mS,2025-07-22T10:18:06.504647,29,4,97,0.771449,-457.126657,3,0.130000,0.029728,3.618557\u001b[0m\n",
      "\u001b[32m2025-07-22 10:18:06.505\u001b[0m | \u001b[34m\u001b[1mDEBUG   \u001b[0m | \u001b[36mpygrn.evolution.evolution\u001b[0m:\u001b[36mreport\u001b[0m:\u001b[36m52\u001b[0m - \u001b[34m\u001b[1mS,2025-07-22T10:18:06.505402,29,5,41,0.712805,-477.470322,3,0.070000,0.027790,3.609756\u001b[0m\n",
      "\u001b[32m2025-07-22 10:18:06.506\u001b[0m | \u001b[1mINFO    \u001b[0m | \u001b[36mpygrn.evolution.evolution\u001b[0m:\u001b[36mreport\u001b[0m:\u001b[36m80\u001b[0m - \u001b[1mGeneration 29: best fit -456.2554553279155, fit mean -518.344874969992, fit std 44.83545681812924\u001b[0m\n"
     ]
    },
    {
     "name": "stdout",
     "output_type": "stream",
     "text": [
      "500\n"
     ]
    },
    {
     "name": "stderr",
     "output_type": "stream",
     "text": [
      "\u001b[32m2025-07-22 10:18:13.382\u001b[0m | \u001b[34m\u001b[1mDEBUG   \u001b[0m | \u001b[36mpygrn.evolution.evolution\u001b[0m:\u001b[36mreport\u001b[0m:\u001b[36m52\u001b[0m - \u001b[34m\u001b[1mS,2025-07-22T10:18:13.381931,30,0,60,0.757781,-477.470327,3,0.200000,0.045988,3.516667\u001b[0m\n",
      "\u001b[32m2025-07-22 10:18:13.383\u001b[0m | \u001b[34m\u001b[1mDEBUG   \u001b[0m | \u001b[36mpygrn.evolution.evolution\u001b[0m:\u001b[36mreport\u001b[0m:\u001b[36m52\u001b[0m - \u001b[34m\u001b[1mS,2025-07-22T10:18:13.382981,30,1,94,0.777364,-477.470327,3,0.180000,0.045013,3.457447\u001b[0m\n",
      "\u001b[32m2025-07-22 10:18:13.385\u001b[0m | \u001b[34m\u001b[1mDEBUG   \u001b[0m | \u001b[36mpygrn.evolution.evolution\u001b[0m:\u001b[36mreport\u001b[0m:\u001b[36m52\u001b[0m - \u001b[34m\u001b[1mS,2025-07-22T10:18:13.384828,30,2,82,0.805160,-456.255455,3,0.120000,0.015704,3.634146\u001b[0m\n",
      "\u001b[32m2025-07-22 10:18:13.386\u001b[0m | \u001b[34m\u001b[1mDEBUG   \u001b[0m | \u001b[36mpygrn.evolution.evolution\u001b[0m:\u001b[36mreport\u001b[0m:\u001b[36m52\u001b[0m - \u001b[34m\u001b[1mS,2025-07-22T10:18:13.385941,30,3,96,0.761097,-460.579752,3,0.200000,0.042126,3.541667\u001b[0m\n",
      "\u001b[32m2025-07-22 10:18:13.387\u001b[0m | \u001b[34m\u001b[1mDEBUG   \u001b[0m | \u001b[36mpygrn.evolution.evolution\u001b[0m:\u001b[36mreport\u001b[0m:\u001b[36m52\u001b[0m - \u001b[34m\u001b[1mS,2025-07-22T10:18:13.387193,30,4,94,0.783249,-457.126657,3,0.120000,0.029674,3.585106\u001b[0m\n",
      "\u001b[32m2025-07-22 10:18:13.388\u001b[0m | \u001b[34m\u001b[1mDEBUG   \u001b[0m | \u001b[36mpygrn.evolution.evolution\u001b[0m:\u001b[36mreport\u001b[0m:\u001b[36m52\u001b[0m - \u001b[34m\u001b[1mS,2025-07-22T10:18:13.388234,30,5,74,0.724075,-477.461108,3,0.080000,0.028319,3.635135\u001b[0m\n",
      "\u001b[32m2025-07-22 10:18:13.389\u001b[0m | \u001b[1mINFO    \u001b[0m | \u001b[36mpygrn.evolution.evolution\u001b[0m:\u001b[36mreport\u001b[0m:\u001b[36m80\u001b[0m - \u001b[1mGeneration 30: best fit -456.2554553279155, fit mean -514.8281243733687, fit std 42.23201612671239\u001b[0m\n"
     ]
    },
    {
     "name": "stdout",
     "output_type": "stream",
     "text": [
      "500\n"
     ]
    },
    {
     "name": "stderr",
     "output_type": "stream",
     "text": [
      "\u001b[32m2025-07-22 10:18:20.441\u001b[0m | \u001b[34m\u001b[1mDEBUG   \u001b[0m | \u001b[36mpygrn.evolution.evolution\u001b[0m:\u001b[36mreport\u001b[0m:\u001b[36m52\u001b[0m - \u001b[34m\u001b[1mS,2025-07-22T10:18:20.440627,31,0,72,0.757300,-477.470327,3,0.210000,0.043232,3.513889\u001b[0m\n",
      "\u001b[32m2025-07-22 10:18:20.442\u001b[0m | \u001b[34m\u001b[1mDEBUG   \u001b[0m | \u001b[36mpygrn.evolution.evolution\u001b[0m:\u001b[36mreport\u001b[0m:\u001b[36m52\u001b[0m - \u001b[34m\u001b[1mS,2025-07-22T10:18:20.441568,31,1,99,0.746012,-477.470327,3,0.170000,0.038545,3.555556\u001b[0m\n",
      "\u001b[32m2025-07-22 10:18:20.443\u001b[0m | \u001b[34m\u001b[1mDEBUG   \u001b[0m | \u001b[36mpygrn.evolution.evolution\u001b[0m:\u001b[36mreport\u001b[0m:\u001b[36m52\u001b[0m - \u001b[34m\u001b[1mS,2025-07-22T10:18:20.442646,31,2,95,0.764665,-456.255455,3,0.110000,0.046517,3.673684\u001b[0m\n",
      "\u001b[32m2025-07-22 10:18:20.444\u001b[0m | \u001b[34m\u001b[1mDEBUG   \u001b[0m | \u001b[36mpygrn.evolution.evolution\u001b[0m:\u001b[36mreport\u001b[0m:\u001b[36m52\u001b[0m - \u001b[34m\u001b[1mS,2025-07-22T10:18:20.443719,31,3,66,0.721506,-477.470327,3,0.210000,0.035581,3.651515\u001b[0m\n",
      "\u001b[32m2025-07-22 10:18:20.445\u001b[0m | \u001b[34m\u001b[1mDEBUG   \u001b[0m | \u001b[36mpygrn.evolution.evolution\u001b[0m:\u001b[36mreport\u001b[0m:\u001b[36m52\u001b[0m - \u001b[34m\u001b[1mS,2025-07-22T10:18:20.444687,31,4,127,0.760272,-456.432410,3,0.110000,0.030611,3.645669\u001b[0m\n",
      "\u001b[32m2025-07-22 10:18:20.445\u001b[0m | \u001b[34m\u001b[1mDEBUG   \u001b[0m | \u001b[36mpygrn.evolution.evolution\u001b[0m:\u001b[36mreport\u001b[0m:\u001b[36m52\u001b[0m - \u001b[34m\u001b[1mS,2025-07-22T10:18:20.445706,31,5,41,0.737110,-477.470327,3,0.090000,0.041066,3.585366\u001b[0m\n",
      "\u001b[32m2025-07-22 10:18:20.446\u001b[0m | \u001b[1mINFO    \u001b[0m | \u001b[36mpygrn.evolution.evolution\u001b[0m:\u001b[36mreport\u001b[0m:\u001b[36m80\u001b[0m - \u001b[1mGeneration 31: best fit -456.2554553279155, fit mean -519.6165659617924, fit std 42.940233226617295\u001b[0m\n"
     ]
    },
    {
     "name": "stdout",
     "output_type": "stream",
     "text": [
      "500\n"
     ]
    },
    {
     "name": "stderr",
     "output_type": "stream",
     "text": [
      "\u001b[32m2025-07-22 10:18:27.723\u001b[0m | \u001b[34m\u001b[1mDEBUG   \u001b[0m | \u001b[36mpygrn.evolution.evolution\u001b[0m:\u001b[36mreport\u001b[0m:\u001b[36m52\u001b[0m - \u001b[34m\u001b[1mS,2025-07-22T10:18:27.723031,32,0,87,0.724338,-477.470327,3,0.200000,0.046391,3.632184\u001b[0m\n",
      "\u001b[32m2025-07-22 10:18:27.724\u001b[0m | \u001b[34m\u001b[1mDEBUG   \u001b[0m | \u001b[36mpygrn.evolution.evolution\u001b[0m:\u001b[36mreport\u001b[0m:\u001b[36m52\u001b[0m - \u001b[34m\u001b[1mS,2025-07-22T10:18:27.724238,32,1,71,0.723536,-477.470327,3,0.180000,0.045512,3.633803\u001b[0m\n",
      "\u001b[32m2025-07-22 10:18:27.726\u001b[0m | \u001b[34m\u001b[1mDEBUG   \u001b[0m | \u001b[36mpygrn.evolution.evolution\u001b[0m:\u001b[36mreport\u001b[0m:\u001b[36m52\u001b[0m - \u001b[34m\u001b[1mS,2025-07-22T10:18:27.725317,32,2,96,0.804522,-456.255455,3,0.100000,0.016740,3.583333\u001b[0m\n",
      "\u001b[32m2025-07-22 10:18:27.727\u001b[0m | \u001b[34m\u001b[1mDEBUG   \u001b[0m | \u001b[36mpygrn.evolution.evolution\u001b[0m:\u001b[36mreport\u001b[0m:\u001b[36m52\u001b[0m - \u001b[34m\u001b[1mS,2025-07-22T10:18:27.726756,32,3,64,0.697961,-477.470327,3,0.220000,0.041325,3.750000\u001b[0m\n",
      "\u001b[32m2025-07-22 10:18:27.728\u001b[0m | \u001b[34m\u001b[1mDEBUG   \u001b[0m | \u001b[36mpygrn.evolution.evolution\u001b[0m:\u001b[36mreport\u001b[0m:\u001b[36m52\u001b[0m - \u001b[34m\u001b[1mS,2025-07-22T10:18:27.727424,32,4,68,0.792570,-456.748531,3,0.120000,0.032973,3.617647\u001b[0m\n",
      "\u001b[32m2025-07-22 10:18:27.729\u001b[0m | \u001b[34m\u001b[1mDEBUG   \u001b[0m | \u001b[36mpygrn.evolution.evolution\u001b[0m:\u001b[36mreport\u001b[0m:\u001b[36m52\u001b[0m - \u001b[34m\u001b[1mS,2025-07-22T10:18:27.728462,32,5,114,0.745044,-477.459849,3,0.080000,0.038559,3.561404\u001b[0m\n",
      "\u001b[32m2025-07-22 10:18:27.729\u001b[0m | \u001b[1mINFO    \u001b[0m | \u001b[36mpygrn.evolution.evolution\u001b[0m:\u001b[36mreport\u001b[0m:\u001b[36m80\u001b[0m - \u001b[1mGeneration 32: best fit -456.2554553279155, fit mean -519.7678863799075, fit std 45.11250881614231\u001b[0m\n"
     ]
    },
    {
     "name": "stdout",
     "output_type": "stream",
     "text": [
      "500\n"
     ]
    },
    {
     "name": "stderr",
     "output_type": "stream",
     "text": [
      "\u001b[32m2025-07-22 10:18:35.149\u001b[0m | \u001b[34m\u001b[1mDEBUG   \u001b[0m | \u001b[36mpygrn.evolution.evolution\u001b[0m:\u001b[36mreport\u001b[0m:\u001b[36m52\u001b[0m - \u001b[34m\u001b[1mS,2025-07-22T10:18:35.149157,33,0,77,0.698643,-477.470327,3,0.210000,0.036295,3.740260\u001b[0m\n",
      "\u001b[32m2025-07-22 10:18:35.151\u001b[0m | \u001b[34m\u001b[1mDEBUG   \u001b[0m | \u001b[36mpygrn.evolution.evolution\u001b[0m:\u001b[36mreport\u001b[0m:\u001b[36m52\u001b[0m - \u001b[34m\u001b[1mS,2025-07-22T10:18:35.150709,33,1,102,0.720212,-477.470327,3,0.170000,0.037697,3.666667\u001b[0m\n",
      "\u001b[32m2025-07-22 10:18:35.152\u001b[0m | \u001b[34m\u001b[1mDEBUG   \u001b[0m | \u001b[36mpygrn.evolution.evolution\u001b[0m:\u001b[36mreport\u001b[0m:\u001b[36m52\u001b[0m - \u001b[34m\u001b[1mS,2025-07-22T10:18:35.152297,33,2,73,0.827674,-456.255455,3,0.110000,0.012502,3.561644\u001b[0m\n",
      "\u001b[32m2025-07-22 10:18:35.154\u001b[0m | \u001b[34m\u001b[1mDEBUG   \u001b[0m | \u001b[36mpygrn.evolution.evolution\u001b[0m:\u001b[36mreport\u001b[0m:\u001b[36m52\u001b[0m - \u001b[34m\u001b[1mS,2025-07-22T10:18:35.153656,33,3,87,0.693117,-477.455853,3,0.210000,0.036429,3.735632\u001b[0m\n",
      "\u001b[32m2025-07-22 10:18:35.155\u001b[0m | \u001b[34m\u001b[1mDEBUG   \u001b[0m | \u001b[36mpygrn.evolution.evolution\u001b[0m:\u001b[36mreport\u001b[0m:\u001b[36m52\u001b[0m - \u001b[34m\u001b[1mS,2025-07-22T10:18:35.154804,33,4,104,0.798131,-456.359784,3,0.110000,0.021314,3.625000\u001b[0m\n",
      "\u001b[32m2025-07-22 10:18:35.155\u001b[0m | \u001b[34m\u001b[1mDEBUG   \u001b[0m | \u001b[36mpygrn.evolution.evolution\u001b[0m:\u001b[36mreport\u001b[0m:\u001b[36m52\u001b[0m - \u001b[34m\u001b[1mS,2025-07-22T10:18:35.155666,33,5,57,0.791220,-477.470045,3,0.090000,0.046140,3.403509\u001b[0m\n",
      "\u001b[32m2025-07-22 10:18:35.156\u001b[0m | \u001b[1mINFO    \u001b[0m | \u001b[36mpygrn.evolution.evolution\u001b[0m:\u001b[36mreport\u001b[0m:\u001b[36m80\u001b[0m - \u001b[1mGeneration 33: best fit -456.2554553279155, fit mean -519.2786853351955, fit std 46.976886877443924\u001b[0m\n"
     ]
    },
    {
     "name": "stdout",
     "output_type": "stream",
     "text": [
      "500\n"
     ]
    },
    {
     "name": "stderr",
     "output_type": "stream",
     "text": [
      "\u001b[32m2025-07-22 10:18:42.412\u001b[0m | \u001b[34m\u001b[1mDEBUG   \u001b[0m | \u001b[36mpygrn.evolution.evolution\u001b[0m:\u001b[36mreport\u001b[0m:\u001b[36m52\u001b[0m - \u001b[34m\u001b[1mS,2025-07-22T10:18:42.412247,34,0,87,0.743771,-477.470327,3,0.200000,0.042312,3.574713\u001b[0m\n",
      "\u001b[32m2025-07-22 10:18:42.414\u001b[0m | \u001b[34m\u001b[1mDEBUG   \u001b[0m | \u001b[36mpygrn.evolution.evolution\u001b[0m:\u001b[36mreport\u001b[0m:\u001b[36m52\u001b[0m - \u001b[34m\u001b[1mS,2025-07-22T10:18:42.413472,34,1,92,0.748904,-477.470327,3,0.160000,0.036611,3.554348\u001b[0m\n",
      "\u001b[32m2025-07-22 10:18:42.415\u001b[0m | \u001b[34m\u001b[1mDEBUG   \u001b[0m | \u001b[36mpygrn.evolution.evolution\u001b[0m:\u001b[36mreport\u001b[0m:\u001b[36m52\u001b[0m - \u001b[34m\u001b[1mS,2025-07-22T10:18:42.414692,34,2,127,0.805070,-456.176355,3,0.100000,0.022821,3.629921\u001b[0m\n",
      "\u001b[32m2025-07-22 10:18:42.416\u001b[0m | \u001b[34m\u001b[1mDEBUG   \u001b[0m | \u001b[36mpygrn.evolution.evolution\u001b[0m:\u001b[36mreport\u001b[0m:\u001b[36m52\u001b[0m - \u001b[34m\u001b[1mS,2025-07-22T10:18:42.415796,34,3,69,0.720982,-477.450691,3,0.220000,0.042766,3.623188\u001b[0m\n",
      "\u001b[32m2025-07-22 10:18:42.417\u001b[0m | \u001b[34m\u001b[1mDEBUG   \u001b[0m | \u001b[36mpygrn.evolution.evolution\u001b[0m:\u001b[36mreport\u001b[0m:\u001b[36m52\u001b[0m - \u001b[34m\u001b[1mS,2025-07-22T10:18:42.416659,34,4,68,0.791197,-457.161444,3,0.120000,0.042209,3.617647\u001b[0m\n",
      "\u001b[32m2025-07-22 10:18:42.417\u001b[0m | \u001b[34m\u001b[1mDEBUG   \u001b[0m | \u001b[36mpygrn.evolution.evolution\u001b[0m:\u001b[36mreport\u001b[0m:\u001b[36m52\u001b[0m - \u001b[34m\u001b[1mS,2025-07-22T10:18:42.417315,34,5,57,0.694515,-477.470327,3,0.100000,0.021072,3.736842\u001b[0m\n",
      "\u001b[32m2025-07-22 10:18:42.418\u001b[0m | \u001b[1mINFO    \u001b[0m | \u001b[36mpygrn.evolution.evolution\u001b[0m:\u001b[36mreport\u001b[0m:\u001b[36m80\u001b[0m - \u001b[1mGeneration 34: best fit -456.17635478553916, fit mean -517.741812639083, fit std 44.421435363784106\u001b[0m\n"
     ]
    },
    {
     "name": "stdout",
     "output_type": "stream",
     "text": [
      "500\n"
     ]
    },
    {
     "name": "stderr",
     "output_type": "stream",
     "text": [
      "\u001b[32m2025-07-22 10:18:49.688\u001b[0m | \u001b[34m\u001b[1mDEBUG   \u001b[0m | \u001b[36mpygrn.evolution.evolution\u001b[0m:\u001b[36mreport\u001b[0m:\u001b[36m52\u001b[0m - \u001b[34m\u001b[1mS,2025-07-22T10:18:49.688203,35,0,92,0.740550,-477.470327,3,0.190000,0.047103,3.586957\u001b[0m\n",
      "\u001b[32m2025-07-22 10:18:49.690\u001b[0m | \u001b[34m\u001b[1mDEBUG   \u001b[0m | \u001b[36mpygrn.evolution.evolution\u001b[0m:\u001b[36mreport\u001b[0m:\u001b[36m52\u001b[0m - \u001b[34m\u001b[1mS,2025-07-22T10:18:49.689657,35,1,73,0.766798,-477.470327,3,0.170000,0.048191,3.493151\u001b[0m\n",
      "\u001b[32m2025-07-22 10:18:49.691\u001b[0m | \u001b[34m\u001b[1mDEBUG   \u001b[0m | \u001b[36mpygrn.evolution.evolution\u001b[0m:\u001b[36mreport\u001b[0m:\u001b[36m52\u001b[0m - \u001b[34m\u001b[1mS,2025-07-22T10:18:49.691138,35,2,86,0.776038,-456.176355,3,0.090000,0.018404,3.662791\u001b[0m\n",
      "\u001b[32m2025-07-22 10:18:49.692\u001b[0m | \u001b[34m\u001b[1mDEBUG   \u001b[0m | \u001b[36mpygrn.evolution.evolution\u001b[0m:\u001b[36mreport\u001b[0m:\u001b[36m52\u001b[0m - \u001b[34m\u001b[1mS,2025-07-22T10:18:49.692039,35,3,135,0.755817,-456.975478,3,0.210000,0.038370,3.622222\u001b[0m\n",
      "\u001b[32m2025-07-22 10:18:49.693\u001b[0m | \u001b[34m\u001b[1mDEBUG   \u001b[0m | \u001b[36mpygrn.evolution.evolution\u001b[0m:\u001b[36mreport\u001b[0m:\u001b[36m52\u001b[0m - \u001b[34m\u001b[1mS,2025-07-22T10:18:49.693206,35,4,34,0.835525,-457.488775,3,0.130000,0.021774,3.411765\u001b[0m\n",
      "\u001b[32m2025-07-22 10:18:49.694\u001b[0m | \u001b[34m\u001b[1mDEBUG   \u001b[0m | \u001b[36mpygrn.evolution.evolution\u001b[0m:\u001b[36mreport\u001b[0m:\u001b[36m52\u001b[0m - \u001b[34m\u001b[1mS,2025-07-22T10:18:49.693768,35,5,80,0.696937,-477.470320,3,0.110000,0.023720,3.725000\u001b[0m\n",
      "\u001b[32m2025-07-22 10:18:49.695\u001b[0m | \u001b[1mINFO    \u001b[0m | \u001b[36mpygrn.evolution.evolution\u001b[0m:\u001b[36mreport\u001b[0m:\u001b[36m80\u001b[0m - \u001b[1mGeneration 35: best fit -456.17635478553916, fit mean -518.7305109676913, fit std 44.1735656989379\u001b[0m\n"
     ]
    },
    {
     "name": "stdout",
     "output_type": "stream",
     "text": [
      "500\n"
     ]
    },
    {
     "name": "stderr",
     "output_type": "stream",
     "text": [
      "\u001b[32m2025-07-22 10:18:57.003\u001b[0m | \u001b[34m\u001b[1mDEBUG   \u001b[0m | \u001b[36mpygrn.evolution.evolution\u001b[0m:\u001b[36mreport\u001b[0m:\u001b[36m52\u001b[0m - \u001b[34m\u001b[1mS,2025-07-22T10:18:57.002794,36,0,90,0.719296,-477.470327,3,0.180000,0.038252,3.644444\u001b[0m\n",
      "\u001b[32m2025-07-22 10:18:57.004\u001b[0m | \u001b[34m\u001b[1mDEBUG   \u001b[0m | \u001b[36mpygrn.evolution.evolution\u001b[0m:\u001b[36mreport\u001b[0m:\u001b[36m52\u001b[0m - \u001b[34m\u001b[1mS,2025-07-22T10:18:57.003907,36,1,78,0.715044,-477.470327,3,0.180000,0.043340,3.679487\u001b[0m\n",
      "\u001b[32m2025-07-22 10:18:57.005\u001b[0m | \u001b[34m\u001b[1mDEBUG   \u001b[0m | \u001b[36mpygrn.evolution.evolution\u001b[0m:\u001b[36mreport\u001b[0m:\u001b[36m52\u001b[0m - \u001b[34m\u001b[1mS,2025-07-22T10:18:57.004794,36,2,89,0.816467,-456.176355,3,0.080000,0.014051,3.606742\u001b[0m\n",
      "\u001b[32m2025-07-22 10:18:57.006\u001b[0m | \u001b[34m\u001b[1mDEBUG   \u001b[0m | \u001b[36mpygrn.evolution.evolution\u001b[0m:\u001b[36mreport\u001b[0m:\u001b[36m52\u001b[0m - \u001b[34m\u001b[1mS,2025-07-22T10:18:57.005752,36,3,107,0.799995,-456.750476,3,0.200000,0.015519,3.616822\u001b[0m\n",
      "\u001b[32m2025-07-22 10:18:57.006\u001b[0m | \u001b[34m\u001b[1mDEBUG   \u001b[0m | \u001b[36mpygrn.evolution.evolution\u001b[0m:\u001b[36mreport\u001b[0m:\u001b[36m52\u001b[0m - \u001b[34m\u001b[1mS,2025-07-22T10:18:57.006706,36,4,50,0.754019,-458.697017,3,0.140000,0.010001,3.780000\u001b[0m\n",
      "\u001b[32m2025-07-22 10:18:57.008\u001b[0m | \u001b[34m\u001b[1mDEBUG   \u001b[0m | \u001b[36mpygrn.evolution.evolution\u001b[0m:\u001b[36mreport\u001b[0m:\u001b[36m52\u001b[0m - \u001b[34m\u001b[1mS,2025-07-22T10:18:57.007610,36,5,86,0.738042,-477.470287,3,0.100000,0.020561,3.593023\u001b[0m\n",
      "\u001b[32m2025-07-22 10:18:57.008\u001b[0m | \u001b[1mINFO    \u001b[0m | \u001b[36mpygrn.evolution.evolution\u001b[0m:\u001b[36mreport\u001b[0m:\u001b[36m80\u001b[0m - \u001b[1mGeneration 36: best fit -456.17635478553916, fit mean -517.2534216737839, fit std 44.87752261134087\u001b[0m\n"
     ]
    },
    {
     "name": "stdout",
     "output_type": "stream",
     "text": [
      "500\n"
     ]
    },
    {
     "name": "stderr",
     "output_type": "stream",
     "text": [
      "\u001b[32m2025-07-22 10:19:04.223\u001b[0m | \u001b[34m\u001b[1mDEBUG   \u001b[0m | \u001b[36mpygrn.evolution.evolution\u001b[0m:\u001b[36mreport\u001b[0m:\u001b[36m52\u001b[0m - \u001b[34m\u001b[1mS,2025-07-22T10:19:04.222369,37,0,112,0.736796,-477.470327,3,0.170000,0.046748,3.607143\u001b[0m\n",
      "\u001b[32m2025-07-22 10:19:04.224\u001b[0m | \u001b[34m\u001b[1mDEBUG   \u001b[0m | \u001b[36mpygrn.evolution.evolution\u001b[0m:\u001b[36mreport\u001b[0m:\u001b[36m52\u001b[0m - \u001b[34m\u001b[1mS,2025-07-22T10:19:04.223889,37,1,72,0.728228,-477.470327,3,0.190000,0.041011,3.625000\u001b[0m\n",
      "\u001b[32m2025-07-22 10:19:04.225\u001b[0m | \u001b[34m\u001b[1mDEBUG   \u001b[0m | \u001b[36mpygrn.evolution.evolution\u001b[0m:\u001b[36mreport\u001b[0m:\u001b[36m52\u001b[0m - \u001b[34m\u001b[1mS,2025-07-22T10:19:04.225283,37,2,78,0.838606,-456.176355,3,0.090000,0.011797,3.525641\u001b[0m\n",
      "\u001b[32m2025-07-22 10:19:04.227\u001b[0m | \u001b[34m\u001b[1mDEBUG   \u001b[0m | \u001b[36mpygrn.evolution.evolution\u001b[0m:\u001b[36mreport\u001b[0m:\u001b[36m52\u001b[0m - \u001b[34m\u001b[1mS,2025-07-22T10:19:04.226588,37,3,110,0.792527,-456.750476,3,0.190000,0.020633,3.627273\u001b[0m\n",
      "\u001b[32m2025-07-22 10:19:04.228\u001b[0m | \u001b[34m\u001b[1mDEBUG   \u001b[0m | \u001b[36mpygrn.evolution.evolution\u001b[0m:\u001b[36mreport\u001b[0m:\u001b[36m52\u001b[0m - \u001b[34m\u001b[1mS,2025-07-22T10:19:04.227720,37,4,83,0.746992,-457.783593,3,0.150000,0.011511,3.819277\u001b[0m\n",
      "\u001b[32m2025-07-22 10:19:04.228\u001b[0m | \u001b[34m\u001b[1mDEBUG   \u001b[0m | \u001b[36mpygrn.evolution.evolution\u001b[0m:\u001b[36mreport\u001b[0m:\u001b[36m52\u001b[0m - \u001b[34m\u001b[1mS,2025-07-22T10:19:04.228604,37,5,45,0.724614,-477.470327,3,0.110000,0.034317,3.622222\u001b[0m\n",
      "\u001b[32m2025-07-22 10:19:04.229\u001b[0m | \u001b[1mINFO    \u001b[0m | \u001b[36mpygrn.evolution.evolution\u001b[0m:\u001b[36mreport\u001b[0m:\u001b[36m80\u001b[0m - \u001b[1mGeneration 37: best fit -456.17635478553916, fit mean -516.1325199383085, fit std 45.93719459297574\u001b[0m\n"
     ]
    },
    {
     "name": "stdout",
     "output_type": "stream",
     "text": [
      "500\n"
     ]
    },
    {
     "name": "stderr",
     "output_type": "stream",
     "text": [
      "\u001b[32m2025-07-22 10:19:11.334\u001b[0m | \u001b[34m\u001b[1mDEBUG   \u001b[0m | \u001b[36mpygrn.evolution.evolution\u001b[0m:\u001b[36mreport\u001b[0m:\u001b[36m52\u001b[0m - \u001b[34m\u001b[1mS,2025-07-22T10:19:11.333955,38,0,116,0.755953,-477.470327,3,0.160000,0.061420,3.525862\u001b[0m\n",
      "\u001b[32m2025-07-22 10:19:11.335\u001b[0m | \u001b[34m\u001b[1mDEBUG   \u001b[0m | \u001b[36mpygrn.evolution.evolution\u001b[0m:\u001b[36mreport\u001b[0m:\u001b[36m52\u001b[0m - \u001b[34m\u001b[1mS,2025-07-22T10:19:11.335426,38,1,32,0.783065,-477.470327,3,0.200000,0.036907,3.437500\u001b[0m\n",
      "\u001b[32m2025-07-22 10:19:11.336\u001b[0m | \u001b[34m\u001b[1mDEBUG   \u001b[0m | \u001b[36mpygrn.evolution.evolution\u001b[0m:\u001b[36mreport\u001b[0m:\u001b[36m52\u001b[0m - \u001b[34m\u001b[1mS,2025-07-22T10:19:11.336480,38,2,86,0.803944,-456.116574,3,0.080000,0.004539,3.627907\u001b[0m\n",
      "\u001b[32m2025-07-22 10:19:11.337\u001b[0m | \u001b[34m\u001b[1mDEBUG   \u001b[0m | \u001b[36mpygrn.evolution.evolution\u001b[0m:\u001b[36mreport\u001b[0m:\u001b[36m52\u001b[0m - \u001b[34m\u001b[1mS,2025-07-22T10:19:11.337472,38,3,85,0.774222,-456.750476,3,0.180000,0.025331,3.752941\u001b[0m\n",
      "\u001b[32m2025-07-22 10:19:11.338\u001b[0m | \u001b[34m\u001b[1mDEBUG   \u001b[0m | \u001b[36mpygrn.evolution.evolution\u001b[0m:\u001b[36mreport\u001b[0m:\u001b[36m52\u001b[0m - \u001b[34m\u001b[1mS,2025-07-22T10:19:11.338265,38,4,84,0.767460,-457.566150,3,0.140000,0.027032,3.690476\u001b[0m\n",
      "\u001b[32m2025-07-22 10:19:11.339\u001b[0m | \u001b[34m\u001b[1mDEBUG   \u001b[0m | \u001b[36mpygrn.evolution.evolution\u001b[0m:\u001b[36mreport\u001b[0m:\u001b[36m52\u001b[0m - \u001b[34m\u001b[1mS,2025-07-22T10:19:11.339371,38,5,97,0.721780,-457.361568,3,0.100000,0.018643,3.670103\u001b[0m\n",
      "\u001b[32m2025-07-22 10:19:11.340\u001b[0m | \u001b[1mINFO    \u001b[0m | \u001b[36mpygrn.evolution.evolution\u001b[0m:\u001b[36mreport\u001b[0m:\u001b[36m80\u001b[0m - \u001b[1mGeneration 38: best fit -456.116573990755, fit mean -516.074064906439, fit std 43.79019308579266\u001b[0m\n"
     ]
    },
    {
     "name": "stdout",
     "output_type": "stream",
     "text": [
      "500\n"
     ]
    },
    {
     "name": "stderr",
     "output_type": "stream",
     "text": [
      "\u001b[32m2025-07-22 10:19:18.253\u001b[0m | \u001b[34m\u001b[1mDEBUG   \u001b[0m | \u001b[36mpygrn.evolution.evolution\u001b[0m:\u001b[36mreport\u001b[0m:\u001b[36m52\u001b[0m - \u001b[34m\u001b[1mS,2025-07-22T10:19:18.253026,39,0,43,0.737847,-477.470327,3,0.170000,0.039958,3.581395\u001b[0m\n",
      "\u001b[32m2025-07-22 10:19:18.254\u001b[0m | \u001b[34m\u001b[1mDEBUG   \u001b[0m | \u001b[36mpygrn.evolution.evolution\u001b[0m:\u001b[36mreport\u001b[0m:\u001b[36m52\u001b[0m - \u001b[34m\u001b[1mS,2025-07-22T10:19:18.254059,39,1,120,0.744562,-477.470327,3,0.190000,0.054614,3.566667\u001b[0m\n",
      "\u001b[32m2025-07-22 10:19:18.255\u001b[0m | \u001b[34m\u001b[1mDEBUG   \u001b[0m | \u001b[36mpygrn.evolution.evolution\u001b[0m:\u001b[36mreport\u001b[0m:\u001b[36m52\u001b[0m - \u001b[34m\u001b[1mS,2025-07-22T10:19:18.255179,39,2,89,0.810150,-456.116574,3,0.070000,0.008810,3.606742\u001b[0m\n",
      "\u001b[32m2025-07-22 10:19:18.256\u001b[0m | \u001b[34m\u001b[1mDEBUG   \u001b[0m | \u001b[36mpygrn.evolution.evolution\u001b[0m:\u001b[36mreport\u001b[0m:\u001b[36m52\u001b[0m - \u001b[34m\u001b[1mS,2025-07-22T10:19:18.256502,39,3,68,0.775168,-457.571073,3,0.190000,0.031904,3.661765\u001b[0m\n",
      "\u001b[32m2025-07-22 10:19:18.257\u001b[0m | \u001b[34m\u001b[1mDEBUG   \u001b[0m | \u001b[36mpygrn.evolution.evolution\u001b[0m:\u001b[36mreport\u001b[0m:\u001b[36m52\u001b[0m - \u001b[34m\u001b[1mS,2025-07-22T10:19:18.257130,39,4,114,0.783418,-457.361568,3,0.130000,0.017407,3.622807\u001b[0m\n",
      "\u001b[32m2025-07-22 10:19:18.258\u001b[0m | \u001b[34m\u001b[1mDEBUG   \u001b[0m | \u001b[36mpygrn.evolution.evolution\u001b[0m:\u001b[36mreport\u001b[0m:\u001b[36m52\u001b[0m - \u001b[34m\u001b[1mS,2025-07-22T10:19:18.258092,39,5,66,0.761182,-456.750476,3,0.110000,0.027518,3.636364\u001b[0m\n",
      "\u001b[32m2025-07-22 10:19:18.258\u001b[0m | \u001b[1mINFO    \u001b[0m | \u001b[36mpygrn.evolution.evolution\u001b[0m:\u001b[36mreport\u001b[0m:\u001b[36m80\u001b[0m - \u001b[1mGeneration 39: best fit -456.116573990755, fit mean -514.4144498927967, fit std 42.7129069293997\u001b[0m\n"
     ]
    },
    {
     "name": "stdout",
     "output_type": "stream",
     "text": [
      "500\n"
     ]
    },
    {
     "name": "stderr",
     "output_type": "stream",
     "text": [
      "\u001b[32m2025-07-22 10:19:25.290\u001b[0m | \u001b[34m\u001b[1mDEBUG   \u001b[0m | \u001b[36mpygrn.evolution.evolution\u001b[0m:\u001b[36mreport\u001b[0m:\u001b[36m52\u001b[0m - \u001b[34m\u001b[1mS,2025-07-22T10:19:25.290376,40,0,76,0.749282,-477.470327,3,0.180000,0.045974,3.565789\u001b[0m\n",
      "\u001b[32m2025-07-22 10:19:25.292\u001b[0m | \u001b[34m\u001b[1mDEBUG   \u001b[0m | \u001b[36mpygrn.evolution.evolution\u001b[0m:\u001b[36mreport\u001b[0m:\u001b[36m52\u001b[0m - \u001b[34m\u001b[1mS,2025-07-22T10:19:25.291714,40,1,100,0.772896,-477.470327,3,0.180000,0.050910,3.470000\u001b[0m\n",
      "\u001b[32m2025-07-22 10:19:25.293\u001b[0m | \u001b[34m\u001b[1mDEBUG   \u001b[0m | \u001b[36mpygrn.evolution.evolution\u001b[0m:\u001b[36mreport\u001b[0m:\u001b[36m52\u001b[0m - \u001b[34m\u001b[1mS,2025-07-22T10:19:25.292911,40,2,97,0.793802,-456.116574,3,0.060000,0.011188,3.680412\u001b[0m\n",
      "\u001b[32m2025-07-22 10:19:25.294\u001b[0m | \u001b[34m\u001b[1mDEBUG   \u001b[0m | \u001b[36mpygrn.evolution.evolution\u001b[0m:\u001b[36mreport\u001b[0m:\u001b[36m52\u001b[0m - \u001b[34m\u001b[1mS,2025-07-22T10:19:25.294294,40,3,70,0.790150,-456.730454,3,0.200000,0.016480,3.657143\u001b[0m\n",
      "\u001b[32m2025-07-22 10:19:25.296\u001b[0m | \u001b[34m\u001b[1mDEBUG   \u001b[0m | \u001b[36mpygrn.evolution.evolution\u001b[0m:\u001b[36mreport\u001b[0m:\u001b[36m52\u001b[0m - \u001b[34m\u001b[1mS,2025-07-22T10:19:25.295472,40,4,91,0.762255,-457.566150,3,0.120000,0.022149,3.681319\u001b[0m\n",
      "\u001b[32m2025-07-22 10:19:25.296\u001b[0m | \u001b[34m\u001b[1mDEBUG   \u001b[0m | \u001b[36mpygrn.evolution.evolution\u001b[0m:\u001b[36mreport\u001b[0m:\u001b[36m52\u001b[0m - \u001b[34m\u001b[1mS,2025-07-22T10:19:25.296307,40,5,66,0.805595,-456.590407,3,0.120000,0.021571,3.545455\u001b[0m\n",
      "\u001b[32m2025-07-22 10:19:25.297\u001b[0m | \u001b[1mINFO    \u001b[0m | \u001b[36mpygrn.evolution.evolution\u001b[0m:\u001b[36mreport\u001b[0m:\u001b[36m80\u001b[0m - \u001b[1mGeneration 40: best fit -456.116573990755, fit mean -512.5613324959206, fit std 43.44710041383639\u001b[0m\n"
     ]
    },
    {
     "name": "stdout",
     "output_type": "stream",
     "text": [
      "500\n"
     ]
    },
    {
     "name": "stderr",
     "output_type": "stream",
     "text": [
      "\u001b[32m2025-07-22 10:19:32.340\u001b[0m | \u001b[34m\u001b[1mDEBUG   \u001b[0m | \u001b[36mpygrn.evolution.evolution\u001b[0m:\u001b[36mreport\u001b[0m:\u001b[36m52\u001b[0m - \u001b[34m\u001b[1mS,2025-07-22T10:19:32.340310,41,0,105,0.783014,-477.470327,3,0.170000,0.051101,3.428571\u001b[0m\n",
      "\u001b[32m2025-07-22 10:19:32.341\u001b[0m | \u001b[34m\u001b[1mDEBUG   \u001b[0m | \u001b[36mpygrn.evolution.evolution\u001b[0m:\u001b[36mreport\u001b[0m:\u001b[36m52\u001b[0m - \u001b[34m\u001b[1mS,2025-07-22T10:19:32.341524,41,1,46,0.703810,-477.470327,3,0.190000,0.063657,3.695652\u001b[0m\n",
      "\u001b[32m2025-07-22 10:19:32.342\u001b[0m | \u001b[34m\u001b[1mDEBUG   \u001b[0m | \u001b[36mpygrn.evolution.evolution\u001b[0m:\u001b[36mreport\u001b[0m:\u001b[36m52\u001b[0m - \u001b[34m\u001b[1mS,2025-07-22T10:19:32.342268,41,2,90,0.799484,-456.018753,3,0.050000,0.017144,3.733333\u001b[0m\n",
      "\u001b[32m2025-07-22 10:19:32.343\u001b[0m | \u001b[34m\u001b[1mDEBUG   \u001b[0m | \u001b[36mpygrn.evolution.evolution\u001b[0m:\u001b[36mreport\u001b[0m:\u001b[36m52\u001b[0m - \u001b[34m\u001b[1mS,2025-07-22T10:19:32.343164,41,3,35,0.701787,-477.470327,3,0.210000,0.044875,3.742857\u001b[0m\n",
      "\u001b[32m2025-07-22 10:19:32.344\u001b[0m | \u001b[34m\u001b[1mDEBUG   \u001b[0m | \u001b[36mpygrn.evolution.evolution\u001b[0m:\u001b[36mreport\u001b[0m:\u001b[36m52\u001b[0m - \u001b[34m\u001b[1mS,2025-07-22T10:19:32.343735,41,4,58,0.753067,-457.566150,3,0.130000,0.030260,3.793103\u001b[0m\n",
      "\u001b[32m2025-07-22 10:19:32.345\u001b[0m | \u001b[34m\u001b[1mDEBUG   \u001b[0m | \u001b[36mpygrn.evolution.evolution\u001b[0m:\u001b[36mreport\u001b[0m:\u001b[36m52\u001b[0m - \u001b[34m\u001b[1mS,2025-07-22T10:19:32.344621,41,5,166,0.807570,-456.590407,3,0.110000,0.035707,3.614458\u001b[0m\n",
      "\u001b[32m2025-07-22 10:19:32.346\u001b[0m | \u001b[1mINFO    \u001b[0m | \u001b[36mpygrn.evolution.evolution\u001b[0m:\u001b[36mreport\u001b[0m:\u001b[36m80\u001b[0m - \u001b[1mGeneration 41: best fit -456.018752959778, fit mean -512.6056125797572, fit std 41.435877583881165\u001b[0m\n"
     ]
    },
    {
     "name": "stdout",
     "output_type": "stream",
     "text": [
      "500\n"
     ]
    },
    {
     "name": "stderr",
     "output_type": "stream",
     "text": [
      "\u001b[32m2025-07-22 10:19:39.473\u001b[0m | \u001b[34m\u001b[1mDEBUG   \u001b[0m | \u001b[36mpygrn.evolution.evolution\u001b[0m:\u001b[36mreport\u001b[0m:\u001b[36m52\u001b[0m - \u001b[34m\u001b[1mS,2025-07-22T10:19:39.473515,42,0,65,0.766992,-477.470327,3,0.180000,0.040471,3.492308\u001b[0m\n",
      "\u001b[32m2025-07-22 10:19:39.475\u001b[0m | \u001b[34m\u001b[1mDEBUG   \u001b[0m | \u001b[36mpygrn.evolution.evolution\u001b[0m:\u001b[36mreport\u001b[0m:\u001b[36m52\u001b[0m - \u001b[34m\u001b[1mS,2025-07-22T10:19:39.474627,42,1,99,0.718227,-477.470327,3,0.180000,0.042773,3.666667\u001b[0m\n",
      "\u001b[32m2025-07-22 10:19:39.476\u001b[0m | \u001b[34m\u001b[1mDEBUG   \u001b[0m | \u001b[36mpygrn.evolution.evolution\u001b[0m:\u001b[36mreport\u001b[0m:\u001b[36m52\u001b[0m - \u001b[34m\u001b[1mS,2025-07-22T10:19:39.475980,42,2,85,0.795513,-456.018753,3,0.040000,0.030448,3.705882\u001b[0m\n",
      "\u001b[32m2025-07-22 10:19:39.477\u001b[0m | \u001b[34m\u001b[1mDEBUG   \u001b[0m | \u001b[36mpygrn.evolution.evolution\u001b[0m:\u001b[36mreport\u001b[0m:\u001b[36m52\u001b[0m - \u001b[34m\u001b[1mS,2025-07-22T10:19:39.477062,42,3,35,0.747625,-477.470327,3,0.220000,0.026248,3.542857\u001b[0m\n",
      "\u001b[32m2025-07-22 10:19:39.478\u001b[0m | \u001b[34m\u001b[1mDEBUG   \u001b[0m | \u001b[36mpygrn.evolution.evolution\u001b[0m:\u001b[36mreport\u001b[0m:\u001b[36m52\u001b[0m - \u001b[34m\u001b[1mS,2025-07-22T10:19:39.477654,42,4,112,0.756006,-457.566150,3,0.120000,0.011977,3.750000\u001b[0m\n",
      "\u001b[32m2025-07-22 10:19:39.479\u001b[0m | \u001b[34m\u001b[1mDEBUG   \u001b[0m | \u001b[36mpygrn.evolution.evolution\u001b[0m:\u001b[36mreport\u001b[0m:\u001b[36m52\u001b[0m - \u001b[34m\u001b[1mS,2025-07-22T10:19:39.478687,42,5,104,0.809413,-456.590407,3,0.100000,0.030368,3.509615\u001b[0m\n",
      "\u001b[32m2025-07-22 10:19:39.480\u001b[0m | \u001b[1mINFO    \u001b[0m | \u001b[36mpygrn.evolution.evolution\u001b[0m:\u001b[36mreport\u001b[0m:\u001b[36m80\u001b[0m - \u001b[1mGeneration 42: best fit -456.018752959778, fit mean -515.2763374252706, fit std 44.841277428425\u001b[0m\n"
     ]
    },
    {
     "name": "stdout",
     "output_type": "stream",
     "text": [
      "500\n"
     ]
    },
    {
     "name": "stderr",
     "output_type": "stream",
     "text": [
      "\u001b[32m2025-07-22 10:19:46.563\u001b[0m | \u001b[34m\u001b[1mDEBUG   \u001b[0m | \u001b[36mpygrn.evolution.evolution\u001b[0m:\u001b[36mreport\u001b[0m:\u001b[36m52\u001b[0m - \u001b[34m\u001b[1mS,2025-07-22T10:19:46.563275,43,0,58,0.762283,-477.470327,3,0.190000,0.048131,3.500000\u001b[0m\n",
      "\u001b[32m2025-07-22 10:19:46.564\u001b[0m | \u001b[34m\u001b[1mDEBUG   \u001b[0m | \u001b[36mpygrn.evolution.evolution\u001b[0m:\u001b[36mreport\u001b[0m:\u001b[36m52\u001b[0m - \u001b[34m\u001b[1mS,2025-07-22T10:19:46.564257,43,1,96,0.740959,-477.470327,3,0.170000,0.046663,3.583333\u001b[0m\n",
      "\u001b[32m2025-07-22 10:19:46.565\u001b[0m | \u001b[34m\u001b[1mDEBUG   \u001b[0m | \u001b[36mpygrn.evolution.evolution\u001b[0m:\u001b[36mreport\u001b[0m:\u001b[36m52\u001b[0m - \u001b[34m\u001b[1mS,2025-07-22T10:19:46.565430,43,2,66,0.796634,-456.018753,3,0.050000,0.003676,3.742424\u001b[0m\n",
      "\u001b[32m2025-07-22 10:19:46.567\u001b[0m | \u001b[34m\u001b[1mDEBUG   \u001b[0m | \u001b[36mpygrn.evolution.evolution\u001b[0m:\u001b[36mreport\u001b[0m:\u001b[36m52\u001b[0m - \u001b[34m\u001b[1mS,2025-07-22T10:19:46.566534,43,3,100,0.731662,-477.470327,3,0.210000,0.027306,3.610000\u001b[0m\n",
      "\u001b[32m2025-07-22 10:19:46.567\u001b[0m | \u001b[34m\u001b[1mDEBUG   \u001b[0m | \u001b[36mpygrn.evolution.evolution\u001b[0m:\u001b[36mreport\u001b[0m:\u001b[36m52\u001b[0m - \u001b[34m\u001b[1mS,2025-07-22T10:19:46.567486,43,4,108,0.809828,-456.590407,3,0.110000,0.022463,3.537037\u001b[0m\n",
      "\u001b[32m2025-07-22 10:19:46.568\u001b[0m | \u001b[34m\u001b[1mDEBUG   \u001b[0m | \u001b[36mpygrn.evolution.evolution\u001b[0m:\u001b[36mreport\u001b[0m:\u001b[36m52\u001b[0m - \u001b[34m\u001b[1mS,2025-07-22T10:19:46.568335,43,5,72,0.803861,-456.599620,3,0.110000,0.025661,3.597222\u001b[0m\n",
      "\u001b[32m2025-07-22 10:19:46.569\u001b[0m | \u001b[1mINFO    \u001b[0m | \u001b[36mpygrn.evolution.evolution\u001b[0m:\u001b[36mreport\u001b[0m:\u001b[36m80\u001b[0m - \u001b[1mGeneration 43: best fit -456.018752959778, fit mean -513.8346963619839, fit std 42.46860592611703\u001b[0m\n"
     ]
    },
    {
     "name": "stdout",
     "output_type": "stream",
     "text": [
      "500\n"
     ]
    },
    {
     "name": "stderr",
     "output_type": "stream",
     "text": [
      "\u001b[32m2025-07-22 10:19:53.767\u001b[0m | \u001b[34m\u001b[1mDEBUG   \u001b[0m | \u001b[36mpygrn.evolution.evolution\u001b[0m:\u001b[36mreport\u001b[0m:\u001b[36m52\u001b[0m - \u001b[34m\u001b[1mS,2025-07-22T10:19:53.766507,44,0,91,0.768653,-477.470327,3,0.180000,0.046740,3.483516\u001b[0m\n",
      "\u001b[32m2025-07-22 10:19:53.768\u001b[0m | \u001b[34m\u001b[1mDEBUG   \u001b[0m | \u001b[36mpygrn.evolution.evolution\u001b[0m:\u001b[36mreport\u001b[0m:\u001b[36m52\u001b[0m - \u001b[34m\u001b[1mS,2025-07-22T10:19:53.768429,44,1,60,0.709491,-477.470327,3,0.180000,0.049376,3.683333\u001b[0m\n",
      "\u001b[32m2025-07-22 10:19:53.770\u001b[0m | \u001b[34m\u001b[1mDEBUG   \u001b[0m | \u001b[36mpygrn.evolution.evolution\u001b[0m:\u001b[36mreport\u001b[0m:\u001b[36m52\u001b[0m - \u001b[34m\u001b[1mS,2025-07-22T10:19:53.769360,44,2,109,0.813949,-456.018753,3,0.040000,0.014155,3.651376\u001b[0m\n",
      "\u001b[32m2025-07-22 10:19:53.771\u001b[0m | \u001b[34m\u001b[1mDEBUG   \u001b[0m | \u001b[36mpygrn.evolution.evolution\u001b[0m:\u001b[36mreport\u001b[0m:\u001b[36m52\u001b[0m - \u001b[34m\u001b[1mS,2025-07-22T10:19:53.770807,44,3,74,0.764158,-477.470327,3,0.220000,0.039207,3.500000\u001b[0m\n",
      "\u001b[32m2025-07-22 10:19:53.772\u001b[0m | \u001b[34m\u001b[1mDEBUG   \u001b[0m | \u001b[36mpygrn.evolution.evolution\u001b[0m:\u001b[36mreport\u001b[0m:\u001b[36m52\u001b[0m - \u001b[34m\u001b[1mS,2025-07-22T10:19:53.771673,44,4,104,0.787661,-456.590407,3,0.100000,0.029528,3.576923\u001b[0m\n",
      "\u001b[32m2025-07-22 10:19:53.772\u001b[0m | \u001b[34m\u001b[1mDEBUG   \u001b[0m | \u001b[36mpygrn.evolution.evolution\u001b[0m:\u001b[36mreport\u001b[0m:\u001b[36m52\u001b[0m - \u001b[34m\u001b[1mS,2025-07-22T10:19:53.772574,44,5,62,0.776458,-456.925170,3,0.120000,0.030847,3.612903\u001b[0m\n",
      "\u001b[32m2025-07-22 10:19:53.773\u001b[0m | \u001b[1mINFO    \u001b[0m | \u001b[36mpygrn.evolution.evolution\u001b[0m:\u001b[36mreport\u001b[0m:\u001b[36m80\u001b[0m - \u001b[1mGeneration 44: best fit -456.018752959778, fit mean -513.1147880430943, fit std 42.22777375662312\u001b[0m\n"
     ]
    },
    {
     "name": "stdout",
     "output_type": "stream",
     "text": [
      "500\n"
     ]
    },
    {
     "name": "stderr",
     "output_type": "stream",
     "text": [
      "\u001b[32m2025-07-22 10:20:01.211\u001b[0m | \u001b[34m\u001b[1mDEBUG   \u001b[0m | \u001b[36mpygrn.evolution.evolution\u001b[0m:\u001b[36mreport\u001b[0m:\u001b[36m52\u001b[0m - \u001b[34m\u001b[1mS,2025-07-22T10:20:01.211477,45,0,60,0.730134,-477.470327,3,0.190000,0.060960,3.616667\u001b[0m\n",
      "\u001b[32m2025-07-22 10:20:01.213\u001b[0m | \u001b[34m\u001b[1mDEBUG   \u001b[0m | \u001b[36mpygrn.evolution.evolution\u001b[0m:\u001b[36mreport\u001b[0m:\u001b[36m52\u001b[0m - \u001b[34m\u001b[1mS,2025-07-22T10:20:01.212756,45,1,50,0.713310,-456.439636,3,0.190000,0.054388,3.680000\u001b[0m\n",
      "\u001b[32m2025-07-22 10:20:01.213\u001b[0m | \u001b[34m\u001b[1mDEBUG   \u001b[0m | \u001b[36mpygrn.evolution.evolution\u001b[0m:\u001b[36mreport\u001b[0m:\u001b[36m52\u001b[0m - \u001b[34m\u001b[1mS,2025-07-22T10:20:01.213576,45,2,62,0.752658,-456.018753,3,0.050000,0.031007,3.806452\u001b[0m\n",
      "\u001b[32m2025-07-22 10:20:01.215\u001b[0m | \u001b[34m\u001b[1mDEBUG   \u001b[0m | \u001b[36mpygrn.evolution.evolution\u001b[0m:\u001b[36mreport\u001b[0m:\u001b[36m52\u001b[0m - \u001b[34m\u001b[1mS,2025-07-22T10:20:01.215153,45,3,101,0.743358,-477.470327,3,0.210000,0.057745,3.564356\u001b[0m\n",
      "\u001b[32m2025-07-22 10:20:01.216\u001b[0m | \u001b[34m\u001b[1mDEBUG   \u001b[0m | \u001b[36mpygrn.evolution.evolution\u001b[0m:\u001b[36mreport\u001b[0m:\u001b[36m52\u001b[0m - \u001b[34m\u001b[1mS,2025-07-22T10:20:01.216388,45,4,82,0.781504,-456.590407,3,0.110000,0.020829,3.646341\u001b[0m\n",
      "\u001b[32m2025-07-22 10:20:01.218\u001b[0m | \u001b[34m\u001b[1mDEBUG   \u001b[0m | \u001b[36mpygrn.evolution.evolution\u001b[0m:\u001b[36mreport\u001b[0m:\u001b[36m52\u001b[0m - \u001b[34m\u001b[1mS,2025-07-22T10:20:01.217218,45,5,145,0.786525,-456.807714,3,0.110000,0.049069,3.634483\u001b[0m\n",
      "\u001b[32m2025-07-22 10:20:01.218\u001b[0m | \u001b[1mINFO    \u001b[0m | \u001b[36mpygrn.evolution.evolution\u001b[0m:\u001b[36mreport\u001b[0m:\u001b[36m80\u001b[0m - \u001b[1mGeneration 45: best fit -456.018752959778, fit mean -517.43939245593, fit std 45.45220122834948\u001b[0m\n"
     ]
    },
    {
     "name": "stdout",
     "output_type": "stream",
     "text": [
      "500\n"
     ]
    },
    {
     "name": "stderr",
     "output_type": "stream",
     "text": [
      "\u001b[32m2025-07-22 10:20:08.611\u001b[0m | \u001b[34m\u001b[1mDEBUG   \u001b[0m | \u001b[36mpygrn.evolution.evolution\u001b[0m:\u001b[36mreport\u001b[0m:\u001b[36m52\u001b[0m - \u001b[34m\u001b[1mS,2025-07-22T10:20:08.610931,46,0,47,0.668979,-477.470327,3,0.200000,0.047417,3.829787\u001b[0m\n",
      "\u001b[32m2025-07-22 10:20:08.612\u001b[0m | \u001b[34m\u001b[1mDEBUG   \u001b[0m | \u001b[36mpygrn.evolution.evolution\u001b[0m:\u001b[36mreport\u001b[0m:\u001b[36m52\u001b[0m - \u001b[34m\u001b[1mS,2025-07-22T10:20:08.612075,46,1,93,0.743502,-477.470327,3,0.180000,0.040208,3.569892\u001b[0m\n",
      "\u001b[32m2025-07-22 10:20:08.613\u001b[0m | \u001b[34m\u001b[1mDEBUG   \u001b[0m | \u001b[36mpygrn.evolution.evolution\u001b[0m:\u001b[36mreport\u001b[0m:\u001b[36m52\u001b[0m - \u001b[34m\u001b[1mS,2025-07-22T10:20:08.613461,46,2,91,0.814152,-455.992307,3,0.040000,0.007169,3.626374\u001b[0m\n",
      "\u001b[32m2025-07-22 10:20:08.614\u001b[0m | \u001b[34m\u001b[1mDEBUG   \u001b[0m | \u001b[36mpygrn.evolution.evolution\u001b[0m:\u001b[36mreport\u001b[0m:\u001b[36m52\u001b[0m - \u001b[34m\u001b[1mS,2025-07-22T10:20:08.614391,46,3,102,0.721595,-477.470327,3,0.200000,0.068723,3.647059\u001b[0m\n",
      "\u001b[32m2025-07-22 10:20:08.615\u001b[0m | \u001b[34m\u001b[1mDEBUG   \u001b[0m | \u001b[36mpygrn.evolution.evolution\u001b[0m:\u001b[36mreport\u001b[0m:\u001b[36m52\u001b[0m - \u001b[34m\u001b[1mS,2025-07-22T10:20:08.615168,46,4,67,0.811402,-457.183985,3,0.120000,0.045341,3.537313\u001b[0m\n",
      "\u001b[32m2025-07-22 10:20:08.616\u001b[0m | \u001b[34m\u001b[1mDEBUG   \u001b[0m | \u001b[36mpygrn.evolution.evolution\u001b[0m:\u001b[36mreport\u001b[0m:\u001b[36m52\u001b[0m - \u001b[34m\u001b[1mS,2025-07-22T10:20:08.615990,46,5,100,0.804944,-456.590407,3,0.100000,0.037137,3.640000\u001b[0m\n",
      "\u001b[32m2025-07-22 10:20:08.616\u001b[0m | \u001b[1mINFO    \u001b[0m | \u001b[36mpygrn.evolution.evolution\u001b[0m:\u001b[36mreport\u001b[0m:\u001b[36m80\u001b[0m - \u001b[1mGeneration 46: best fit -455.9923072140447, fit mean -515.4900187239867, fit std 44.895610301944785\u001b[0m\n"
     ]
    },
    {
     "name": "stdout",
     "output_type": "stream",
     "text": [
      "500\n"
     ]
    },
    {
     "name": "stderr",
     "output_type": "stream",
     "text": [
      "\u001b[32m2025-07-22 10:20:15.991\u001b[0m | \u001b[34m\u001b[1mDEBUG   \u001b[0m | \u001b[36mpygrn.evolution.evolution\u001b[0m:\u001b[36mreport\u001b[0m:\u001b[36m52\u001b[0m - \u001b[34m\u001b[1mS,2025-07-22T10:20:15.990614,47,0,79,0.731731,-477.470327,3,0.210000,0.044412,3.620253\u001b[0m\n",
      "\u001b[32m2025-07-22 10:20:15.992\u001b[0m | \u001b[34m\u001b[1mDEBUG   \u001b[0m | \u001b[36mpygrn.evolution.evolution\u001b[0m:\u001b[36mreport\u001b[0m:\u001b[36m52\u001b[0m - \u001b[34m\u001b[1mS,2025-07-22T10:20:15.992290,47,1,102,0.704959,-477.470327,3,0.170000,0.041543,3.705882\u001b[0m\n",
      "\u001b[32m2025-07-22 10:20:15.994\u001b[0m | \u001b[34m\u001b[1mDEBUG   \u001b[0m | \u001b[36mpygrn.evolution.evolution\u001b[0m:\u001b[36mreport\u001b[0m:\u001b[36m52\u001b[0m - \u001b[34m\u001b[1mS,2025-07-22T10:20:15.993959,47,2,91,0.786727,-455.992307,3,0.030000,0.007100,3.725275\u001b[0m\n",
      "\u001b[32m2025-07-22 10:20:15.995\u001b[0m | \u001b[34m\u001b[1mDEBUG   \u001b[0m | \u001b[36mpygrn.evolution.evolution\u001b[0m:\u001b[36mreport\u001b[0m:\u001b[36m52\u001b[0m - \u001b[34m\u001b[1mS,2025-07-22T10:20:15.994951,47,3,51,0.795785,-477.470327,3,0.210000,0.052210,3.392157\u001b[0m\n",
      "\u001b[32m2025-07-22 10:20:15.996\u001b[0m | \u001b[34m\u001b[1mDEBUG   \u001b[0m | \u001b[36mpygrn.evolution.evolution\u001b[0m:\u001b[36mreport\u001b[0m:\u001b[36m52\u001b[0m - \u001b[34m\u001b[1mS,2025-07-22T10:20:15.995775,47,4,92,0.774084,-456.734113,3,0.110000,0.018105,3.706522\u001b[0m\n",
      "\u001b[32m2025-07-22 10:20:15.997\u001b[0m | \u001b[34m\u001b[1mDEBUG   \u001b[0m | \u001b[36mpygrn.evolution.evolution\u001b[0m:\u001b[36mreport\u001b[0m:\u001b[36m52\u001b[0m - \u001b[34m\u001b[1mS,2025-07-22T10:20:15.996710,47,5,85,0.823715,-456.590407,3,0.090000,0.017183,3.576471\u001b[0m\n",
      "\u001b[32m2025-07-22 10:20:15.997\u001b[0m | \u001b[1mINFO    \u001b[0m | \u001b[36mpygrn.evolution.evolution\u001b[0m:\u001b[36mreport\u001b[0m:\u001b[36m80\u001b[0m - \u001b[1mGeneration 47: best fit -455.9923072140447, fit mean -515.4977443781498, fit std 44.327997288836485\u001b[0m\n"
     ]
    },
    {
     "name": "stdout",
     "output_type": "stream",
     "text": [
      "500\n"
     ]
    },
    {
     "name": "stderr",
     "output_type": "stream",
     "text": [
      "\u001b[32m2025-07-22 10:20:23.122\u001b[0m | \u001b[34m\u001b[1mDEBUG   \u001b[0m | \u001b[36mpygrn.evolution.evolution\u001b[0m:\u001b[36mreport\u001b[0m:\u001b[36m52\u001b[0m - \u001b[34m\u001b[1mS,2025-07-22T10:20:23.122611,48,0,62,0.701087,-477.470327,3,0.220000,0.038108,3.709677\u001b[0m\n",
      "\u001b[32m2025-07-22 10:20:23.124\u001b[0m | \u001b[34m\u001b[1mDEBUG   \u001b[0m | \u001b[36mpygrn.evolution.evolution\u001b[0m:\u001b[36mreport\u001b[0m:\u001b[36m52\u001b[0m - \u001b[34m\u001b[1mS,2025-07-22T10:20:23.123682,48,1,104,0.738491,-477.470327,3,0.160000,0.048945,3.596154\u001b[0m\n",
      "\u001b[32m2025-07-22 10:20:23.125\u001b[0m | \u001b[34m\u001b[1mDEBUG   \u001b[0m | \u001b[36mpygrn.evolution.evolution\u001b[0m:\u001b[36mreport\u001b[0m:\u001b[36m52\u001b[0m - \u001b[34m\u001b[1mS,2025-07-22T10:20:23.124800,48,2,76,0.819659,-455.992307,3,0.040000,0.005290,3.565789\u001b[0m\n",
      "\u001b[32m2025-07-22 10:20:23.126\u001b[0m | \u001b[34m\u001b[1mDEBUG   \u001b[0m | \u001b[36mpygrn.evolution.evolution\u001b[0m:\u001b[36mreport\u001b[0m:\u001b[36m52\u001b[0m - \u001b[34m\u001b[1mS,2025-07-22T10:20:23.125792,48,3,76,0.744682,-477.470327,3,0.220000,0.034985,3.565789\u001b[0m\n",
      "\u001b[32m2025-07-22 10:20:23.127\u001b[0m | \u001b[34m\u001b[1mDEBUG   \u001b[0m | \u001b[36mpygrn.evolution.evolution\u001b[0m:\u001b[36mreport\u001b[0m:\u001b[36m52\u001b[0m - \u001b[34m\u001b[1mS,2025-07-22T10:20:23.126519,48,4,88,0.811328,-456.734113,3,0.100000,0.018035,3.534091\u001b[0m\n",
      "\u001b[32m2025-07-22 10:20:23.128\u001b[0m | \u001b[34m\u001b[1mDEBUG   \u001b[0m | \u001b[36mpygrn.evolution.evolution\u001b[0m:\u001b[36mreport\u001b[0m:\u001b[36m52\u001b[0m - \u001b[34m\u001b[1mS,2025-07-22T10:20:23.127665,48,5,94,0.822101,-456.590407,3,0.080000,0.020378,3.553191\u001b[0m\n",
      "\u001b[32m2025-07-22 10:20:23.128\u001b[0m | \u001b[1mINFO    \u001b[0m | \u001b[36mpygrn.evolution.evolution\u001b[0m:\u001b[36mreport\u001b[0m:\u001b[36m80\u001b[0m - \u001b[1mGeneration 48: best fit -455.9923072140447, fit mean -513.0980381440964, fit std 44.91735532798207\u001b[0m\n"
     ]
    },
    {
     "name": "stdout",
     "output_type": "stream",
     "text": [
      "500\n"
     ]
    },
    {
     "name": "stderr",
     "output_type": "stream",
     "text": [
      "\u001b[32m2025-07-22 10:20:30.414\u001b[0m | \u001b[34m\u001b[1mDEBUG   \u001b[0m | \u001b[36mpygrn.evolution.evolution\u001b[0m:\u001b[36mreport\u001b[0m:\u001b[36m52\u001b[0m - \u001b[34m\u001b[1mS,2025-07-22T10:20:30.413268,49,0,132,0.728256,-477.470327,3,0.210000,0.047952,3.628788\u001b[0m\n",
      "\u001b[32m2025-07-22 10:20:30.415\u001b[0m | \u001b[34m\u001b[1mDEBUG   \u001b[0m | \u001b[36mpygrn.evolution.evolution\u001b[0m:\u001b[36mreport\u001b[0m:\u001b[36m52\u001b[0m - \u001b[34m\u001b[1mS,2025-07-22T10:20:30.415263,49,1,45,0.786686,-477.470327,3,0.170000,0.059135,3.422222\u001b[0m\n",
      "\u001b[32m2025-07-22 10:20:30.416\u001b[0m | \u001b[34m\u001b[1mDEBUG   \u001b[0m | \u001b[36mpygrn.evolution.evolution\u001b[0m:\u001b[36mreport\u001b[0m:\u001b[36m52\u001b[0m - \u001b[34m\u001b[1mS,2025-07-22T10:20:30.416421,49,2,76,0.797151,-455.992307,3,0.050000,0.008031,3.657895\u001b[0m\n",
      "\u001b[32m2025-07-22 10:20:30.417\u001b[0m | \u001b[34m\u001b[1mDEBUG   \u001b[0m | \u001b[36mpygrn.evolution.evolution\u001b[0m:\u001b[36mreport\u001b[0m:\u001b[36m52\u001b[0m - \u001b[34m\u001b[1mS,2025-07-22T10:20:30.417532,49,3,64,0.728209,-477.470327,3,0.230000,0.037671,3.609375\u001b[0m\n",
      "\u001b[32m2025-07-22 10:20:30.418\u001b[0m | \u001b[34m\u001b[1mDEBUG   \u001b[0m | \u001b[36mpygrn.evolution.evolution\u001b[0m:\u001b[36mreport\u001b[0m:\u001b[36m52\u001b[0m - \u001b[34m\u001b[1mS,2025-07-22T10:20:30.418385,49,4,103,0.798585,-456.590407,3,0.090000,0.017857,3.572816\u001b[0m\n",
      "\u001b[32m2025-07-22 10:20:30.419\u001b[0m | \u001b[34m\u001b[1mDEBUG   \u001b[0m | \u001b[36mpygrn.evolution.evolution\u001b[0m:\u001b[36mreport\u001b[0m:\u001b[36m52\u001b[0m - \u001b[34m\u001b[1mS,2025-07-22T10:20:30.419560,49,5,80,0.817846,-456.129922,3,0.090000,0.023522,3.675000\u001b[0m\n",
      "\u001b[32m2025-07-22 10:20:30.420\u001b[0m | \u001b[1mINFO    \u001b[0m | \u001b[36mpygrn.evolution.evolution\u001b[0m:\u001b[36mreport\u001b[0m:\u001b[36m80\u001b[0m - \u001b[1mGeneration 49: best fit -455.9923072140447, fit mean -513.8278065344637, fit std 43.88513239655553\u001b[0m\n"
     ]
    },
    {
     "name": "stdout",
     "output_type": "stream",
     "text": [
      "500\n"
     ]
    },
    {
     "name": "stderr",
     "output_type": "stream",
     "text": [
      "\u001b[32m2025-07-22 10:20:37.493\u001b[0m | \u001b[34m\u001b[1mDEBUG   \u001b[0m | \u001b[36mpygrn.evolution.evolution\u001b[0m:\u001b[36mreport\u001b[0m:\u001b[36m52\u001b[0m - \u001b[34m\u001b[1mS,2025-07-22T10:20:37.492851,50,0,58,0.758124,-477.470327,3,0.220000,0.044480,3.517241\u001b[0m\n",
      "\u001b[32m2025-07-22 10:20:37.494\u001b[0m | \u001b[34m\u001b[1mDEBUG   \u001b[0m | \u001b[36mpygrn.evolution.evolution\u001b[0m:\u001b[36mreport\u001b[0m:\u001b[36m52\u001b[0m - \u001b[34m\u001b[1mS,2025-07-22T10:20:37.494107,50,1,46,0.768508,-477.470327,3,0.180000,0.036251,3.478261\u001b[0m\n",
      "\u001b[32m2025-07-22 10:20:37.495\u001b[0m | \u001b[34m\u001b[1mDEBUG   \u001b[0m | \u001b[36mpygrn.evolution.evolution\u001b[0m:\u001b[36mreport\u001b[0m:\u001b[36m52\u001b[0m - \u001b[34m\u001b[1mS,2025-07-22T10:20:37.494796,50,2,102,0.751772,-455.948941,3,0.040000,0.015721,3.745098\u001b[0m\n",
      "\u001b[32m2025-07-22 10:20:37.496\u001b[0m | \u001b[34m\u001b[1mDEBUG   \u001b[0m | \u001b[36mpygrn.evolution.evolution\u001b[0m:\u001b[36mreport\u001b[0m:\u001b[36m52\u001b[0m - \u001b[34m\u001b[1mS,2025-07-22T10:20:37.495777,50,3,82,0.725046,-477.470327,3,0.240000,0.051683,3.634146\u001b[0m\n",
      "\u001b[32m2025-07-22 10:20:37.497\u001b[0m | \u001b[34m\u001b[1mDEBUG   \u001b[0m | \u001b[36mpygrn.evolution.evolution\u001b[0m:\u001b[36mreport\u001b[0m:\u001b[36m52\u001b[0m - \u001b[34m\u001b[1mS,2025-07-22T10:20:37.496702,50,4,103,0.803916,-456.590407,3,0.080000,0.028377,3.524272\u001b[0m\n",
      "\u001b[32m2025-07-22 10:20:37.498\u001b[0m | \u001b[34m\u001b[1mDEBUG   \u001b[0m | \u001b[36mpygrn.evolution.evolution\u001b[0m:\u001b[36mreport\u001b[0m:\u001b[36m52\u001b[0m - \u001b[34m\u001b[1mS,2025-07-22T10:20:37.497641,50,5,109,0.808966,-456.129922,3,0.080000,0.030616,3.642202\u001b[0m\n",
      "\u001b[32m2025-07-22 10:20:37.498\u001b[0m | \u001b[1mINFO    \u001b[0m | \u001b[36mpygrn.evolution.evolution\u001b[0m:\u001b[36mreport\u001b[0m:\u001b[36m80\u001b[0m - \u001b[1mGeneration 50: best fit -455.9489406454164, fit mean -513.7757659548699, fit std 42.97062050139615\u001b[0m\n"
     ]
    },
    {
     "name": "stdout",
     "output_type": "stream",
     "text": [
      "500\n"
     ]
    },
    {
     "name": "stderr",
     "output_type": "stream",
     "text": [
      "\u001b[32m2025-07-22 10:20:44.519\u001b[0m | \u001b[34m\u001b[1mDEBUG   \u001b[0m | \u001b[36mpygrn.evolution.evolution\u001b[0m:\u001b[36mreport\u001b[0m:\u001b[36m52\u001b[0m - \u001b[34m\u001b[1mS,2025-07-22T10:20:44.519426,51,0,86,0.727639,-477.470327,3,0.210000,0.041272,3.627907\u001b[0m\n",
      "\u001b[32m2025-07-22 10:20:44.520\u001b[0m | \u001b[34m\u001b[1mDEBUG   \u001b[0m | \u001b[36mpygrn.evolution.evolution\u001b[0m:\u001b[36mreport\u001b[0m:\u001b[36m52\u001b[0m - \u001b[34m\u001b[1mS,2025-07-22T10:20:44.520381,51,1,107,0.743385,-477.470327,3,0.170000,0.040810,3.560748\u001b[0m\n",
      "\u001b[32m2025-07-22 10:20:44.521\u001b[0m | \u001b[34m\u001b[1mDEBUG   \u001b[0m | \u001b[36mpygrn.evolution.evolution\u001b[0m:\u001b[36mreport\u001b[0m:\u001b[36m52\u001b[0m - \u001b[34m\u001b[1mS,2025-07-22T10:20:44.521445,51,2,37,0.688758,-477.468902,3,0.050000,0.017481,3.918919\u001b[0m\n",
      "\u001b[32m2025-07-22 10:20:44.522\u001b[0m | \u001b[34m\u001b[1mDEBUG   \u001b[0m | \u001b[36mpygrn.evolution.evolution\u001b[0m:\u001b[36mreport\u001b[0m:\u001b[36m52\u001b[0m - \u001b[34m\u001b[1mS,2025-07-22T10:20:44.521994,51,3,54,0.746468,-477.470327,3,0.250000,0.042340,3.555556\u001b[0m\n",
      "\u001b[32m2025-07-22 10:20:44.523\u001b[0m | \u001b[34m\u001b[1mDEBUG   \u001b[0m | \u001b[36mpygrn.evolution.evolution\u001b[0m:\u001b[36mreport\u001b[0m:\u001b[36m52\u001b[0m - \u001b[34m\u001b[1mS,2025-07-22T10:20:44.522642,51,4,83,0.814073,-456.590407,3,0.090000,0.022668,3.554217\u001b[0m\n",
      "\u001b[32m2025-07-22 10:20:44.524\u001b[0m | \u001b[34m\u001b[1mDEBUG   \u001b[0m | \u001b[36mpygrn.evolution.evolution\u001b[0m:\u001b[36mreport\u001b[0m:\u001b[36m52\u001b[0m - \u001b[34m\u001b[1mS,2025-07-22T10:20:44.523945,51,5,133,0.800399,-455.948941,3,0.070000,0.033787,3.676692\u001b[0m\n",
      "\u001b[32m2025-07-22 10:20:44.525\u001b[0m | \u001b[1mINFO    \u001b[0m | \u001b[36mpygrn.evolution.evolution\u001b[0m:\u001b[36mreport\u001b[0m:\u001b[36m80\u001b[0m - \u001b[1mGeneration 51: best fit -455.9489406454164, fit mean -516.0692789024414, fit std 42.60465259849476\u001b[0m\n"
     ]
    },
    {
     "name": "stdout",
     "output_type": "stream",
     "text": [
      "500\n"
     ]
    },
    {
     "name": "stderr",
     "output_type": "stream",
     "text": [
      "\u001b[32m2025-07-22 10:20:51.794\u001b[0m | \u001b[34m\u001b[1mDEBUG   \u001b[0m | \u001b[36mpygrn.evolution.evolution\u001b[0m:\u001b[36mreport\u001b[0m:\u001b[36m52\u001b[0m - \u001b[34m\u001b[1mS,2025-07-22T10:20:51.794052,52,0,94,0.731178,-477.470327,3,0.200000,0.039853,3.606383\u001b[0m\n",
      "\u001b[32m2025-07-22 10:20:51.795\u001b[0m | \u001b[34m\u001b[1mDEBUG   \u001b[0m | \u001b[36mpygrn.evolution.evolution\u001b[0m:\u001b[36mreport\u001b[0m:\u001b[36m52\u001b[0m - \u001b[34m\u001b[1mS,2025-07-22T10:20:51.795455,52,1,69,0.729547,-477.470327,3,0.180000,0.041258,3.623188\u001b[0m\n",
      "\u001b[32m2025-07-22 10:20:51.797\u001b[0m | \u001b[34m\u001b[1mDEBUG   \u001b[0m | \u001b[36mpygrn.evolution.evolution\u001b[0m:\u001b[36mreport\u001b[0m:\u001b[36m52\u001b[0m - \u001b[34m\u001b[1mS,2025-07-22T10:20:51.796572,52,2,95,0.737193,-455.948941,3,0.040000,0.022691,3.810526\u001b[0m\n",
      "\u001b[32m2025-07-22 10:20:51.798\u001b[0m | \u001b[34m\u001b[1mDEBUG   \u001b[0m | \u001b[36mpygrn.evolution.evolution\u001b[0m:\u001b[36mreport\u001b[0m:\u001b[36m52\u001b[0m - \u001b[34m\u001b[1mS,2025-07-22T10:20:51.797612,52,3,77,0.754815,-477.470327,3,0.260000,0.042928,3.532468\u001b[0m\n",
      "\u001b[32m2025-07-22 10:20:51.798\u001b[0m | \u001b[34m\u001b[1mDEBUG   \u001b[0m | \u001b[36mpygrn.evolution.evolution\u001b[0m:\u001b[36mreport\u001b[0m:\u001b[36m52\u001b[0m - \u001b[34m\u001b[1mS,2025-07-22T10:20:51.798455,52,4,108,0.801434,-456.590407,3,0.080000,0.026477,3.592593\u001b[0m\n",
      "\u001b[32m2025-07-22 10:20:51.799\u001b[0m | \u001b[34m\u001b[1mDEBUG   \u001b[0m | \u001b[36mpygrn.evolution.evolution\u001b[0m:\u001b[36mreport\u001b[0m:\u001b[36m52\u001b[0m - \u001b[34m\u001b[1mS,2025-07-22T10:20:51.799542,52,5,57,0.809217,-456.045432,3,0.080000,0.025787,3.614035\u001b[0m\n",
      "\u001b[32m2025-07-22 10:20:51.800\u001b[0m | \u001b[1mINFO    \u001b[0m | \u001b[36mpygrn.evolution.evolution\u001b[0m:\u001b[36mreport\u001b[0m:\u001b[36m80\u001b[0m - \u001b[1mGeneration 52: best fit -455.9489406454164, fit mean -517.1029330882384, fit std 44.091776172985924\u001b[0m\n"
     ]
    },
    {
     "name": "stdout",
     "output_type": "stream",
     "text": [
      "500\n"
     ]
    },
    {
     "name": "stderr",
     "output_type": "stream",
     "text": [
      "\u001b[32m2025-07-22 10:20:59.252\u001b[0m | \u001b[34m\u001b[1mDEBUG   \u001b[0m | \u001b[36mpygrn.evolution.evolution\u001b[0m:\u001b[36mreport\u001b[0m:\u001b[36m52\u001b[0m - \u001b[34m\u001b[1mS,2025-07-22T10:20:59.251549,53,0,103,0.703760,-477.470327,3,0.190000,0.043695,3.699029\u001b[0m\n",
      "\u001b[32m2025-07-22 10:20:59.253\u001b[0m | \u001b[34m\u001b[1mDEBUG   \u001b[0m | \u001b[36mpygrn.evolution.evolution\u001b[0m:\u001b[36mreport\u001b[0m:\u001b[36m52\u001b[0m - \u001b[34m\u001b[1mS,2025-07-22T10:20:59.253187,53,1,77,0.730693,-477.470327,3,0.190000,0.045029,3.610390\u001b[0m\n",
      "\u001b[32m2025-07-22 10:20:59.254\u001b[0m | \u001b[34m\u001b[1mDEBUG   \u001b[0m | \u001b[36mpygrn.evolution.evolution\u001b[0m:\u001b[36mreport\u001b[0m:\u001b[36m52\u001b[0m - \u001b[34m\u001b[1mS,2025-07-22T10:20:59.254573,53,2,50,0.705211,-477.467645,3,0.050000,0.019542,3.700000\u001b[0m\n",
      "\u001b[32m2025-07-22 10:20:59.256\u001b[0m | \u001b[34m\u001b[1mDEBUG   \u001b[0m | \u001b[36mpygrn.evolution.evolution\u001b[0m:\u001b[36mreport\u001b[0m:\u001b[36m52\u001b[0m - \u001b[34m\u001b[1mS,2025-07-22T10:20:59.255762,53,3,57,0.790352,-456.590407,3,0.270000,0.049119,3.543860\u001b[0m\n",
      "\u001b[32m2025-07-22 10:20:59.258\u001b[0m | \u001b[34m\u001b[1mDEBUG   \u001b[0m | \u001b[36mpygrn.evolution.evolution\u001b[0m:\u001b[36mreport\u001b[0m:\u001b[36m52\u001b[0m - \u001b[34m\u001b[1mS,2025-07-22T10:20:59.257432,53,4,88,0.778249,-457.108898,3,0.070000,0.045493,3.613636\u001b[0m\n",
      "\u001b[32m2025-07-22 10:20:59.259\u001b[0m | \u001b[34m\u001b[1mDEBUG   \u001b[0m | \u001b[36mpygrn.evolution.evolution\u001b[0m:\u001b[36mreport\u001b[0m:\u001b[36m52\u001b[0m - \u001b[34m\u001b[1mS,2025-07-22T10:20:59.258764,53,5,125,0.779263,-455.948941,3,0.070000,0.025314,3.704000\u001b[0m\n",
      "\u001b[32m2025-07-22 10:20:59.260\u001b[0m | \u001b[1mINFO    \u001b[0m | \u001b[36mpygrn.evolution.evolution\u001b[0m:\u001b[36mreport\u001b[0m:\u001b[36m80\u001b[0m - \u001b[1mGeneration 53: best fit -455.9489406454164, fit mean -519.622836222339, fit std 43.75009706492957\u001b[0m\n"
     ]
    },
    {
     "name": "stdout",
     "output_type": "stream",
     "text": [
      "500\n"
     ]
    },
    {
     "name": "stderr",
     "output_type": "stream",
     "text": [
      "\u001b[32m2025-07-22 10:21:06.703\u001b[0m | \u001b[34m\u001b[1mDEBUG   \u001b[0m | \u001b[36mpygrn.evolution.evolution\u001b[0m:\u001b[36mreport\u001b[0m:\u001b[36m52\u001b[0m - \u001b[34m\u001b[1mS,2025-07-22T10:21:06.702635,54,0,57,0.717346,-477.470327,3,0.200000,0.045846,3.649123\u001b[0m\n",
      "\u001b[32m2025-07-22 10:21:06.704\u001b[0m | \u001b[34m\u001b[1mDEBUG   \u001b[0m | \u001b[36mpygrn.evolution.evolution\u001b[0m:\u001b[36mreport\u001b[0m:\u001b[36m52\u001b[0m - \u001b[34m\u001b[1mS,2025-07-22T10:21:06.703813,54,1,97,0.718684,-477.470327,3,0.180000,0.043092,3.659794\u001b[0m\n",
      "\u001b[32m2025-07-22 10:21:06.705\u001b[0m | \u001b[34m\u001b[1mDEBUG   \u001b[0m | \u001b[36mpygrn.evolution.evolution\u001b[0m:\u001b[36mreport\u001b[0m:\u001b[36m52\u001b[0m - \u001b[34m\u001b[1mS,2025-07-22T10:21:06.705231,54,2,31,0.718345,-477.470327,3,0.060000,0.029359,3.645161\u001b[0m\n",
      "\u001b[32m2025-07-22 10:21:06.706\u001b[0m | \u001b[34m\u001b[1mDEBUG   \u001b[0m | \u001b[36mpygrn.evolution.evolution\u001b[0m:\u001b[36mreport\u001b[0m:\u001b[36m52\u001b[0m - \u001b[34m\u001b[1mS,2025-07-22T10:21:06.706023,54,3,132,0.790759,-456.590407,3,0.260000,0.025481,3.621212\u001b[0m\n",
      "\u001b[32m2025-07-22 10:21:06.707\u001b[0m | \u001b[34m\u001b[1mDEBUG   \u001b[0m | \u001b[36mpygrn.evolution.evolution\u001b[0m:\u001b[36mreport\u001b[0m:\u001b[36m52\u001b[0m - \u001b[34m\u001b[1mS,2025-07-22T10:21:06.706962,54,4,57,0.752010,-477.470327,3,0.080000,0.037806,3.526316\u001b[0m\n",
      "\u001b[32m2025-07-22 10:21:06.708\u001b[0m | \u001b[34m\u001b[1mDEBUG   \u001b[0m | \u001b[36mpygrn.evolution.evolution\u001b[0m:\u001b[36mreport\u001b[0m:\u001b[36m52\u001b[0m - \u001b[34m\u001b[1mS,2025-07-22T10:21:06.707547,54,5,126,0.753486,-455.948941,3,0.060000,0.031356,3.714286\u001b[0m\n",
      "\u001b[32m2025-07-22 10:21:06.708\u001b[0m | \u001b[1mINFO    \u001b[0m | \u001b[36mpygrn.evolution.evolution\u001b[0m:\u001b[36mreport\u001b[0m:\u001b[36m80\u001b[0m - \u001b[1mGeneration 54: best fit -455.9489406454164, fit mean -519.5726208564608, fit std 44.28877958974651\u001b[0m\n"
     ]
    },
    {
     "name": "stdout",
     "output_type": "stream",
     "text": [
      "500\n"
     ]
    },
    {
     "name": "stderr",
     "output_type": "stream",
     "text": [
      "\u001b[32m2025-07-22 10:21:14.074\u001b[0m | \u001b[34m\u001b[1mDEBUG   \u001b[0m | \u001b[36mpygrn.evolution.evolution\u001b[0m:\u001b[36mreport\u001b[0m:\u001b[36m52\u001b[0m - \u001b[34m\u001b[1mS,2025-07-22T10:21:14.074248,55,0,80,0.715562,-477.470327,3,0.210000,0.052522,3.675000\u001b[0m\n",
      "\u001b[32m2025-07-22 10:21:14.075\u001b[0m | \u001b[34m\u001b[1mDEBUG   \u001b[0m | \u001b[36mpygrn.evolution.evolution\u001b[0m:\u001b[36mreport\u001b[0m:\u001b[36m52\u001b[0m - \u001b[34m\u001b[1mS,2025-07-22T10:21:14.075575,55,1,56,0.704189,-477.470327,3,0.190000,0.045655,3.696429\u001b[0m\n",
      "\u001b[32m2025-07-22 10:21:14.077\u001b[0m | \u001b[34m\u001b[1mDEBUG   \u001b[0m | \u001b[36mpygrn.evolution.evolution\u001b[0m:\u001b[36mreport\u001b[0m:\u001b[36m52\u001b[0m - \u001b[34m\u001b[1mS,2025-07-22T10:21:14.076810,55,2,148,0.718988,-455.948941,3,0.050000,0.031101,3.709459\u001b[0m\n",
      "\u001b[32m2025-07-22 10:21:14.078\u001b[0m | \u001b[34m\u001b[1mDEBUG   \u001b[0m | \u001b[36mpygrn.evolution.evolution\u001b[0m:\u001b[36mreport\u001b[0m:\u001b[36m52\u001b[0m - \u001b[34m\u001b[1mS,2025-07-22T10:21:14.078501,55,3,106,0.783941,-456.590407,3,0.250000,0.028460,3.660377\u001b[0m\n",
      "\u001b[32m2025-07-22 10:21:14.079\u001b[0m | \u001b[34m\u001b[1mDEBUG   \u001b[0m | \u001b[36mpygrn.evolution.evolution\u001b[0m:\u001b[36mreport\u001b[0m:\u001b[36m52\u001b[0m - \u001b[34m\u001b[1mS,2025-07-22T10:21:14.079482,55,4,84,0.746091,-477.470327,3,0.070000,0.043254,3.559524\u001b[0m\n",
      "\u001b[32m2025-07-22 10:21:14.080\u001b[0m | \u001b[34m\u001b[1mDEBUG   \u001b[0m | \u001b[36mpygrn.evolution.evolution\u001b[0m:\u001b[36mreport\u001b[0m:\u001b[36m52\u001b[0m - \u001b[34m\u001b[1mS,2025-07-22T10:21:14.080462,55,5,26,0.728937,-456.936370,3,0.070000,0.035201,3.692308\u001b[0m\n",
      "\u001b[32m2025-07-22 10:21:14.081\u001b[0m | \u001b[1mINFO    \u001b[0m | \u001b[36mpygrn.evolution.evolution\u001b[0m:\u001b[36mreport\u001b[0m:\u001b[36m80\u001b[0m - \u001b[1mGeneration 55: best fit -455.9489406454164, fit mean -523.2603367102373, fit std 45.954765446142034\u001b[0m\n"
     ]
    },
    {
     "name": "stdout",
     "output_type": "stream",
     "text": [
      "500\n"
     ]
    },
    {
     "name": "stderr",
     "output_type": "stream",
     "text": [
      "\u001b[32m2025-07-22 10:21:21.273\u001b[0m | \u001b[34m\u001b[1mDEBUG   \u001b[0m | \u001b[36mpygrn.evolution.evolution\u001b[0m:\u001b[36mreport\u001b[0m:\u001b[36m52\u001b[0m - \u001b[34m\u001b[1mS,2025-07-22T10:21:21.273298,56,0,74,0.713351,-477.470327,3,0.220000,0.041802,3.702703\u001b[0m\n",
      "\u001b[32m2025-07-22 10:21:21.274\u001b[0m | \u001b[34m\u001b[1mDEBUG   \u001b[0m | \u001b[36mpygrn.evolution.evolution\u001b[0m:\u001b[36mreport\u001b[0m:\u001b[36m52\u001b[0m - \u001b[34m\u001b[1mS,2025-07-22T10:21:21.274303,56,1,94,0.750561,-477.470327,3,0.180000,0.051074,3.553191\u001b[0m\n",
      "\u001b[32m2025-07-22 10:21:21.276\u001b[0m | \u001b[34m\u001b[1mDEBUG   \u001b[0m | \u001b[36mpygrn.evolution.evolution\u001b[0m:\u001b[36mreport\u001b[0m:\u001b[36m52\u001b[0m - \u001b[34m\u001b[1mS,2025-07-22T10:21:21.275454,56,2,88,0.715665,-455.948941,3,0.040000,0.025430,3.761364\u001b[0m\n",
      "\u001b[32m2025-07-22 10:21:21.277\u001b[0m | \u001b[34m\u001b[1mDEBUG   \u001b[0m | \u001b[36mpygrn.evolution.evolution\u001b[0m:\u001b[36mreport\u001b[0m:\u001b[36m52\u001b[0m - \u001b[34m\u001b[1mS,2025-07-22T10:21:21.276520,56,3,112,0.810193,-456.590407,3,0.240000,0.042839,3.607143\u001b[0m\n",
      "\u001b[32m2025-07-22 10:21:21.279\u001b[0m | \u001b[34m\u001b[1mDEBUG   \u001b[0m | \u001b[36mpygrn.evolution.evolution\u001b[0m:\u001b[36mreport\u001b[0m:\u001b[36m52\u001b[0m - \u001b[34m\u001b[1mS,2025-07-22T10:21:21.279080,56,4,61,0.740894,-477.190425,3,0.080000,0.046456,3.573770\u001b[0m\n",
      "\u001b[32m2025-07-22 10:21:21.280\u001b[0m | \u001b[34m\u001b[1mDEBUG   \u001b[0m | \u001b[36mpygrn.evolution.evolution\u001b[0m:\u001b[36mreport\u001b[0m:\u001b[36m52\u001b[0m - \u001b[34m\u001b[1mS,2025-07-22T10:21:21.279877,56,5,71,0.728444,-477.470324,3,0.080000,0.046897,3.633803\u001b[0m\n",
      "\u001b[32m2025-07-22 10:21:21.280\u001b[0m | \u001b[1mINFO    \u001b[0m | \u001b[36mpygrn.evolution.evolution\u001b[0m:\u001b[36mreport\u001b[0m:\u001b[36m80\u001b[0m - \u001b[1mGeneration 56: best fit -455.9489406454164, fit mean -520.6523602649438, fit std 45.47072129762178\u001b[0m\n"
     ]
    },
    {
     "name": "stdout",
     "output_type": "stream",
     "text": [
      "500\n"
     ]
    },
    {
     "name": "stderr",
     "output_type": "stream",
     "text": [
      "\u001b[32m2025-07-22 10:21:28.341\u001b[0m | \u001b[34m\u001b[1mDEBUG   \u001b[0m | \u001b[36mpygrn.evolution.evolution\u001b[0m:\u001b[36mreport\u001b[0m:\u001b[36m52\u001b[0m - \u001b[34m\u001b[1mS,2025-07-22T10:21:28.341002,57,0,88,0.736688,-477.470327,3,0.210000,0.043246,3.602273\u001b[0m\n",
      "\u001b[32m2025-07-22 10:21:28.342\u001b[0m | \u001b[34m\u001b[1mDEBUG   \u001b[0m | \u001b[36mpygrn.evolution.evolution\u001b[0m:\u001b[36mreport\u001b[0m:\u001b[36m52\u001b[0m - \u001b[34m\u001b[1mS,2025-07-22T10:21:28.342643,57,1,32,0.695864,-477.470327,3,0.190000,0.034725,3.750000\u001b[0m\n",
      "\u001b[32m2025-07-22 10:21:28.343\u001b[0m | \u001b[34m\u001b[1mDEBUG   \u001b[0m | \u001b[36mpygrn.evolution.evolution\u001b[0m:\u001b[36mreport\u001b[0m:\u001b[36m52\u001b[0m - \u001b[34m\u001b[1mS,2025-07-22T10:21:28.343549,57,2,64,0.735541,-455.948941,3,0.050000,0.024331,3.750000\u001b[0m\n",
      "\u001b[32m2025-07-22 10:21:28.345\u001b[0m | \u001b[34m\u001b[1mDEBUG   \u001b[0m | \u001b[36mpygrn.evolution.evolution\u001b[0m:\u001b[36mreport\u001b[0m:\u001b[36m52\u001b[0m - \u001b[34m\u001b[1mS,2025-07-22T10:21:28.344740,57,3,173,0.807842,-456.590407,3,0.230000,0.052933,3.502890\u001b[0m\n",
      "\u001b[32m2025-07-22 10:21:28.346\u001b[0m | \u001b[34m\u001b[1mDEBUG   \u001b[0m | \u001b[36mpygrn.evolution.evolution\u001b[0m:\u001b[36mreport\u001b[0m:\u001b[36m52\u001b[0m - \u001b[34m\u001b[1mS,2025-07-22T10:21:28.346249,57,4,83,0.737789,-477.470327,3,0.090000,0.043286,3.590361\u001b[0m\n",
      "\u001b[32m2025-07-22 10:21:28.348\u001b[0m | \u001b[34m\u001b[1mDEBUG   \u001b[0m | \u001b[36mpygrn.evolution.evolution\u001b[0m:\u001b[36mreport\u001b[0m:\u001b[36m52\u001b[0m - \u001b[34m\u001b[1mS,2025-07-22T10:21:28.347869,57,5,60,0.766638,-477.470327,3,0.090000,0.042778,3.500000\u001b[0m\n",
      "\u001b[32m2025-07-22 10:21:28.348\u001b[0m | \u001b[1mINFO    \u001b[0m | \u001b[36mpygrn.evolution.evolution\u001b[0m:\u001b[36mreport\u001b[0m:\u001b[36m80\u001b[0m - \u001b[1mGeneration 57: best fit -455.9489406454164, fit mean -516.9622933273562, fit std 43.20016603230291\u001b[0m\n"
     ]
    },
    {
     "name": "stdout",
     "output_type": "stream",
     "text": [
      "500\n"
     ]
    },
    {
     "name": "stderr",
     "output_type": "stream",
     "text": [
      "\u001b[32m2025-07-22 10:21:35.410\u001b[0m | \u001b[34m\u001b[1mDEBUG   \u001b[0m | \u001b[36mpygrn.evolution.evolution\u001b[0m:\u001b[36mreport\u001b[0m:\u001b[36m52\u001b[0m - \u001b[34m\u001b[1mS,2025-07-22T10:21:35.409908,58,0,71,0.742097,-477.470327,3,0.220000,0.043821,3.577465\u001b[0m\n",
      "\u001b[32m2025-07-22 10:21:35.412\u001b[0m | \u001b[34m\u001b[1mDEBUG   \u001b[0m | \u001b[36mpygrn.evolution.evolution\u001b[0m:\u001b[36mreport\u001b[0m:\u001b[36m52\u001b[0m - \u001b[34m\u001b[1mS,2025-07-22T10:21:35.411528,58,1,108,0.741357,-477.470327,3,0.180000,0.034118,3.583333\u001b[0m\n",
      "\u001b[32m2025-07-22 10:21:35.413\u001b[0m | \u001b[34m\u001b[1mDEBUG   \u001b[0m | \u001b[36mpygrn.evolution.evolution\u001b[0m:\u001b[36mreport\u001b[0m:\u001b[36m52\u001b[0m - \u001b[34m\u001b[1mS,2025-07-22T10:21:35.412926,58,2,100,0.757696,-455.900781,3,0.040000,0.024773,3.660000\u001b[0m\n",
      "\u001b[32m2025-07-22 10:21:35.414\u001b[0m | \u001b[34m\u001b[1mDEBUG   \u001b[0m | \u001b[36mpygrn.evolution.evolution\u001b[0m:\u001b[36mreport\u001b[0m:\u001b[36m52\u001b[0m - \u001b[34m\u001b[1mS,2025-07-22T10:21:35.414144,58,3,95,0.777307,-456.590407,3,0.220000,0.052159,3.578947\u001b[0m\n",
      "\u001b[32m2025-07-22 10:21:35.415\u001b[0m | \u001b[34m\u001b[1mDEBUG   \u001b[0m | \u001b[36mpygrn.evolution.evolution\u001b[0m:\u001b[36mreport\u001b[0m:\u001b[36m52\u001b[0m - \u001b[34m\u001b[1mS,2025-07-22T10:21:35.415364,58,4,45,0.668911,-477.470327,3,0.100000,0.042875,3.822222\u001b[0m\n",
      "\u001b[32m2025-07-22 10:21:35.416\u001b[0m | \u001b[34m\u001b[1mDEBUG   \u001b[0m | \u001b[36mpygrn.evolution.evolution\u001b[0m:\u001b[36mreport\u001b[0m:\u001b[36m52\u001b[0m - \u001b[34m\u001b[1mS,2025-07-22T10:21:35.416106,58,5,81,0.734381,-477.470327,3,0.100000,0.048198,3.617284\u001b[0m\n",
      "\u001b[32m2025-07-22 10:21:35.417\u001b[0m | \u001b[1mINFO    \u001b[0m | \u001b[36mpygrn.evolution.evolution\u001b[0m:\u001b[36mreport\u001b[0m:\u001b[36m80\u001b[0m - \u001b[1mGeneration 58: best fit -455.9007806721619, fit mean -521.6535621812117, fit std 44.462975233613115\u001b[0m\n"
     ]
    },
    {
     "name": "stdout",
     "output_type": "stream",
     "text": [
      "500\n"
     ]
    },
    {
     "name": "stderr",
     "output_type": "stream",
     "text": [
      "\u001b[32m2025-07-22 10:21:42.533\u001b[0m | \u001b[34m\u001b[1mDEBUG   \u001b[0m | \u001b[36mpygrn.evolution.evolution\u001b[0m:\u001b[36mreport\u001b[0m:\u001b[36m52\u001b[0m - \u001b[34m\u001b[1mS,2025-07-22T10:21:42.533529,59,0,40,0.770180,-477.470327,3,0.230000,0.042309,3.475000\u001b[0m\n",
      "\u001b[32m2025-07-22 10:21:42.535\u001b[0m | \u001b[34m\u001b[1mDEBUG   \u001b[0m | \u001b[36mpygrn.evolution.evolution\u001b[0m:\u001b[36mreport\u001b[0m:\u001b[36m52\u001b[0m - \u001b[34m\u001b[1mS,2025-07-22T10:21:42.534592,59,1,97,0.703511,-477.470327,3,0.170000,0.032062,3.721649\u001b[0m\n",
      "\u001b[32m2025-07-22 10:21:42.535\u001b[0m | \u001b[34m\u001b[1mDEBUG   \u001b[0m | \u001b[36mpygrn.evolution.evolution\u001b[0m:\u001b[36mreport\u001b[0m:\u001b[36m52\u001b[0m - \u001b[34m\u001b[1mS,2025-07-22T10:21:42.535556,59,2,68,0.795786,-455.900781,3,0.050000,0.014278,3.676471\u001b[0m\n",
      "\u001b[32m2025-07-22 10:21:42.537\u001b[0m | \u001b[34m\u001b[1mDEBUG   \u001b[0m | \u001b[36mpygrn.evolution.evolution\u001b[0m:\u001b[36mreport\u001b[0m:\u001b[36m52\u001b[0m - \u001b[34m\u001b[1mS,2025-07-22T10:21:42.536739,59,3,89,0.774965,-456.590407,3,0.210000,0.037648,3.617978\u001b[0m\n",
      "\u001b[32m2025-07-22 10:21:42.537\u001b[0m | \u001b[34m\u001b[1mDEBUG   \u001b[0m | \u001b[36mpygrn.evolution.evolution\u001b[0m:\u001b[36mreport\u001b[0m:\u001b[36m52\u001b[0m - \u001b[34m\u001b[1mS,2025-07-22T10:21:42.537565,59,4,62,0.768455,-477.470327,3,0.110000,0.045931,3.500000\u001b[0m\n",
      "\u001b[32m2025-07-22 10:21:42.539\u001b[0m | \u001b[34m\u001b[1mDEBUG   \u001b[0m | \u001b[36mpygrn.evolution.evolution\u001b[0m:\u001b[36mreport\u001b[0m:\u001b[36m52\u001b[0m - \u001b[34m\u001b[1mS,2025-07-22T10:21:42.538537,59,5,144,0.746436,-477.469760,3,0.090000,0.051231,3.562500\u001b[0m\n",
      "\u001b[32m2025-07-22 10:21:42.540\u001b[0m | \u001b[1mINFO    \u001b[0m | \u001b[36mpygrn.evolution.evolution\u001b[0m:\u001b[36mreport\u001b[0m:\u001b[36m80\u001b[0m - \u001b[1mGeneration 59: best fit -455.9007806721619, fit mean -518.9272938621157, fit std 45.37193131551138\u001b[0m\n"
     ]
    },
    {
     "name": "stdout",
     "output_type": "stream",
     "text": [
      "500\n"
     ]
    },
    {
     "name": "stderr",
     "output_type": "stream",
     "text": [
      "\u001b[32m2025-07-22 10:21:49.643\u001b[0m | \u001b[34m\u001b[1mDEBUG   \u001b[0m | \u001b[36mpygrn.evolution.evolution\u001b[0m:\u001b[36mreport\u001b[0m:\u001b[36m52\u001b[0m - \u001b[34m\u001b[1mS,2025-07-22T10:21:49.643543,60,0,41,0.706648,-477.470327,3,0.240000,0.036248,3.707317\u001b[0m\n",
      "\u001b[32m2025-07-22 10:21:49.645\u001b[0m | \u001b[34m\u001b[1mDEBUG   \u001b[0m | \u001b[36mpygrn.evolution.evolution\u001b[0m:\u001b[36mreport\u001b[0m:\u001b[36m52\u001b[0m - \u001b[34m\u001b[1mS,2025-07-22T10:21:49.644216,60,1,142,0.724888,-477.470327,3,0.160000,0.042136,3.640845\u001b[0m\n",
      "\u001b[32m2025-07-22 10:21:49.646\u001b[0m | \u001b[34m\u001b[1mDEBUG   \u001b[0m | \u001b[36mpygrn.evolution.evolution\u001b[0m:\u001b[36mreport\u001b[0m:\u001b[36m52\u001b[0m - \u001b[34m\u001b[1mS,2025-07-22T10:21:49.645603,60,2,129,0.782091,-455.900781,3,0.040000,0.025522,3.744186\u001b[0m\n",
      "\u001b[32m2025-07-22 10:21:49.647\u001b[0m | \u001b[34m\u001b[1mDEBUG   \u001b[0m | \u001b[36mpygrn.evolution.evolution\u001b[0m:\u001b[36mreport\u001b[0m:\u001b[36m52\u001b[0m - \u001b[34m\u001b[1mS,2025-07-22T10:21:49.646708,60,3,55,0.817461,-456.590407,3,0.220000,0.031317,3.418182\u001b[0m\n",
      "\u001b[32m2025-07-22 10:21:49.647\u001b[0m | \u001b[34m\u001b[1mDEBUG   \u001b[0m | \u001b[36mpygrn.evolution.evolution\u001b[0m:\u001b[36mreport\u001b[0m:\u001b[36m52\u001b[0m - \u001b[34m\u001b[1mS,2025-07-22T10:21:49.647416,60,4,51,0.740112,-477.470327,3,0.120000,0.045461,3.588235\u001b[0m\n",
      "\u001b[32m2025-07-22 10:21:49.648\u001b[0m | \u001b[34m\u001b[1mDEBUG   \u001b[0m | \u001b[36mpygrn.evolution.evolution\u001b[0m:\u001b[36mreport\u001b[0m:\u001b[36m52\u001b[0m - \u001b[34m\u001b[1mS,2025-07-22T10:21:49.648346,60,5,82,0.741259,-477.470327,3,0.100000,0.056562,3.573171\u001b[0m\n",
      "\u001b[32m2025-07-22 10:21:49.649\u001b[0m | \u001b[1mINFO    \u001b[0m | \u001b[36mpygrn.evolution.evolution\u001b[0m:\u001b[36mreport\u001b[0m:\u001b[36m80\u001b[0m - \u001b[1mGeneration 60: best fit -455.9007806721619, fit mean -519.4297134079039, fit std 43.037148499335295\u001b[0m\n"
     ]
    },
    {
     "name": "stdout",
     "output_type": "stream",
     "text": [
      "500\n"
     ]
    },
    {
     "name": "stderr",
     "output_type": "stream",
     "text": [
      "\u001b[32m2025-07-22 10:21:56.769\u001b[0m | \u001b[34m\u001b[1mDEBUG   \u001b[0m | \u001b[36mpygrn.evolution.evolution\u001b[0m:\u001b[36mreport\u001b[0m:\u001b[36m52\u001b[0m - \u001b[34m\u001b[1mS,2025-07-22T10:21:56.769179,61,0,93,0.737023,-477.470327,3,0.230000,0.027203,3.591398\u001b[0m\n",
      "\u001b[32m2025-07-22 10:21:56.770\u001b[0m | \u001b[34m\u001b[1mDEBUG   \u001b[0m | \u001b[36mpygrn.evolution.evolution\u001b[0m:\u001b[36mreport\u001b[0m:\u001b[36m52\u001b[0m - \u001b[34m\u001b[1mS,2025-07-22T10:21:56.770646,61,1,46,0.736076,-477.470327,3,0.170000,0.032539,3.608696\u001b[0m\n",
      "\u001b[32m2025-07-22 10:21:56.771\u001b[0m | \u001b[34m\u001b[1mDEBUG   \u001b[0m | \u001b[36mpygrn.evolution.evolution\u001b[0m:\u001b[36mreport\u001b[0m:\u001b[36m52\u001b[0m - \u001b[34m\u001b[1mS,2025-07-22T10:21:56.771426,61,2,78,0.789945,-455.900781,3,0.050000,0.020748,3.692308\u001b[0m\n",
      "\u001b[32m2025-07-22 10:21:56.772\u001b[0m | \u001b[34m\u001b[1mDEBUG   \u001b[0m | \u001b[36mpygrn.evolution.evolution\u001b[0m:\u001b[36mreport\u001b[0m:\u001b[36m52\u001b[0m - \u001b[34m\u001b[1mS,2025-07-22T10:21:56.772257,61,3,110,0.807565,-456.531283,3,0.210000,0.045176,3.509091\u001b[0m\n",
      "\u001b[32m2025-07-22 10:21:56.773\u001b[0m | \u001b[34m\u001b[1mDEBUG   \u001b[0m | \u001b[36mpygrn.evolution.evolution\u001b[0m:\u001b[36mreport\u001b[0m:\u001b[36m52\u001b[0m - \u001b[34m\u001b[1mS,2025-07-22T10:21:56.773478,61,4,94,0.738927,-477.470327,3,0.110000,0.047733,3.585106\u001b[0m\n",
      "\u001b[32m2025-07-22 10:21:56.774\u001b[0m | \u001b[34m\u001b[1mDEBUG   \u001b[0m | \u001b[36mpygrn.evolution.evolution\u001b[0m:\u001b[36mreport\u001b[0m:\u001b[36m52\u001b[0m - \u001b[34m\u001b[1mS,2025-07-22T10:21:56.774132,61,5,79,0.702583,-477.470327,3,0.110000,0.055220,3.721519\u001b[0m\n",
      "\u001b[32m2025-07-22 10:21:56.775\u001b[0m | \u001b[1mINFO    \u001b[0m | \u001b[36mpygrn.evolution.evolution\u001b[0m:\u001b[36mreport\u001b[0m:\u001b[36m80\u001b[0m - \u001b[1mGeneration 61: best fit -455.9007806721619, fit mean -518.6451091543477, fit std 43.95431131077334\u001b[0m\n"
     ]
    },
    {
     "name": "stdout",
     "output_type": "stream",
     "text": [
      "500\n"
     ]
    },
    {
     "name": "stderr",
     "output_type": "stream",
     "text": [
      "\u001b[32m2025-07-22 10:22:04.057\u001b[0m | \u001b[34m\u001b[1mDEBUG   \u001b[0m | \u001b[36mpygrn.evolution.evolution\u001b[0m:\u001b[36mreport\u001b[0m:\u001b[36m52\u001b[0m - \u001b[34m\u001b[1mS,2025-07-22T10:22:04.056871,62,0,75,0.691202,-477.470327,3,0.240000,0.028662,3.760000\u001b[0m\n",
      "\u001b[32m2025-07-22 10:22:04.058\u001b[0m | \u001b[34m\u001b[1mDEBUG   \u001b[0m | \u001b[36mpygrn.evolution.evolution\u001b[0m:\u001b[36mreport\u001b[0m:\u001b[36m52\u001b[0m - \u001b[34m\u001b[1mS,2025-07-22T10:22:04.058234,62,1,103,0.741937,-477.470327,3,0.160000,0.035979,3.592233\u001b[0m\n",
      "\u001b[32m2025-07-22 10:22:04.059\u001b[0m | \u001b[34m\u001b[1mDEBUG   \u001b[0m | \u001b[36mpygrn.evolution.evolution\u001b[0m:\u001b[36mreport\u001b[0m:\u001b[36m52\u001b[0m - \u001b[34m\u001b[1mS,2025-07-22T10:22:04.059292,62,2,85,0.790119,-455.900781,3,0.040000,0.026679,3.635294\u001b[0m\n",
      "\u001b[32m2025-07-22 10:22:04.060\u001b[0m | \u001b[34m\u001b[1mDEBUG   \u001b[0m | \u001b[36mpygrn.evolution.evolution\u001b[0m:\u001b[36mreport\u001b[0m:\u001b[36m52\u001b[0m - \u001b[34m\u001b[1mS,2025-07-22T10:22:04.060114,62,3,71,0.763992,-456.531283,3,0.220000,0.022393,3.774648\u001b[0m\n",
      "\u001b[32m2025-07-22 10:22:04.061\u001b[0m | \u001b[34m\u001b[1mDEBUG   \u001b[0m | \u001b[36mpygrn.evolution.evolution\u001b[0m:\u001b[36mreport\u001b[0m:\u001b[36m52\u001b[0m - \u001b[34m\u001b[1mS,2025-07-22T10:22:04.060776,62,4,93,0.754278,-461.774357,3,0.100000,0.038468,3.559140\u001b[0m\n",
      "\u001b[32m2025-07-22 10:22:04.061\u001b[0m | \u001b[34m\u001b[1mDEBUG   \u001b[0m | \u001b[36mpygrn.evolution.evolution\u001b[0m:\u001b[36mreport\u001b[0m:\u001b[36m52\u001b[0m - \u001b[34m\u001b[1mS,2025-07-22T10:22:04.061569,62,5,73,0.735339,-477.470327,3,0.120000,0.056922,3.602740\u001b[0m\n",
      "\u001b[32m2025-07-22 10:22:04.062\u001b[0m | \u001b[1mINFO    \u001b[0m | \u001b[36mpygrn.evolution.evolution\u001b[0m:\u001b[36mreport\u001b[0m:\u001b[36m80\u001b[0m - \u001b[1mGeneration 62: best fit -455.9007806721619, fit mean -520.8649702546044, fit std 46.53412148103451\u001b[0m\n"
     ]
    },
    {
     "name": "stdout",
     "output_type": "stream",
     "text": [
      "500\n"
     ]
    },
    {
     "name": "stderr",
     "output_type": "stream",
     "text": [
      "\u001b[32m2025-07-22 10:22:11.035\u001b[0m | \u001b[34m\u001b[1mDEBUG   \u001b[0m | \u001b[36mpygrn.evolution.evolution\u001b[0m:\u001b[36mreport\u001b[0m:\u001b[36m52\u001b[0m - \u001b[34m\u001b[1mS,2025-07-22T10:22:11.034203,63,0,146,0.733865,-477.470327,3,0.230000,0.047798,3.616438\u001b[0m\n",
      "\u001b[32m2025-07-22 10:22:11.036\u001b[0m | \u001b[34m\u001b[1mDEBUG   \u001b[0m | \u001b[36mpygrn.evolution.evolution\u001b[0m:\u001b[36mreport\u001b[0m:\u001b[36m52\u001b[0m - \u001b[34m\u001b[1mS,2025-07-22T10:22:11.036229,63,1,56,0.735098,-477.470327,3,0.170000,0.046457,3.589286\u001b[0m\n",
      "\u001b[32m2025-07-22 10:22:11.037\u001b[0m | \u001b[34m\u001b[1mDEBUG   \u001b[0m | \u001b[36mpygrn.evolution.evolution\u001b[0m:\u001b[36mreport\u001b[0m:\u001b[36m52\u001b[0m - \u001b[34m\u001b[1mS,2025-07-22T10:22:11.037336,63,2,70,0.776429,-455.900781,3,0.050000,0.014238,3.771429\u001b[0m\n",
      "\u001b[32m2025-07-22 10:22:11.038\u001b[0m | \u001b[34m\u001b[1mDEBUG   \u001b[0m | \u001b[36mpygrn.evolution.evolution\u001b[0m:\u001b[36mreport\u001b[0m:\u001b[36m52\u001b[0m - \u001b[34m\u001b[1mS,2025-07-22T10:22:11.038238,63,3,100,0.802093,-456.328544,3,0.210000,0.029295,3.640000\u001b[0m\n",
      "\u001b[32m2025-07-22 10:22:11.039\u001b[0m | \u001b[34m\u001b[1mDEBUG   \u001b[0m | \u001b[36mpygrn.evolution.evolution\u001b[0m:\u001b[36mreport\u001b[0m:\u001b[36m52\u001b[0m - \u001b[34m\u001b[1mS,2025-07-22T10:22:11.039394,63,4,77,0.719127,-477.470326,3,0.110000,0.039013,3.662338\u001b[0m\n",
      "\u001b[32m2025-07-22 10:22:11.040\u001b[0m | \u001b[34m\u001b[1mDEBUG   \u001b[0m | \u001b[36mpygrn.evolution.evolution\u001b[0m:\u001b[36mreport\u001b[0m:\u001b[36m52\u001b[0m - \u001b[34m\u001b[1mS,2025-07-22T10:22:11.040316,63,5,51,0.729057,-477.470327,3,0.130000,0.031698,3.627451\u001b[0m\n",
      "\u001b[32m2025-07-22 10:22:11.041\u001b[0m | \u001b[1mINFO    \u001b[0m | \u001b[36mpygrn.evolution.evolution\u001b[0m:\u001b[36mreport\u001b[0m:\u001b[36m80\u001b[0m - \u001b[1mGeneration 63: best fit -455.9007806721619, fit mean -519.8723046481546, fit std 45.19302254880224\u001b[0m\n"
     ]
    },
    {
     "name": "stdout",
     "output_type": "stream",
     "text": [
      "500\n"
     ]
    },
    {
     "name": "stderr",
     "output_type": "stream",
     "text": [
      "\u001b[32m2025-07-22 10:22:17.917\u001b[0m | \u001b[34m\u001b[1mDEBUG   \u001b[0m | \u001b[36mpygrn.evolution.evolution\u001b[0m:\u001b[36mreport\u001b[0m:\u001b[36m52\u001b[0m - \u001b[34m\u001b[1mS,2025-07-22T10:22:17.916925,64,0,66,0.677944,-477.470327,3,0.240000,0.044005,3.803030\u001b[0m\n",
      "\u001b[32m2025-07-22 10:22:17.918\u001b[0m | \u001b[34m\u001b[1mDEBUG   \u001b[0m | \u001b[36mpygrn.evolution.evolution\u001b[0m:\u001b[36mreport\u001b[0m:\u001b[36m52\u001b[0m - \u001b[34m\u001b[1mS,2025-07-22T10:22:17.918248,64,1,61,0.711172,-477.470327,3,0.180000,0.058627,3.688525\u001b[0m\n",
      "\u001b[32m2025-07-22 10:22:17.919\u001b[0m | \u001b[34m\u001b[1mDEBUG   \u001b[0m | \u001b[36mpygrn.evolution.evolution\u001b[0m:\u001b[36mreport\u001b[0m:\u001b[36m52\u001b[0m - \u001b[34m\u001b[1mS,2025-07-22T10:22:17.919167,64,2,108,0.833292,-455.900781,3,0.040000,0.016596,3.564815\u001b[0m\n",
      "\u001b[32m2025-07-22 10:22:17.920\u001b[0m | \u001b[34m\u001b[1mDEBUG   \u001b[0m | \u001b[36mpygrn.evolution.evolution\u001b[0m:\u001b[36mreport\u001b[0m:\u001b[36m52\u001b[0m - \u001b[34m\u001b[1mS,2025-07-22T10:22:17.920205,64,3,51,0.761723,-457.079080,3,0.220000,0.079600,3.549020\u001b[0m\n",
      "\u001b[32m2025-07-22 10:22:17.921\u001b[0m | \u001b[34m\u001b[1mDEBUG   \u001b[0m | \u001b[36mpygrn.evolution.evolution\u001b[0m:\u001b[36mreport\u001b[0m:\u001b[36m52\u001b[0m - \u001b[34m\u001b[1mS,2025-07-22T10:22:17.920816,64,4,95,0.746039,-459.206694,3,0.100000,0.064172,3.600000\u001b[0m\n",
      "\u001b[32m2025-07-22 10:22:17.922\u001b[0m | \u001b[34m\u001b[1mDEBUG   \u001b[0m | \u001b[36mpygrn.evolution.evolution\u001b[0m:\u001b[36mreport\u001b[0m:\u001b[36m52\u001b[0m - \u001b[34m\u001b[1mS,2025-07-22T10:22:17.921726,64,5,119,0.737846,-456.731078,3,0.120000,0.051005,3.672269\u001b[0m\n",
      "\u001b[32m2025-07-22 10:22:17.922\u001b[0m | \u001b[1mINFO    \u001b[0m | \u001b[36mpygrn.evolution.evolution\u001b[0m:\u001b[36mreport\u001b[0m:\u001b[36m80\u001b[0m - \u001b[1mGeneration 64: best fit -455.9007806721619, fit mean -519.757943613435, fit std 45.64661112825533\u001b[0m\n"
     ]
    },
    {
     "name": "stdout",
     "output_type": "stream",
     "text": [
      "500\n"
     ]
    },
    {
     "name": "stderr",
     "output_type": "stream",
     "text": [
      "\u001b[32m2025-07-22 10:22:24.812\u001b[0m | \u001b[34m\u001b[1mDEBUG   \u001b[0m | \u001b[36mpygrn.evolution.evolution\u001b[0m:\u001b[36mreport\u001b[0m:\u001b[36m52\u001b[0m - \u001b[34m\u001b[1mS,2025-07-22T10:22:24.811618,65,0,134,0.722732,-477.470327,3,0.230000,0.054776,3.656716\u001b[0m\n",
      "\u001b[32m2025-07-22 10:22:24.813\u001b[0m | \u001b[34m\u001b[1mDEBUG   \u001b[0m | \u001b[36mpygrn.evolution.evolution\u001b[0m:\u001b[36mreport\u001b[0m:\u001b[36m52\u001b[0m - \u001b[34m\u001b[1mS,2025-07-22T10:22:24.813123,65,1,86,0.720881,-477.470327,3,0.170000,0.030338,3.662791\u001b[0m\n",
      "\u001b[32m2025-07-22 10:22:24.814\u001b[0m | \u001b[34m\u001b[1mDEBUG   \u001b[0m | \u001b[36mpygrn.evolution.evolution\u001b[0m:\u001b[36mreport\u001b[0m:\u001b[36m52\u001b[0m - \u001b[34m\u001b[1mS,2025-07-22T10:22:24.814072,65,2,71,0.834413,-455.900781,3,0.050000,0.009766,3.591549\u001b[0m\n",
      "\u001b[32m2025-07-22 10:22:24.815\u001b[0m | \u001b[34m\u001b[1mDEBUG   \u001b[0m | \u001b[36mpygrn.evolution.evolution\u001b[0m:\u001b[36mreport\u001b[0m:\u001b[36m52\u001b[0m - \u001b[34m\u001b[1mS,2025-07-22T10:22:24.814758,65,3,40,0.733030,-469.188169,3,0.230000,0.036216,3.625000\u001b[0m\n",
      "\u001b[32m2025-07-22 10:22:24.815\u001b[0m | \u001b[34m\u001b[1mDEBUG   \u001b[0m | \u001b[36mpygrn.evolution.evolution\u001b[0m:\u001b[36mreport\u001b[0m:\u001b[36m52\u001b[0m - \u001b[34m\u001b[1mS,2025-07-22T10:22:24.815399,65,4,111,0.820442,-456.550318,3,0.090000,0.039929,3.540541\u001b[0m\n",
      "\u001b[32m2025-07-22 10:22:24.816\u001b[0m | \u001b[34m\u001b[1mDEBUG   \u001b[0m | \u001b[36mpygrn.evolution.evolution\u001b[0m:\u001b[36mreport\u001b[0m:\u001b[36m52\u001b[0m - \u001b[34m\u001b[1mS,2025-07-22T10:22:24.816213,65,5,58,0.764721,-456.328544,3,0.130000,0.044604,3.534483\u001b[0m\n",
      "\u001b[32m2025-07-22 10:22:24.816\u001b[0m | \u001b[1mINFO    \u001b[0m | \u001b[36mpygrn.evolution.evolution\u001b[0m:\u001b[36mreport\u001b[0m:\u001b[36m80\u001b[0m - \u001b[1mGeneration 65: best fit -455.9007806721619, fit mean -516.0694556508516, fit std 46.0896295588373\u001b[0m\n"
     ]
    },
    {
     "name": "stdout",
     "output_type": "stream",
     "text": [
      "500\n"
     ]
    },
    {
     "name": "stderr",
     "output_type": "stream",
     "text": [
      "\u001b[32m2025-07-22 10:22:31.797\u001b[0m | \u001b[34m\u001b[1mDEBUG   \u001b[0m | \u001b[36mpygrn.evolution.evolution\u001b[0m:\u001b[36mreport\u001b[0m:\u001b[36m52\u001b[0m - \u001b[34m\u001b[1mS,2025-07-22T10:22:31.797123,66,0,83,0.750668,-477.470327,3,0.240000,0.047183,3.554217\u001b[0m\n",
      "\u001b[32m2025-07-22 10:22:31.799\u001b[0m | \u001b[34m\u001b[1mDEBUG   \u001b[0m | \u001b[36mpygrn.evolution.evolution\u001b[0m:\u001b[36mreport\u001b[0m:\u001b[36m52\u001b[0m - \u001b[34m\u001b[1mS,2025-07-22T10:22:31.798520,66,1,92,0.758565,-477.470327,3,0.160000,0.040869,3.532609\u001b[0m\n",
      "\u001b[32m2025-07-22 10:22:31.800\u001b[0m | \u001b[34m\u001b[1mDEBUG   \u001b[0m | \u001b[36mpygrn.evolution.evolution\u001b[0m:\u001b[36mreport\u001b[0m:\u001b[36m52\u001b[0m - \u001b[34m\u001b[1mS,2025-07-22T10:22:31.800096,66,2,112,0.836761,-455.900781,3,0.040000,0.013081,3.553571\u001b[0m\n",
      "\u001b[32m2025-07-22 10:22:31.801\u001b[0m | \u001b[34m\u001b[1mDEBUG   \u001b[0m | \u001b[36mpygrn.evolution.evolution\u001b[0m:\u001b[36mreport\u001b[0m:\u001b[36m52\u001b[0m - \u001b[34m\u001b[1mS,2025-07-22T10:22:31.801171,66,3,121,0.765674,-456.318645,3,0.220000,0.037233,3.685950\u001b[0m\n",
      "\u001b[32m2025-07-22 10:22:31.802\u001b[0m | \u001b[34m\u001b[1mDEBUG   \u001b[0m | \u001b[36mpygrn.evolution.evolution\u001b[0m:\u001b[36mreport\u001b[0m:\u001b[36m52\u001b[0m - \u001b[34m\u001b[1mS,2025-07-22T10:22:31.802229,66,4,33,0.716180,-477.470327,3,0.100000,0.033953,3.666667\u001b[0m\n",
      "\u001b[32m2025-07-22 10:22:31.803\u001b[0m | \u001b[34m\u001b[1mDEBUG   \u001b[0m | \u001b[36mpygrn.evolution.evolution\u001b[0m:\u001b[36mreport\u001b[0m:\u001b[36m52\u001b[0m - \u001b[34m\u001b[1mS,2025-07-22T10:22:31.803160,66,5,59,0.731958,-456.943748,3,0.140000,0.028790,3.576271\u001b[0m\n",
      "\u001b[32m2025-07-22 10:22:31.803\u001b[0m | \u001b[1mINFO    \u001b[0m | \u001b[36mpygrn.evolution.evolution\u001b[0m:\u001b[36mreport\u001b[0m:\u001b[36m80\u001b[0m - \u001b[1mGeneration 66: best fit -455.9007806721619, fit mean -514.8127078905379, fit std 44.77129168578612\u001b[0m\n"
     ]
    },
    {
     "name": "stdout",
     "output_type": "stream",
     "text": [
      "500\n"
     ]
    },
    {
     "name": "stderr",
     "output_type": "stream",
     "text": [
      "\u001b[32m2025-07-22 10:22:38.899\u001b[0m | \u001b[34m\u001b[1mDEBUG   \u001b[0m | \u001b[36mpygrn.evolution.evolution\u001b[0m:\u001b[36mreport\u001b[0m:\u001b[36m52\u001b[0m - \u001b[34m\u001b[1mS,2025-07-22T10:22:38.898692,67,0,79,0.731587,-477.470327,3,0.250000,0.062265,3.607595\u001b[0m\n",
      "\u001b[32m2025-07-22 10:22:38.900\u001b[0m | \u001b[34m\u001b[1mDEBUG   \u001b[0m | \u001b[36mpygrn.evolution.evolution\u001b[0m:\u001b[36mreport\u001b[0m:\u001b[36m52\u001b[0m - \u001b[34m\u001b[1mS,2025-07-22T10:22:38.899925,67,1,98,0.779630,-477.470327,3,0.150000,0.045573,3.448980\u001b[0m\n",
      "\u001b[32m2025-07-22 10:22:38.902\u001b[0m | \u001b[34m\u001b[1mDEBUG   \u001b[0m | \u001b[36mpygrn.evolution.evolution\u001b[0m:\u001b[36mreport\u001b[0m:\u001b[36m52\u001b[0m - \u001b[34m\u001b[1mS,2025-07-22T10:22:38.901647,67,2,87,0.786636,-455.578056,3,0.030000,0.012212,3.678161\u001b[0m\n",
      "\u001b[32m2025-07-22 10:22:38.903\u001b[0m | \u001b[34m\u001b[1mDEBUG   \u001b[0m | \u001b[36mpygrn.evolution.evolution\u001b[0m:\u001b[36mreport\u001b[0m:\u001b[36m52\u001b[0m - \u001b[34m\u001b[1mS,2025-07-22T10:22:38.902993,67,3,50,0.743228,-465.280916,3,0.230000,0.034770,3.600000\u001b[0m\n",
      "\u001b[32m2025-07-22 10:22:38.904\u001b[0m | \u001b[34m\u001b[1mDEBUG   \u001b[0m | \u001b[36mpygrn.evolution.evolution\u001b[0m:\u001b[36mreport\u001b[0m:\u001b[36m52\u001b[0m - \u001b[34m\u001b[1mS,2025-07-22T10:22:38.903689,67,4,93,0.758884,-456.318645,3,0.090000,0.028846,3.602151\u001b[0m\n",
      "\u001b[32m2025-07-22 10:22:38.905\u001b[0m | \u001b[34m\u001b[1mDEBUG   \u001b[0m | \u001b[36mpygrn.evolution.evolution\u001b[0m:\u001b[36mreport\u001b[0m:\u001b[36m52\u001b[0m - \u001b[34m\u001b[1mS,2025-07-22T10:22:38.905162,67,5,93,0.756740,-456.328544,3,0.130000,0.038715,3.763441\u001b[0m\n",
      "\u001b[32m2025-07-22 10:22:38.906\u001b[0m | \u001b[1mINFO    \u001b[0m | \u001b[36mpygrn.evolution.evolution\u001b[0m:\u001b[36mreport\u001b[0m:\u001b[36m80\u001b[0m - \u001b[1mGeneration 67: best fit -455.57805631114024, fit mean -516.8910927664572, fit std 43.686312992732596\u001b[0m\n"
     ]
    },
    {
     "name": "stdout",
     "output_type": "stream",
     "text": [
      "500\n"
     ]
    },
    {
     "name": "stderr",
     "output_type": "stream",
     "text": [
      "\u001b[32m2025-07-22 10:22:45.878\u001b[0m | \u001b[34m\u001b[1mDEBUG   \u001b[0m | \u001b[36mpygrn.evolution.evolution\u001b[0m:\u001b[36mreport\u001b[0m:\u001b[36m52\u001b[0m - \u001b[34m\u001b[1mS,2025-07-22T10:22:45.877830,68,0,81,0.741864,-477.470327,3,0.260000,0.040495,3.580247\u001b[0m\n",
      "\u001b[32m2025-07-22 10:22:45.879\u001b[0m | \u001b[34m\u001b[1mDEBUG   \u001b[0m | \u001b[36mpygrn.evolution.evolution\u001b[0m:\u001b[36mreport\u001b[0m:\u001b[36m52\u001b[0m - \u001b[34m\u001b[1mS,2025-07-22T10:22:45.879078,68,1,73,0.780448,-477.470327,3,0.160000,0.047412,3.438356\u001b[0m\n",
      "\u001b[32m2025-07-22 10:22:45.880\u001b[0m | \u001b[34m\u001b[1mDEBUG   \u001b[0m | \u001b[36mpygrn.evolution.evolution\u001b[0m:\u001b[36mreport\u001b[0m:\u001b[36m52\u001b[0m - \u001b[34m\u001b[1mS,2025-07-22T10:22:45.879866,68,2,88,0.778265,-455.578056,3,0.030000,0.024484,3.670455\u001b[0m\n",
      "\u001b[32m2025-07-22 10:22:45.881\u001b[0m | \u001b[34m\u001b[1mDEBUG   \u001b[0m | \u001b[36mpygrn.evolution.evolution\u001b[0m:\u001b[36mreport\u001b[0m:\u001b[36m52\u001b[0m - \u001b[34m\u001b[1mS,2025-07-22T10:22:45.880995,68,3,71,0.745127,-463.641678,3,0.240000,0.029290,3.619718\u001b[0m\n",
      "\u001b[32m2025-07-22 10:22:45.882\u001b[0m | \u001b[34m\u001b[1mDEBUG   \u001b[0m | \u001b[36mpygrn.evolution.evolution\u001b[0m:\u001b[36mreport\u001b[0m:\u001b[36m52\u001b[0m - \u001b[34m\u001b[1mS,2025-07-22T10:22:45.881760,68,4,73,0.744518,-475.725025,3,0.100000,0.038477,3.561644\u001b[0m\n",
      "\u001b[32m2025-07-22 10:22:45.883\u001b[0m | \u001b[34m\u001b[1mDEBUG   \u001b[0m | \u001b[36mpygrn.evolution.evolution\u001b[0m:\u001b[36mreport\u001b[0m:\u001b[36m52\u001b[0m - \u001b[34m\u001b[1mS,2025-07-22T10:22:45.882508,68,5,114,0.796212,-456.177392,3,0.120000,0.031512,3.684211\u001b[0m\n",
      "\u001b[32m2025-07-22 10:22:45.883\u001b[0m | \u001b[1mINFO    \u001b[0m | \u001b[36mpygrn.evolution.evolution\u001b[0m:\u001b[36mreport\u001b[0m:\u001b[36m80\u001b[0m - \u001b[1mGeneration 68: best fit -455.57805631114024, fit mean -515.4400332745931, fit std 42.399574883350724\u001b[0m\n"
     ]
    },
    {
     "name": "stdout",
     "output_type": "stream",
     "text": [
      "500\n"
     ]
    },
    {
     "name": "stderr",
     "output_type": "stream",
     "text": [
      "\u001b[32m2025-07-22 10:22:52.989\u001b[0m | \u001b[34m\u001b[1mDEBUG   \u001b[0m | \u001b[36mpygrn.evolution.evolution\u001b[0m:\u001b[36mreport\u001b[0m:\u001b[36m52\u001b[0m - \u001b[34m\u001b[1mS,2025-07-22T10:22:52.988485,69,0,87,0.729126,-477.470327,3,0.250000,0.059598,3.620690\u001b[0m\n",
      "\u001b[32m2025-07-22 10:22:52.990\u001b[0m | \u001b[34m\u001b[1mDEBUG   \u001b[0m | \u001b[36mpygrn.evolution.evolution\u001b[0m:\u001b[36mreport\u001b[0m:\u001b[36m52\u001b[0m - \u001b[34m\u001b[1mS,2025-07-22T10:22:52.989671,69,1,81,0.741715,-477.470326,3,0.170000,0.050955,3.567901\u001b[0m\n",
      "\u001b[32m2025-07-22 10:22:52.992\u001b[0m | \u001b[34m\u001b[1mDEBUG   \u001b[0m | \u001b[36mpygrn.evolution.evolution\u001b[0m:\u001b[36mreport\u001b[0m:\u001b[36m52\u001b[0m - \u001b[34m\u001b[1mS,2025-07-22T10:22:52.991491,69,2,63,0.787257,-455.578056,3,0.040000,0.006729,3.761905\u001b[0m\n",
      "\u001b[32m2025-07-22 10:22:52.993\u001b[0m | \u001b[34m\u001b[1mDEBUG   \u001b[0m | \u001b[36mpygrn.evolution.evolution\u001b[0m:\u001b[36mreport\u001b[0m:\u001b[36m52\u001b[0m - \u001b[34m\u001b[1mS,2025-07-22T10:22:52.992980,69,3,69,0.781369,-463.641678,3,0.250000,0.021619,3.507246\u001b[0m\n",
      "\u001b[32m2025-07-22 10:22:52.995\u001b[0m | \u001b[34m\u001b[1mDEBUG   \u001b[0m | \u001b[36mpygrn.evolution.evolution\u001b[0m:\u001b[36mreport\u001b[0m:\u001b[36m52\u001b[0m - \u001b[34m\u001b[1mS,2025-07-22T10:22:52.994022,69,4,113,0.780000,-477.360354,3,0.090000,0.058611,3.451327\u001b[0m\n",
      "\u001b[32m2025-07-22 10:22:52.996\u001b[0m | \u001b[34m\u001b[1mDEBUG   \u001b[0m | \u001b[36mpygrn.evolution.evolution\u001b[0m:\u001b[36mreport\u001b[0m:\u001b[36m52\u001b[0m - \u001b[34m\u001b[1mS,2025-07-22T10:22:52.995839,69,5,87,0.791287,-456.268321,3,0.110000,0.033422,3.632184\u001b[0m\n",
      "\u001b[32m2025-07-22 10:22:52.997\u001b[0m | \u001b[1mINFO    \u001b[0m | \u001b[36mpygrn.evolution.evolution\u001b[0m:\u001b[36mreport\u001b[0m:\u001b[36m80\u001b[0m - \u001b[1mGeneration 69: best fit -455.57805631114024, fit mean -515.217180232034, fit std 43.59902426341037\u001b[0m\n"
     ]
    },
    {
     "name": "stdout",
     "output_type": "stream",
     "text": [
      "500\n"
     ]
    },
    {
     "name": "stderr",
     "output_type": "stream",
     "text": [
      "\u001b[32m2025-07-22 10:23:00.018\u001b[0m | \u001b[34m\u001b[1mDEBUG   \u001b[0m | \u001b[36mpygrn.evolution.evolution\u001b[0m:\u001b[36mreport\u001b[0m:\u001b[36m52\u001b[0m - \u001b[34m\u001b[1mS,2025-07-22T10:23:00.018232,70,0,79,0.744238,-477.470327,3,0.260000,0.045060,3.569620\u001b[0m\n",
      "\u001b[32m2025-07-22 10:23:00.019\u001b[0m | \u001b[34m\u001b[1mDEBUG   \u001b[0m | \u001b[36mpygrn.evolution.evolution\u001b[0m:\u001b[36mreport\u001b[0m:\u001b[36m52\u001b[0m - \u001b[34m\u001b[1mS,2025-07-22T10:23:00.019277,70,1,60,0.729764,-477.470327,3,0.180000,0.034061,3.616667\u001b[0m\n",
      "\u001b[32m2025-07-22 10:23:00.020\u001b[0m | \u001b[34m\u001b[1mDEBUG   \u001b[0m | \u001b[36mpygrn.evolution.evolution\u001b[0m:\u001b[36mreport\u001b[0m:\u001b[36m52\u001b[0m - \u001b[34m\u001b[1mS,2025-07-22T10:23:00.020398,70,2,114,0.787760,-455.578056,3,0.030000,0.013912,3.701754\u001b[0m\n",
      "\u001b[32m2025-07-22 10:23:00.021\u001b[0m | \u001b[34m\u001b[1mDEBUG   \u001b[0m | \u001b[36mpygrn.evolution.evolution\u001b[0m:\u001b[36mreport\u001b[0m:\u001b[36m52\u001b[0m - \u001b[34m\u001b[1mS,2025-07-22T10:23:00.021464,70,3,89,0.757512,-458.068697,3,0.240000,0.023915,3.595506\u001b[0m\n",
      "\u001b[32m2025-07-22 10:23:00.022\u001b[0m | \u001b[34m\u001b[1mDEBUG   \u001b[0m | \u001b[36mpygrn.evolution.evolution\u001b[0m:\u001b[36mreport\u001b[0m:\u001b[36m52\u001b[0m - \u001b[34m\u001b[1mS,2025-07-22T10:23:00.022266,70,4,50,0.769439,-456.801927,3,0.100000,0.036347,3.540000\u001b[0m\n",
      "\u001b[32m2025-07-22 10:23:00.023\u001b[0m | \u001b[34m\u001b[1mDEBUG   \u001b[0m | \u001b[36mpygrn.evolution.evolution\u001b[0m:\u001b[36mreport\u001b[0m:\u001b[36m52\u001b[0m - \u001b[34m\u001b[1mS,2025-07-22T10:23:00.023016,70,5,108,0.786744,-456.474021,3,0.100000,0.028243,3.537037\u001b[0m\n",
      "\u001b[32m2025-07-22 10:23:00.024\u001b[0m | \u001b[1mINFO    \u001b[0m | \u001b[36mpygrn.evolution.evolution\u001b[0m:\u001b[36mreport\u001b[0m:\u001b[36m80\u001b[0m - \u001b[1mGeneration 70: best fit -455.57805631114024, fit mean -515.6091749369966, fit std 44.73873992993433\u001b[0m\n"
     ]
    },
    {
     "name": "stdout",
     "output_type": "stream",
     "text": [
      "500\n"
     ]
    },
    {
     "name": "stderr",
     "output_type": "stream",
     "text": [
      "\u001b[32m2025-07-22 10:23:07.091\u001b[0m | \u001b[34m\u001b[1mDEBUG   \u001b[0m | \u001b[36mpygrn.evolution.evolution\u001b[0m:\u001b[36mreport\u001b[0m:\u001b[36m52\u001b[0m - \u001b[34m\u001b[1mS,2025-07-22T10:23:07.090622,71,0,61,0.775420,-477.470327,3,0.270000,0.041408,3.459016\u001b[0m\n",
      "\u001b[32m2025-07-22 10:23:07.092\u001b[0m | \u001b[34m\u001b[1mDEBUG   \u001b[0m | \u001b[36mpygrn.evolution.evolution\u001b[0m:\u001b[36mreport\u001b[0m:\u001b[36m52\u001b[0m - \u001b[34m\u001b[1mS,2025-07-22T10:23:07.091874,71,1,107,0.728079,-477.470327,3,0.170000,0.068012,3.626168\u001b[0m\n",
      "\u001b[32m2025-07-22 10:23:07.093\u001b[0m | \u001b[34m\u001b[1mDEBUG   \u001b[0m | \u001b[36mpygrn.evolution.evolution\u001b[0m:\u001b[36mreport\u001b[0m:\u001b[36m52\u001b[0m - \u001b[34m\u001b[1mS,2025-07-22T10:23:07.093122,71,2,87,0.779808,-455.578056,3,0.030000,0.010705,3.747126\u001b[0m\n",
      "\u001b[32m2025-07-22 10:23:07.094\u001b[0m | \u001b[34m\u001b[1mDEBUG   \u001b[0m | \u001b[36mpygrn.evolution.evolution\u001b[0m:\u001b[36mreport\u001b[0m:\u001b[36m52\u001b[0m - \u001b[34m\u001b[1mS,2025-07-22T10:23:07.094321,71,3,88,0.770381,-458.068697,3,0.230000,0.021051,3.602273\u001b[0m\n",
      "\u001b[32m2025-07-22 10:23:07.095\u001b[0m | \u001b[34m\u001b[1mDEBUG   \u001b[0m | \u001b[36mpygrn.evolution.evolution\u001b[0m:\u001b[36mreport\u001b[0m:\u001b[36m52\u001b[0m - \u001b[34m\u001b[1mS,2025-07-22T10:23:07.095148,71,4,106,0.797545,-456.785297,3,0.090000,0.047299,3.537736\u001b[0m\n",
      "\u001b[32m2025-07-22 10:23:07.096\u001b[0m | \u001b[34m\u001b[1mDEBUG   \u001b[0m | \u001b[36mpygrn.evolution.evolution\u001b[0m:\u001b[36mreport\u001b[0m:\u001b[36m52\u001b[0m - \u001b[34m\u001b[1mS,2025-07-22T10:23:07.096211,71,5,51,0.791704,-456.474021,3,0.110000,0.017398,3.607843\u001b[0m\n",
      "\u001b[32m2025-07-22 10:23:07.096\u001b[0m | \u001b[1mINFO    \u001b[0m | \u001b[36mpygrn.evolution.evolution\u001b[0m:\u001b[36mreport\u001b[0m:\u001b[36m80\u001b[0m - \u001b[1mGeneration 71: best fit -455.57805631114024, fit mean -514.3163546265812, fit std 43.07141479495049\u001b[0m\n"
     ]
    },
    {
     "name": "stdout",
     "output_type": "stream",
     "text": [
      "500\n"
     ]
    },
    {
     "name": "stderr",
     "output_type": "stream",
     "text": [
      "\u001b[32m2025-07-22 10:23:13.995\u001b[0m | \u001b[34m\u001b[1mDEBUG   \u001b[0m | \u001b[36mpygrn.evolution.evolution\u001b[0m:\u001b[36mreport\u001b[0m:\u001b[36m52\u001b[0m - \u001b[34m\u001b[1mS,2025-07-22T10:23:13.995080,72,0,64,0.752645,-477.470327,3,0.280000,0.053039,3.546875\u001b[0m\n",
      "\u001b[32m2025-07-22 10:23:13.996\u001b[0m | \u001b[34m\u001b[1mDEBUG   \u001b[0m | \u001b[36mpygrn.evolution.evolution\u001b[0m:\u001b[36mreport\u001b[0m:\u001b[36m52\u001b[0m - \u001b[34m\u001b[1mS,2025-07-22T10:23:13.996429,72,1,83,0.767153,-477.470327,3,0.180000,0.058765,3.493976\u001b[0m\n",
      "\u001b[32m2025-07-22 10:23:13.998\u001b[0m | \u001b[34m\u001b[1mDEBUG   \u001b[0m | \u001b[36mpygrn.evolution.evolution\u001b[0m:\u001b[36mreport\u001b[0m:\u001b[36m52\u001b[0m - \u001b[34m\u001b[1mS,2025-07-22T10:23:13.997698,72,2,72,0.783596,-455.578056,3,0.040000,0.021994,3.750000\u001b[0m\n",
      "\u001b[32m2025-07-22 10:23:13.998\u001b[0m | \u001b[34m\u001b[1mDEBUG   \u001b[0m | \u001b[36mpygrn.evolution.evolution\u001b[0m:\u001b[36mreport\u001b[0m:\u001b[36m52\u001b[0m - \u001b[34m\u001b[1mS,2025-07-22T10:23:13.998459,72,3,96,0.774896,-457.373485,3,0.220000,0.021229,3.604167\u001b[0m\n",
      "\u001b[32m2025-07-22 10:23:13.999\u001b[0m | \u001b[34m\u001b[1mDEBUG   \u001b[0m | \u001b[36mpygrn.evolution.evolution\u001b[0m:\u001b[36mreport\u001b[0m:\u001b[36m52\u001b[0m - \u001b[34m\u001b[1mS,2025-07-22T10:23:13.999356,72,4,99,0.785563,-455.550626,3,0.080000,0.029822,3.626263\u001b[0m\n",
      "\u001b[32m2025-07-22 10:23:14.000\u001b[0m | \u001b[34m\u001b[1mDEBUG   \u001b[0m | \u001b[36mpygrn.evolution.evolution\u001b[0m:\u001b[36mreport\u001b[0m:\u001b[36m52\u001b[0m - \u001b[34m\u001b[1mS,2025-07-22T10:23:14.000339,72,5,86,0.820979,-456.318645,3,0.100000,0.051276,3.430233\u001b[0m\n",
      "\u001b[32m2025-07-22 10:23:14.001\u001b[0m | \u001b[1mINFO    \u001b[0m | \u001b[36mpygrn.evolution.evolution\u001b[0m:\u001b[36mreport\u001b[0m:\u001b[36m80\u001b[0m - \u001b[1mGeneration 72: best fit -455.5506260948809, fit mean -512.2788184225573, fit std 41.936587189432224\u001b[0m\n"
     ]
    },
    {
     "name": "stdout",
     "output_type": "stream",
     "text": [
      "500\n"
     ]
    },
    {
     "name": "stderr",
     "output_type": "stream",
     "text": [
      "\u001b[32m2025-07-22 10:23:21.059\u001b[0m | \u001b[34m\u001b[1mDEBUG   \u001b[0m | \u001b[36mpygrn.evolution.evolution\u001b[0m:\u001b[36mreport\u001b[0m:\u001b[36m52\u001b[0m - \u001b[34m\u001b[1mS,2025-07-22T10:23:21.059012,73,0,101,0.731512,-477.470327,3,0.270000,0.042022,3.623762\u001b[0m\n",
      "\u001b[32m2025-07-22 10:23:21.060\u001b[0m | \u001b[34m\u001b[1mDEBUG   \u001b[0m | \u001b[36mpygrn.evolution.evolution\u001b[0m:\u001b[36mreport\u001b[0m:\u001b[36m52\u001b[0m - \u001b[34m\u001b[1mS,2025-07-22T10:23:21.060523,73,1,83,0.751687,-477.470327,3,0.190000,0.058682,3.554217\u001b[0m\n",
      "\u001b[32m2025-07-22 10:23:21.061\u001b[0m | \u001b[34m\u001b[1mDEBUG   \u001b[0m | \u001b[36mpygrn.evolution.evolution\u001b[0m:\u001b[36mreport\u001b[0m:\u001b[36m52\u001b[0m - \u001b[34m\u001b[1mS,2025-07-22T10:23:21.061566,73,2,60,0.772627,-456.645812,3,0.050000,0.018542,3.700000\u001b[0m\n",
      "\u001b[32m2025-07-22 10:23:21.063\u001b[0m | \u001b[34m\u001b[1mDEBUG   \u001b[0m | \u001b[36mpygrn.evolution.evolution\u001b[0m:\u001b[36mreport\u001b[0m:\u001b[36m52\u001b[0m - \u001b[34m\u001b[1mS,2025-07-22T10:23:21.062615,73,3,70,0.744328,-459.752367,3,0.230000,0.022040,3.742857\u001b[0m\n",
      "\u001b[32m2025-07-22 10:23:21.063\u001b[0m | \u001b[34m\u001b[1mDEBUG   \u001b[0m | \u001b[36mpygrn.evolution.evolution\u001b[0m:\u001b[36mreport\u001b[0m:\u001b[36m52\u001b[0m - \u001b[34m\u001b[1mS,2025-07-22T10:23:21.063453,73,4,76,0.776771,-455.527186,3,0.090000,0.007770,3.697368\u001b[0m\n",
      "\u001b[32m2025-07-22 10:23:21.064\u001b[0m | \u001b[34m\u001b[1mDEBUG   \u001b[0m | \u001b[36mpygrn.evolution.evolution\u001b[0m:\u001b[36mreport\u001b[0m:\u001b[36m52\u001b[0m - \u001b[34m\u001b[1mS,2025-07-22T10:23:21.064138,73,5,110,0.803550,-456.318645,3,0.090000,0.022115,3.581818\u001b[0m\n",
      "\u001b[32m2025-07-22 10:23:21.064\u001b[0m | \u001b[1mINFO    \u001b[0m | \u001b[36mpygrn.evolution.evolution\u001b[0m:\u001b[36mreport\u001b[0m:\u001b[36m80\u001b[0m - \u001b[1mGeneration 73: best fit -455.52718632891424, fit mean -516.8775520493367, fit std 44.019062459471776\u001b[0m\n"
     ]
    },
    {
     "name": "stdout",
     "output_type": "stream",
     "text": [
      "500\n"
     ]
    },
    {
     "name": "stderr",
     "output_type": "stream",
     "text": [
      "\u001b[32m2025-07-22 10:23:28.196\u001b[0m | \u001b[34m\u001b[1mDEBUG   \u001b[0m | \u001b[36mpygrn.evolution.evolution\u001b[0m:\u001b[36mreport\u001b[0m:\u001b[36m52\u001b[0m - \u001b[34m\u001b[1mS,2025-07-22T10:23:28.196357,74,0,71,0.762090,-477.470327,3,0.280000,0.032491,3.521127\u001b[0m\n",
      "\u001b[32m2025-07-22 10:23:28.198\u001b[0m | \u001b[34m\u001b[1mDEBUG   \u001b[0m | \u001b[36mpygrn.evolution.evolution\u001b[0m:\u001b[36mreport\u001b[0m:\u001b[36m52\u001b[0m - \u001b[34m\u001b[1mS,2025-07-22T10:23:28.197633,74,1,101,0.743914,-477.470327,3,0.180000,0.084573,3.574257\u001b[0m\n",
      "\u001b[32m2025-07-22 10:23:28.199\u001b[0m | \u001b[34m\u001b[1mDEBUG   \u001b[0m | \u001b[36mpygrn.evolution.evolution\u001b[0m:\u001b[36mreport\u001b[0m:\u001b[36m52\u001b[0m - \u001b[34m\u001b[1mS,2025-07-22T10:23:28.199027,74,2,80,0.812436,-456.645812,3,0.060000,0.024717,3.700000\u001b[0m\n",
      "\u001b[32m2025-07-22 10:23:28.200\u001b[0m | \u001b[34m\u001b[1mDEBUG   \u001b[0m | \u001b[36mpygrn.evolution.evolution\u001b[0m:\u001b[36mreport\u001b[0m:\u001b[36m52\u001b[0m - \u001b[34m\u001b[1mS,2025-07-22T10:23:28.200231,74,3,83,0.783716,-457.101988,3,0.240000,0.022963,3.614458\u001b[0m\n",
      "\u001b[32m2025-07-22 10:23:28.201\u001b[0m | \u001b[34m\u001b[1mDEBUG   \u001b[0m | \u001b[36mpygrn.evolution.evolution\u001b[0m:\u001b[36mreport\u001b[0m:\u001b[36m52\u001b[0m - \u001b[34m\u001b[1mS,2025-07-22T10:23:28.201360,74,4,85,0.788180,-455.439364,3,0.080000,0.016359,3.682353\u001b[0m\n",
      "\u001b[32m2025-07-22 10:23:28.202\u001b[0m | \u001b[34m\u001b[1mDEBUG   \u001b[0m | \u001b[36mpygrn.evolution.evolution\u001b[0m:\u001b[36mreport\u001b[0m:\u001b[36m52\u001b[0m - \u001b[34m\u001b[1mS,2025-07-22T10:23:28.202492,74,5,80,0.821822,-456.318645,3,0.100000,0.022282,3.587500\u001b[0m\n",
      "\u001b[32m2025-07-22 10:23:28.203\u001b[0m | \u001b[1mINFO    \u001b[0m | \u001b[36mpygrn.evolution.evolution\u001b[0m:\u001b[36mreport\u001b[0m:\u001b[36m80\u001b[0m - \u001b[1mGeneration 74: best fit -455.439363785474, fit mean -511.6704162448418, fit std 43.23277002663995\u001b[0m\n"
     ]
    },
    {
     "name": "stdout",
     "output_type": "stream",
     "text": [
      "500\n"
     ]
    },
    {
     "name": "stderr",
     "output_type": "stream",
     "text": [
      "\u001b[32m2025-07-22 10:23:35.543\u001b[0m | \u001b[34m\u001b[1mDEBUG   \u001b[0m | \u001b[36mpygrn.evolution.evolution\u001b[0m:\u001b[36mreport\u001b[0m:\u001b[36m52\u001b[0m - \u001b[34m\u001b[1mS,2025-07-22T10:23:35.542658,75,0,84,0.756989,-477.470327,3,0.270000,0.026905,3.535714\u001b[0m\n",
      "\u001b[32m2025-07-22 10:23:35.544\u001b[0m | \u001b[34m\u001b[1mDEBUG   \u001b[0m | \u001b[36mpygrn.evolution.evolution\u001b[0m:\u001b[36mreport\u001b[0m:\u001b[36m52\u001b[0m - \u001b[34m\u001b[1mS,2025-07-22T10:23:35.543838,75,1,38,0.787950,-477.470327,3,0.190000,0.067507,3.421053\u001b[0m\n",
      "\u001b[32m2025-07-22 10:23:35.545\u001b[0m | \u001b[34m\u001b[1mDEBUG   \u001b[0m | \u001b[36mpygrn.evolution.evolution\u001b[0m:\u001b[36mreport\u001b[0m:\u001b[36m52\u001b[0m - \u001b[34m\u001b[1mS,2025-07-22T10:23:35.544614,75,2,169,0.799013,-455.439364,3,0.050000,0.020264,3.698225\u001b[0m\n",
      "\u001b[32m2025-07-22 10:23:35.546\u001b[0m | \u001b[34m\u001b[1mDEBUG   \u001b[0m | \u001b[36mpygrn.evolution.evolution\u001b[0m:\u001b[36mreport\u001b[0m:\u001b[36m52\u001b[0m - \u001b[34m\u001b[1mS,2025-07-22T10:23:35.546344,75,3,49,0.739923,-458.326142,3,0.250000,0.033682,3.714286\u001b[0m\n",
      "\u001b[32m2025-07-22 10:23:35.547\u001b[0m | \u001b[34m\u001b[1mDEBUG   \u001b[0m | \u001b[36mpygrn.evolution.evolution\u001b[0m:\u001b[36mreport\u001b[0m:\u001b[36m52\u001b[0m - \u001b[34m\u001b[1mS,2025-07-22T10:23:35.546919,75,4,49,0.771958,-477.470327,3,0.090000,0.037075,3.489796\u001b[0m\n",
      "\u001b[32m2025-07-22 10:23:35.548\u001b[0m | \u001b[34m\u001b[1mDEBUG   \u001b[0m | \u001b[36mpygrn.evolution.evolution\u001b[0m:\u001b[36mreport\u001b[0m:\u001b[36m52\u001b[0m - \u001b[34m\u001b[1mS,2025-07-22T10:23:35.547964,75,5,111,0.805192,-456.318645,3,0.090000,0.020402,3.630631\u001b[0m\n",
      "\u001b[32m2025-07-22 10:23:35.549\u001b[0m | \u001b[1mINFO    \u001b[0m | \u001b[36mpygrn.evolution.evolution\u001b[0m:\u001b[36mreport\u001b[0m:\u001b[36m80\u001b[0m - \u001b[1mGeneration 75: best fit -455.439363785474, fit mean -511.67411690254255, fit std 43.23578622952998\u001b[0m\n"
     ]
    },
    {
     "name": "stdout",
     "output_type": "stream",
     "text": [
      "500\n"
     ]
    },
    {
     "name": "stderr",
     "output_type": "stream",
     "text": [
      "\u001b[32m2025-07-22 10:23:42.912\u001b[0m | \u001b[34m\u001b[1mDEBUG   \u001b[0m | \u001b[36mpygrn.evolution.evolution\u001b[0m:\u001b[36mreport\u001b[0m:\u001b[36m52\u001b[0m - \u001b[34m\u001b[1mS,2025-07-22T10:23:42.911936,76,0,99,0.751885,-477.470327,3,0.260000,0.039448,3.545455\u001b[0m\n",
      "\u001b[32m2025-07-22 10:23:42.913\u001b[0m | \u001b[34m\u001b[1mDEBUG   \u001b[0m | \u001b[36mpygrn.evolution.evolution\u001b[0m:\u001b[36mreport\u001b[0m:\u001b[36m52\u001b[0m - \u001b[34m\u001b[1mS,2025-07-22T10:23:42.913494,76,1,75,0.745003,-477.470327,3,0.200000,0.043720,3.573333\u001b[0m\n",
      "\u001b[32m2025-07-22 10:23:42.915\u001b[0m | \u001b[34m\u001b[1mDEBUG   \u001b[0m | \u001b[36mpygrn.evolution.evolution\u001b[0m:\u001b[36mreport\u001b[0m:\u001b[36m52\u001b[0m - \u001b[34m\u001b[1mS,2025-07-22T10:23:42.914941,76,2,78,0.805141,-455.439364,3,0.060000,0.020230,3.692308\u001b[0m\n",
      "\u001b[32m2025-07-22 10:23:42.917\u001b[0m | \u001b[34m\u001b[1mDEBUG   \u001b[0m | \u001b[36mpygrn.evolution.evolution\u001b[0m:\u001b[36mreport\u001b[0m:\u001b[36m52\u001b[0m - \u001b[34m\u001b[1mS,2025-07-22T10:23:42.916164,76,3,102,0.735867,-457.893873,3,0.240000,0.014245,3.794118\u001b[0m\n",
      "\u001b[32m2025-07-22 10:23:42.918\u001b[0m | \u001b[34m\u001b[1mDEBUG   \u001b[0m | \u001b[36mpygrn.evolution.evolution\u001b[0m:\u001b[36mreport\u001b[0m:\u001b[36m52\u001b[0m - \u001b[34m\u001b[1mS,2025-07-22T10:23:42.917708,76,4,89,0.708207,-477.470327,3,0.080000,0.046645,3.707865\u001b[0m\n",
      "\u001b[32m2025-07-22 10:23:42.919\u001b[0m | \u001b[34m\u001b[1mDEBUG   \u001b[0m | \u001b[36mpygrn.evolution.evolution\u001b[0m:\u001b[36mreport\u001b[0m:\u001b[36m52\u001b[0m - \u001b[34m\u001b[1mS,2025-07-22T10:23:42.919117,76,5,57,0.791321,-456.318645,3,0.100000,0.023280,3.719298\u001b[0m\n",
      "\u001b[32m2025-07-22 10:23:42.920\u001b[0m | \u001b[1mINFO    \u001b[0m | \u001b[36mpygrn.evolution.evolution\u001b[0m:\u001b[36mreport\u001b[0m:\u001b[36m80\u001b[0m - \u001b[1mGeneration 76: best fit -455.439363785474, fit mean -519.8578113355798, fit std 43.60679828837987\u001b[0m\n"
     ]
    },
    {
     "name": "stdout",
     "output_type": "stream",
     "text": [
      "500\n"
     ]
    },
    {
     "name": "stderr",
     "output_type": "stream",
     "text": [
      "\u001b[32m2025-07-22 10:23:50.258\u001b[0m | \u001b[34m\u001b[1mDEBUG   \u001b[0m | \u001b[36mpygrn.evolution.evolution\u001b[0m:\u001b[36mreport\u001b[0m:\u001b[36m52\u001b[0m - \u001b[34m\u001b[1mS,2025-07-22T10:23:50.257419,77,0,89,0.742966,-477.470327,3,0.250000,0.048722,3.584270\u001b[0m\n",
      "\u001b[32m2025-07-22 10:23:50.259\u001b[0m | \u001b[34m\u001b[1mDEBUG   \u001b[0m | \u001b[36mpygrn.evolution.evolution\u001b[0m:\u001b[36mreport\u001b[0m:\u001b[36m52\u001b[0m - \u001b[34m\u001b[1mS,2025-07-22T10:23:50.258891,77,1,89,0.767522,-477.470327,3,0.190000,0.041635,3.494382\u001b[0m\n",
      "\u001b[32m2025-07-22 10:23:50.260\u001b[0m | \u001b[34m\u001b[1mDEBUG   \u001b[0m | \u001b[36mpygrn.evolution.evolution\u001b[0m:\u001b[36mreport\u001b[0m:\u001b[36m52\u001b[0m - \u001b[34m\u001b[1mS,2025-07-22T10:23:50.259957,77,2,87,0.845894,-455.439364,3,0.050000,0.027009,3.574713\u001b[0m\n",
      "\u001b[32m2025-07-22 10:23:50.261\u001b[0m | \u001b[34m\u001b[1mDEBUG   \u001b[0m | \u001b[36mpygrn.evolution.evolution\u001b[0m:\u001b[36mreport\u001b[0m:\u001b[36m52\u001b[0m - \u001b[34m\u001b[1mS,2025-07-22T10:23:50.260853,77,3,74,0.755511,-457.580004,3,0.250000,0.024649,3.756757\u001b[0m\n",
      "\u001b[32m2025-07-22 10:23:50.261\u001b[0m | \u001b[34m\u001b[1mDEBUG   \u001b[0m | \u001b[36mpygrn.evolution.evolution\u001b[0m:\u001b[36mreport\u001b[0m:\u001b[36m52\u001b[0m - \u001b[34m\u001b[1mS,2025-07-22T10:23:50.261549,77,4,52,0.707359,-477.470327,3,0.090000,0.049585,3.692308\u001b[0m\n",
      "\u001b[32m2025-07-22 10:23:50.262\u001b[0m | \u001b[34m\u001b[1mDEBUG   \u001b[0m | \u001b[36mpygrn.evolution.evolution\u001b[0m:\u001b[36mreport\u001b[0m:\u001b[36m52\u001b[0m - \u001b[34m\u001b[1mS,2025-07-22T10:23:50.262037,77,5,109,0.803783,-456.318645,3,0.090000,0.022815,3.642202\u001b[0m\n",
      "\u001b[32m2025-07-22 10:23:50.263\u001b[0m | \u001b[1mINFO    \u001b[0m | \u001b[36mpygrn.evolution.evolution\u001b[0m:\u001b[36mreport\u001b[0m:\u001b[36m80\u001b[0m - \u001b[1mGeneration 77: best fit -455.439363785474, fit mean -513.5968243957442, fit std 43.24001135409591\u001b[0m\n"
     ]
    },
    {
     "name": "stdout",
     "output_type": "stream",
     "text": [
      "500\n"
     ]
    },
    {
     "name": "stderr",
     "output_type": "stream",
     "text": [
      "\u001b[32m2025-07-22 10:23:57.617\u001b[0m | \u001b[34m\u001b[1mDEBUG   \u001b[0m | \u001b[36mpygrn.evolution.evolution\u001b[0m:\u001b[36mreport\u001b[0m:\u001b[36m52\u001b[0m - \u001b[34m\u001b[1mS,2025-07-22T10:23:57.617359,78,0,87,0.726893,-477.470327,3,0.240000,0.054681,3.643678\u001b[0m\n",
      "\u001b[32m2025-07-22 10:23:57.618\u001b[0m | \u001b[34m\u001b[1mDEBUG   \u001b[0m | \u001b[36mpygrn.evolution.evolution\u001b[0m:\u001b[36mreport\u001b[0m:\u001b[36m52\u001b[0m - \u001b[34m\u001b[1mS,2025-07-22T10:23:57.618388,78,1,71,0.787669,-477.470327,3,0.200000,0.042249,3.436620\u001b[0m\n",
      "\u001b[32m2025-07-22 10:23:57.619\u001b[0m | \u001b[34m\u001b[1mDEBUG   \u001b[0m | \u001b[36mpygrn.evolution.evolution\u001b[0m:\u001b[36mreport\u001b[0m:\u001b[36m52\u001b[0m - \u001b[34m\u001b[1mS,2025-07-22T10:23:57.619271,78,2,89,0.820578,-455.439364,3,0.040000,0.024388,3.595506\u001b[0m\n",
      "\u001b[32m2025-07-22 10:23:57.620\u001b[0m | \u001b[34m\u001b[1mDEBUG   \u001b[0m | \u001b[36mpygrn.evolution.evolution\u001b[0m:\u001b[36mreport\u001b[0m:\u001b[36m52\u001b[0m - \u001b[34m\u001b[1mS,2025-07-22T10:23:57.620255,78,3,24,0.805166,-477.470320,3,0.260000,0.035891,3.375000\u001b[0m\n",
      "\u001b[32m2025-07-22 10:23:57.621\u001b[0m | \u001b[34m\u001b[1mDEBUG   \u001b[0m | \u001b[36mpygrn.evolution.evolution\u001b[0m:\u001b[36mreport\u001b[0m:\u001b[36m52\u001b[0m - \u001b[34m\u001b[1mS,2025-07-22T10:23:57.621022,78,4,73,0.713466,-477.470327,3,0.100000,0.038730,3.684932\u001b[0m\n",
      "\u001b[32m2025-07-22 10:23:57.622\u001b[0m | \u001b[34m\u001b[1mDEBUG   \u001b[0m | \u001b[36mpygrn.evolution.evolution\u001b[0m:\u001b[36mreport\u001b[0m:\u001b[36m52\u001b[0m - \u001b[34m\u001b[1mS,2025-07-22T10:23:57.621861,78,5,156,0.783708,-456.318645,3,0.080000,0.031264,3.679487\u001b[0m\n",
      "\u001b[32m2025-07-22 10:23:57.623\u001b[0m | \u001b[1mINFO    \u001b[0m | \u001b[36mpygrn.evolution.evolution\u001b[0m:\u001b[36mreport\u001b[0m:\u001b[36m80\u001b[0m - \u001b[1mGeneration 78: best fit -455.439363785474, fit mean -514.8821499604655, fit std 45.59469460515857\u001b[0m\n"
     ]
    },
    {
     "name": "stdout",
     "output_type": "stream",
     "text": [
      "500\n"
     ]
    },
    {
     "ename": "KeyboardInterrupt",
     "evalue": "",
     "output_type": "error",
     "traceback": [
      "\u001b[31m---------------------------------------------------------------------------\u001b[39m",
      "\u001b[31mKeyboardInterrupt\u001b[39m                         Traceback (most recent call last)",
      "\u001b[36mCell\u001b[39m\u001b[36m \u001b[39m\u001b[32mIn[1]\u001b[39m\u001b[32m, line 47\u001b[39m\n\u001b[32m     43\u001b[39m problem = double.DoubleFrequency()\n\u001b[32m     45\u001b[39m grneat = evolution.Evolution(problem, grn, num_workers=\u001b[32m30\u001b[39m)\n\u001b[32m---> \u001b[39m\u001b[32m47\u001b[39m beft_fit, best_ind = \u001b[43mgrneat\u001b[49m\u001b[43m.\u001b[49m\u001b[43mrun\u001b[49m\u001b[43m(\u001b[49m\u001b[32;43m100\u001b[39;49m\u001b[43m)\u001b[49m\n\u001b[32m     49\u001b[39m best_fit_history = grneat.best_fit_history\n\u001b[32m     50\u001b[39m logger.info(\u001b[33m\"\u001b[39m\u001b[33mbest fit: \u001b[39m\u001b[33m\"\u001b[39m, best_fit)\n",
      "\u001b[36mFile \u001b[39m\u001b[32m~/Documents/code/pyGRN/pygrn/evolution/evolution.py:42\u001b[39m, in \u001b[36mEvolution.run\u001b[39m\u001b[34m(self, generations)\u001b[39m\n\u001b[32m     40\u001b[39m \u001b[38;5;28;01mdef\u001b[39;00m\u001b[38;5;250m \u001b[39m\u001b[34mrun\u001b[39m(\u001b[38;5;28mself\u001b[39m, generations):\n\u001b[32m     41\u001b[39m     \u001b[38;5;28;01mfor\u001b[39;00m gen \u001b[38;5;129;01min\u001b[39;00m \u001b[38;5;28mrange\u001b[39m(generations):\n\u001b[32m---> \u001b[39m\u001b[32m42\u001b[39m         \u001b[38;5;28;43mself\u001b[39;49m\u001b[43m.\u001b[49m\u001b[43mstep\u001b[49m\u001b[43m(\u001b[49m\u001b[43m)\u001b[49m\n\u001b[32m     43\u001b[39m     best_fit, best_ind_pop = \u001b[38;5;28mself\u001b[39m.population.get_best()\n\u001b[32m     44\u001b[39m     \u001b[38;5;28;01mreturn\u001b[39;00m best_fit, best_ind_pop\n",
      "\u001b[36mFile \u001b[39m\u001b[32m~/Documents/code/pyGRN/pygrn/evolution/evolution.py:29\u001b[39m, in \u001b[36mEvolution.step\u001b[39m\u001b[34m(self)\u001b[39m\n\u001b[32m     28\u001b[39m \u001b[38;5;28;01mdef\u001b[39;00m\u001b[38;5;250m \u001b[39m\u001b[34mstep\u001b[39m(\u001b[38;5;28mself\u001b[39m):\n\u001b[32m---> \u001b[39m\u001b[32m29\u001b[39m     \u001b[38;5;28;43mself\u001b[39;49m\u001b[43m.\u001b[49m\u001b[43mpopulation\u001b[49m\u001b[43m.\u001b[49m\u001b[43mevaluate\u001b[49m\u001b[43m(\u001b[49m\u001b[38;5;28;43mself\u001b[39;49m\u001b[43m.\u001b[49m\u001b[43mproblem\u001b[49m\u001b[43m,\u001b[49m\u001b[43m \u001b[49m\u001b[38;5;28;43mself\u001b[39;49m\u001b[43m.\u001b[49m\u001b[43mnum_workers\u001b[49m\u001b[43m)\u001b[49m\n\u001b[32m     30\u001b[39m     \u001b[38;5;28mself\u001b[39m.population.speciation()\n\u001b[32m     31\u001b[39m     \u001b[38;5;28mself\u001b[39m.population.adjust_thresholds()\n",
      "\u001b[36mFile \u001b[39m\u001b[32m~/Documents/code/pyGRN/pygrn/evolution/population.py:55\u001b[39m, in \u001b[36mPopulation.evaluate\u001b[39m\u001b[34m(self, problem, num_workers)\u001b[39m\n\u001b[32m     51\u001b[39m     \u001b[38;5;28;01mreturn\u001b[39;00m fit\n\u001b[32m     54\u001b[39m \u001b[38;5;28mprint\u001b[39m(\u001b[38;5;28mlen\u001b[39m(\u001b[38;5;28mself\u001b[39m.offspring))\n\u001b[32m---> \u001b[39m\u001b[32m55\u001b[39m fits = \u001b[43mParallel\u001b[49m\u001b[43m(\u001b[49m\u001b[43mn_jobs\u001b[49m\u001b[43m=\u001b[49m\u001b[43mnum_workers\u001b[49m\u001b[43m,\u001b[49m\u001b[43m \u001b[49m\u001b[43mbackend\u001b[49m\u001b[43m=\u001b[49m\u001b[33;43m\"\u001b[39;49m\u001b[33;43mthreading\u001b[39;49m\u001b[33;43m\"\u001b[39;49m\u001b[43m)\u001b[49m\u001b[43m(\u001b[49m\n\u001b[32m     56\u001b[39m \u001b[43m    \u001b[49m\u001b[43mdelayed\u001b[49m\u001b[43m(\u001b[49m\u001b[43mget_fitness\u001b[49m\u001b[43m)\u001b[49m\u001b[43m(\u001b[49m\u001b[43mindex\u001b[49m\u001b[43m)\u001b[49m\u001b[43m \u001b[49m\u001b[38;5;28;43;01mfor\u001b[39;49;00m\u001b[43m \u001b[49m\u001b[43mindex\u001b[49m\u001b[43m \u001b[49m\u001b[38;5;129;43;01min\u001b[39;49;00m\u001b[43m \u001b[49m\u001b[38;5;28;43mrange\u001b[39;49m\u001b[43m(\u001b[49m\u001b[38;5;28;43mlen\u001b[39;49m\u001b[43m(\u001b[49m\u001b[38;5;28;43mself\u001b[39;49m\u001b[43m.\u001b[49m\u001b[43moffspring\u001b[49m\u001b[43m)\u001b[49m\u001b[43m)\u001b[49m\n\u001b[32m     57\u001b[39m \u001b[43m\u001b[49m\u001b[43m)\u001b[49m\n\u001b[32m     59\u001b[39m min_pop_fit = np.argmin(fits)\n\u001b[32m     60\u001b[39m max_pop_fit = np.argmax(fits)\n",
      "\u001b[36mFile \u001b[39m\u001b[32m~/.pyenv/versions/grn/lib/python3.11/site-packages/joblib/parallel.py:2072\u001b[39m, in \u001b[36mParallel.__call__\u001b[39m\u001b[34m(self, iterable)\u001b[39m\n\u001b[32m   2066\u001b[39m \u001b[38;5;66;03m# The first item from the output is blank, but it makes the interpreter\u001b[39;00m\n\u001b[32m   2067\u001b[39m \u001b[38;5;66;03m# progress until it enters the Try/Except block of the generator and\u001b[39;00m\n\u001b[32m   2068\u001b[39m \u001b[38;5;66;03m# reaches the first `yield` statement. This starts the asynchronous\u001b[39;00m\n\u001b[32m   2069\u001b[39m \u001b[38;5;66;03m# dispatch of the tasks to the workers.\u001b[39;00m\n\u001b[32m   2070\u001b[39m \u001b[38;5;28mnext\u001b[39m(output)\n\u001b[32m-> \u001b[39m\u001b[32m2072\u001b[39m \u001b[38;5;28;01mreturn\u001b[39;00m output \u001b[38;5;28;01mif\u001b[39;00m \u001b[38;5;28mself\u001b[39m.return_generator \u001b[38;5;28;01melse\u001b[39;00m \u001b[38;5;28mlist\u001b[39m(output)\n",
      "\u001b[36mFile \u001b[39m\u001b[32m~/.pyenv/versions/grn/lib/python3.11/site-packages/joblib/parallel.py:1682\u001b[39m, in \u001b[36mParallel._get_outputs\u001b[39m\u001b[34m(self, iterator, pre_dispatch)\u001b[39m\n\u001b[32m   1679\u001b[39m     \u001b[38;5;28;01myield\u001b[39;00m\n\u001b[32m   1681\u001b[39m     \u001b[38;5;28;01mwith\u001b[39;00m \u001b[38;5;28mself\u001b[39m._backend.retrieval_context():\n\u001b[32m-> \u001b[39m\u001b[32m1682\u001b[39m         \u001b[38;5;28;01myield from\u001b[39;00m \u001b[38;5;28mself\u001b[39m._retrieve()\n\u001b[32m   1684\u001b[39m \u001b[38;5;28;01mexcept\u001b[39;00m \u001b[38;5;167;01mGeneratorExit\u001b[39;00m:\n\u001b[32m   1685\u001b[39m     \u001b[38;5;66;03m# The generator has been garbage collected before being fully\u001b[39;00m\n\u001b[32m   1686\u001b[39m     \u001b[38;5;66;03m# consumed. This aborts the remaining tasks if possible and warn\u001b[39;00m\n\u001b[32m   1687\u001b[39m     \u001b[38;5;66;03m# the user if necessary.\u001b[39;00m\n\u001b[32m   1688\u001b[39m     \u001b[38;5;28mself\u001b[39m._exception = \u001b[38;5;28;01mTrue\u001b[39;00m\n",
      "\u001b[36mFile \u001b[39m\u001b[32m~/.pyenv/versions/grn/lib/python3.11/site-packages/joblib/parallel.py:1800\u001b[39m, in \u001b[36mParallel._retrieve\u001b[39m\u001b[34m(self)\u001b[39m\n\u001b[32m   1789\u001b[39m \u001b[38;5;28;01mif\u001b[39;00m \u001b[38;5;28mself\u001b[39m.return_ordered:\n\u001b[32m   1790\u001b[39m     \u001b[38;5;66;03m# Case ordered: wait for completion (or error) of the next job\u001b[39;00m\n\u001b[32m   1791\u001b[39m     \u001b[38;5;66;03m# that have been dispatched and not retrieved yet. If no job\u001b[39;00m\n\u001b[32m   (...)\u001b[39m\u001b[32m   1795\u001b[39m     \u001b[38;5;66;03m# control only have to be done on the amount of time the next\u001b[39;00m\n\u001b[32m   1796\u001b[39m     \u001b[38;5;66;03m# dispatched job is pending.\u001b[39;00m\n\u001b[32m   1797\u001b[39m     \u001b[38;5;28;01mif\u001b[39;00m (nb_jobs == \u001b[32m0\u001b[39m) \u001b[38;5;129;01mor\u001b[39;00m (\n\u001b[32m   1798\u001b[39m         \u001b[38;5;28mself\u001b[39m._jobs[\u001b[32m0\u001b[39m].get_status(timeout=\u001b[38;5;28mself\u001b[39m.timeout) == TASK_PENDING\n\u001b[32m   1799\u001b[39m     ):\n\u001b[32m-> \u001b[39m\u001b[32m1800\u001b[39m         time.sleep(\u001b[32m0.01\u001b[39m)\n\u001b[32m   1801\u001b[39m         \u001b[38;5;28;01mcontinue\u001b[39;00m\n\u001b[32m   1803\u001b[39m \u001b[38;5;28;01melif\u001b[39;00m nb_jobs == \u001b[32m0\u001b[39m:\n\u001b[32m   1804\u001b[39m     \u001b[38;5;66;03m# Case unordered: jobs are added to the list of jobs to\u001b[39;00m\n\u001b[32m   1805\u001b[39m     \u001b[38;5;66;03m# retrieve `self._jobs` only once completed or in error, which\u001b[39;00m\n\u001b[32m   (...)\u001b[39m\u001b[32m   1811\u001b[39m     \u001b[38;5;66;03m# timeouts before any other dispatched job has completed and\u001b[39;00m\n\u001b[32m   1812\u001b[39m     \u001b[38;5;66;03m# been added to `self._jobs` to be retrieved.\u001b[39;00m\n",
      "\u001b[31mKeyboardInterrupt\u001b[39m: "
     ]
    }
   ],
   "source": [
    "import numpy as np\n",
    "import numba\n",
    "from pygrn import grns, problems, evolution, config\n",
    "from pygrn.problems import double\n",
    "import argparse\n",
    "import os\n",
    "import numpy as np\n",
    "import matplotlib.pyplot as plt\n",
    "from loguru import logger\n",
    "\n",
    "class DoubleFreq(problems.base.Problem):\n",
    "\n",
    "\n",
    "    def __init__(self, namestr=\"double_frequence\", period = 2 ): \n",
    "\n",
    "        super().__init__(namestr)\n",
    "        self.nin = 1\n",
    "        self.nout = 1\n",
    "        self.cacheable = True\n",
    "\n",
    "        self.T = period\n",
    "\n",
    "        t = np.linspace(-5, 5, 1000)\n",
    "        self.x_train = 0.5*np.sin(2*np.pi*t/self.T) + 0.5\n",
    "        self.y_train = 0.5*np.sin(2*np.pi*t/(self.T/2)) + 0.5\n",
    "\n",
    "    # numba.jit\n",
    "    def eval(self, grn):\n",
    "        grn.setup()\n",
    "        grn.warmup(25)\n",
    "        fit = 0.0\n",
    "        for i in range(max(self.x_train.shape)):\n",
    "            grn.set_input(self.x_train[i])\n",
    "            grn.step()\n",
    "            fit += np.linalg.norm(grn.get_output().item() - self.y_train[i]).item()\n",
    "\n",
    "\n",
    "        return 1-fit\n",
    "\n",
    "period = 2\n",
    "grn = lambda : grns.ClassicGRN()\n",
    "\n",
    "problem = double.DoubleFrequency()\n",
    "\n",
    "grneat = evolution.Evolution(problem, grn, num_workers=30)\n",
    "\n",
    "beft_fit, best_ind = grneat.run(100)\n",
    "\n",
    "best_fit_history = grneat.best_fit_history\n",
    "logger.info(\"best fit: \", best_fit)\n",
    "# problem.eval(grneat.best_grn)\n",
    "    \n",
    "plt.figure(figsize=(10, 5))\n",
    "plt.plot(best_fit_history)\n",
    "plt.show()\n",
    "\n"
   ]
  },
  {
   "cell_type": "code",
   "execution_count": 13,
   "id": "242c4659",
   "metadata": {},
   "outputs": [
    {
     "data": {
      "text/plain": [
       "<matplotlib.legend.Legend at 0x724f1ee88fd0>"
      ]
     },
     "execution_count": 13,
     "metadata": {},
     "output_type": "execute_result"
    },
    {
     "data": {
      "image/png": "[encoded data removed]",
      "text/plain": [
       "<Figure size 640x480 with 1 Axes>"
      ]
     },
     "metadata": {},
     "output_type": "display_data"
    }
   ],
   "source": [
    "# eval grn\n",
    "period = 2\n",
    "t = np.linspace(-1, 1, 1000)\n",
    "input_sig = 0.5*np.sin(2*np.pi*t/period) + 0.5\n",
    "\n",
    "best_grn = best_ind.grn\n",
    "\n",
    "best_grn.setup()\n",
    "best_grn.warmup(25)\n",
    "y_eval = []\n",
    "for i in range(max(t.shape)):\n",
    "    best_grn.set_input(input_sig[i])\n",
    "    best_grn.step()\n",
    "    y_eval.append(best_grn.get_output().item())\n",
    "\n",
    "\n",
    "plt.plot(t, y_eval, label=\"prediction\")\n",
    "plt.plot(t, input_sig, '.', label=\"input signal\")\n",
    "\n",
    "plt.legend()"
   ]
  },
  {
   "cell_type": "code",
   "execution_count": null,
   "id": "9af22785",
   "metadata": {},
   "outputs": [
    {
     "data": {
      "text/plain": [
       "[<matplotlib.lines.Line2D at 0x741992cc91d0>]"
      ]
     },
     "execution_count": 19,
     "metadata": {},
     "output_type": "execute_result"
    },
    {
     "data": {
      "image/png": "[encoded data removed]",
      "text/plain": [
       "<Figure size 640x480 with 1 Axes>"
      ]
     },
     "metadata": {},
     "output_type": "display_data"
    }
   ],
   "source": [
    "\n",
    "y_train = 0.5*np.sin(2*np.pi*t/(period*0.5)) + 0.5\n",
    "plt.plot(t, y_train)"
   ]
  },
  {
   "cell_type": "markdown",
   "id": "03914b4f",
   "metadata": {},
   "source": [
    "# REINFORCEMENT WITH GRN "
   ]
  },
  {
   "cell_type": "code",
   "execution_count": 2,
   "id": "df76fcbb",
   "metadata": {},
   "outputs": [],
   "source": [
    "import gymnasium as gym\n",
    "from gymnasium import wrappers\n",
    "from pygrn import grns, problems, evolution, config\n",
    "import numpy as np\n",
    "from loguru import logger   \n",
    "class RLCorrector(problems.base.Problem):\n",
    "\n",
    "    def __init__(self, env_name=\"Pendulum-v1\"): \n",
    "\n",
    "        namestr = env_name\n",
    "        super().__init__(namestr)\n",
    "\n",
    "        # self.train_env = wrappers.NormalizeObservation(gym.make(env_name))\n",
    "        self.vis_env = gym.make(env_name, render_mode=\"human\")\n",
    "        \n",
    "        action_space = self.vis_env.action_space\n",
    "        observation_space = self.vis_env.observation_space\n",
    "        self.has_continuous_action = isinstance(action_space, gym.spaces.Box)\n",
    "        self.has_continuous_observation = isinstance(observation_space, gym.spaces.Box)\n",
    "        self.nin = self.vis_env.observation_space.shape[0]\n",
    "\n",
    "        self.dtype = float\n",
    "\n",
    "\n",
    "        if self.has_continuous_observation:\n",
    "            self.nin = self.vis_env.observation_space.shape[0]\n",
    "            self.h_obs = self.vis_env.observation_space.high\n",
    "            self.l_obs = self.vis_env.observation_space.low\n",
    "            self.dtype = float\n",
    "\n",
    "\n",
    "        if self.has_continuous_action:\n",
    "            self.nout = self.vis_env.action_space.shape[0]\n",
    "            self.h_act = self.vis_env.action_space.high\n",
    "            self.l_act = self.vis_env.action_space.low\n",
    "            self.dtype = int\n",
    "\n",
    "        else:\n",
    "            self.nout = 1\n",
    "            self.n = self.vis_env.action_space.n\n",
    "        \n",
    "        self.cacheable = True\n",
    "\n",
    "\n",
    "    def eval(self, grn, render = False):\n",
    "        \n",
    "        n_eval_episode = 1\n",
    "\n",
    "        fit = 0\n",
    "        reward = 0\n",
    "        ts = 0\n",
    "\n",
    "        while len(envs) < 1:\n",
    "            pass\n",
    "        eval_env = envs.pop()\n",
    "\n",
    "        for i in range(n_eval_episode):\n",
    "            grn.setup()\n",
    "            grn.warmup(25)\n",
    "\n",
    "            obs, _ = eval_env.reset(seed=0)\n",
    "            done = False\n",
    "\n",
    "            while True:\n",
    "\n",
    "\n",
    "                # if self.has_continuous_observation:\n",
    "                #     (obs - self.l_obs) / (self.h_obs - self.l_obs)  # map action to [0, 1]\n",
    "                grn.set_input(obs)\n",
    "                grn.step()\n",
    "                # print(\"grn best output \", grn.get_output().item())\n",
    "                if self.has_continuous_action:\n",
    "                    action = grn.get_output() * (self.h_act - self.l_act) + self.l_act\n",
    "                else:\n",
    "                    action = int(grn.get_output()[0] * (self.n - 1))\n",
    "\n",
    "                # print(\"action \", action)s\n",
    "                # print(action)\n",
    "                # action = 1 if grn.get_output().item() > 0.5 else 0\n",
    "                obs, r, terminated, truncated, info = eval_env.step(action)\n",
    "            \n",
    "                if terminated or truncated:\n",
    "                    done = True\n",
    "                    break\n",
    "                reward += r\n",
    "                ts += 1\n",
    "  \n",
    "            fit = reward / n_eval_episode\n",
    "\n",
    "            # if fit ==0:\n",
    "                # logger.debug(f\"fit = {fit} \")\n",
    "\n",
    "        envs.append(eval_env)\n",
    "        # print(\"reward = \", reward, \"\\t steps = \", ts)\n",
    "        return fit \n",
    "    \n",
    "    def visualize_grn(self, grn):\n",
    "    \n",
    "\n",
    "        fit = 0\n",
    "        reward = 0\n",
    "        ts = 0\n",
    "        grn.setup()\n",
    "        grn.warmup(25)\n",
    "\n",
    "        obs, _ = self.vis_env.reset(seed=0)\n",
    "        done = False\n",
    "\n",
    "        actions = []\n",
    "        while True:\n",
    "\n",
    "\n",
    "            # if self.has_continuous_observation:\n",
    "            #     obs = (obs - self.l_obs) / (self.h_obs - self.l_obs)  # map action to [0, 1]\n",
    "            grn.set_input(obs)\n",
    "            grn.step()\n",
    "            # print(\"grn best output \", grn.get_output().item())\n",
    "            if self.has_continuous_action:\n",
    "                action = grn.get_output() * (self.h_act - self.l_act) + self.l_act\n",
    "            else:\n",
    "                action = np.round(grn.get_output() * (self.n - 1)).item()\n",
    "            \n",
    "            actions.append(action)\n",
    "            # action = 1 if grn.get_output().item() > 0.5 else 0\n",
    "            obs, r, terminated, truncated, info = self.vis_env.step(action)\n",
    "            \n",
    "            if terminated or truncated:\n",
    "                done = True\n",
    "                break\n",
    "            reward += r\n",
    "            ts += 1\n",
    "\n",
    "\n",
    "        fit = reward\n",
    "\n",
    "\n",
    "        # if fit == 0:\n",
    "        # logger.debug(f\"fit = {fit} , nsteps = {ts}\")\n",
    "        # self.eval_env.close()\n",
    "        # print(\"reward = \", reward, \"\\t steps = \", ts)\n",
    "        return fit\n",
    "    \n",
    "\n",
    "\n",
    "env_name = 'InvertedDoublePendulum-v5'\n",
    "num_workers = 30\n",
    "global envs\n",
    "envs = [ gym.make(env_name) for _ in range(num_workers)]\n",
    "\n",
    "\n",
    "\n",
    "problem = RLCorrector(env_name)"
   ]
  },
  {
   "cell_type": "code",
   "execution_count": 4,
   "id": "6c49fa52",
   "metadata": {},
   "outputs": [
    {
     "name": "stderr",
     "output_type": "stream",
     "text": [
      "\u001b[32m2025-07-23 16:34:17.113\u001b[0m | \u001b[1mINFO    \u001b[0m | \u001b[36mpygrn.evolution.evolution\u001b[0m:\u001b[36mreport\u001b[0m:\u001b[36m80\u001b[0m - \u001b[1mGeneration 0: best fit 137.4438875540548, fit mean 30.25063377352799, fit std 8.948368870168796\u001b[0m\n",
      "\u001b[32m2025-07-23 16:34:19.406\u001b[0m | \u001b[1mINFO    \u001b[0m | \u001b[36mpygrn.evolution.evolution\u001b[0m:\u001b[36mreport\u001b[0m:\u001b[36m80\u001b[0m - \u001b[1mGeneration 1: best fit 147.52847113248828, fit mean 36.74957032280557, fit std 17.01561751706242\u001b[0m\n",
      "\u001b[32m2025-07-23 16:34:21.884\u001b[0m | \u001b[1mINFO    \u001b[0m | \u001b[36mpygrn.evolution.evolution\u001b[0m:\u001b[36mreport\u001b[0m:\u001b[36m80\u001b[0m - \u001b[1mGeneration 2: best fit 222.6967178404518, fit mean 40.29326781171925, fit std 52.457711884394804\u001b[0m\n",
      "\u001b[32m2025-07-23 16:34:24.947\u001b[0m | \u001b[1mINFO    \u001b[0m | \u001b[36mpygrn.evolution.evolution\u001b[0m:\u001b[36mreport\u001b[0m:\u001b[36m80\u001b[0m - \u001b[1mGeneration 3: best fit 305.482765604535, fit mean 48.12017084304485, fit std 62.32450397283346\u001b[0m\n",
      "\u001b[32m2025-07-23 16:34:28.451\u001b[0m | \u001b[1mINFO    \u001b[0m | \u001b[36mpygrn.evolution.evolution\u001b[0m:\u001b[36mreport\u001b[0m:\u001b[36m80\u001b[0m - \u001b[1mGeneration 4: best fit 305.482765604535, fit mean 47.24177347391858, fit std 133.35573423748986\u001b[0m\n",
      "\u001b[32m2025-07-23 16:34:46.524\u001b[0m | \u001b[1mINFO    \u001b[0m | \u001b[36mpygrn.evolution.evolution\u001b[0m:\u001b[36mreport\u001b[0m:\u001b[36m80\u001b[0m - \u001b[1mGeneration 5: best fit 305.482765604535, fit mean 65.3632640540836, fit std 64.41746122369497\u001b[0m\n",
      "\u001b[32m2025-07-23 16:34:49.917\u001b[0m | \u001b[1mINFO    \u001b[0m | \u001b[36mpygrn.evolution.evolution\u001b[0m:\u001b[36mreport\u001b[0m:\u001b[36m80\u001b[0m - \u001b[1mGeneration 6: best fit 269.56577467785, fit mean -36.84683973968765, fit std 342.2522580234383\u001b[0m\n",
      "\u001b[32m2025-07-23 16:34:53.349\u001b[0m | \u001b[1mINFO    \u001b[0m | \u001b[36mpygrn.evolution.evolution\u001b[0m:\u001b[36mreport\u001b[0m:\u001b[36m80\u001b[0m - \u001b[1mGeneration 7: best fit 250.5327937156269, fit mean 24.10601356050759, fit std 174.23522191561582\u001b[0m\n",
      "\u001b[32m2025-07-23 16:35:12.121\u001b[0m | \u001b[1mINFO    \u001b[0m | \u001b[36mpygrn.evolution.evolution\u001b[0m:\u001b[36mreport\u001b[0m:\u001b[36m80\u001b[0m - \u001b[1mGeneration 8: best fit 324.1285471651446, fit mean 80.07604697389559, fit std 70.34356151932164\u001b[0m\n",
      "\u001b[32m2025-07-23 16:35:14.982\u001b[0m | \u001b[1mINFO    \u001b[0m | \u001b[36mpygrn.evolution.evolution\u001b[0m:\u001b[36mreport\u001b[0m:\u001b[36m80\u001b[0m - \u001b[1mGeneration 9: best fit 324.1285471651446, fit mean 76.43801976914442, fit std 116.50861918975538\u001b[0m\n",
      "\u001b[32m2025-07-23 16:35:18.213\u001b[0m | \u001b[1mINFO    \u001b[0m | \u001b[36mpygrn.evolution.evolution\u001b[0m:\u001b[36mreport\u001b[0m:\u001b[36m80\u001b[0m - \u001b[1mGeneration 10: best fit 326.11602195185975, fit mean 88.32797133798141, fit std 72.20656121611097\u001b[0m\n",
      "\u001b[32m2025-07-23 16:35:21.470\u001b[0m | \u001b[1mINFO    \u001b[0m | \u001b[36mpygrn.evolution.evolution\u001b[0m:\u001b[36mreport\u001b[0m:\u001b[36m80\u001b[0m - \u001b[1mGeneration 11: best fit 342.35823968002353, fit mean 86.72713244928156, fit std 88.87449711369676\u001b[0m\n",
      "\u001b[32m2025-07-23 16:35:24.890\u001b[0m | \u001b[1mINFO    \u001b[0m | \u001b[36mpygrn.evolution.evolution\u001b[0m:\u001b[36mreport\u001b[0m:\u001b[36m80\u001b[0m - \u001b[1mGeneration 12: best fit 342.35823968002353, fit mean 93.01661925583772, fit std 88.53169041566157\u001b[0m\n",
      "\u001b[32m2025-07-23 16:35:28.124\u001b[0m | \u001b[1mINFO    \u001b[0m | \u001b[36mpygrn.evolution.evolution\u001b[0m:\u001b[36mreport\u001b[0m:\u001b[36m80\u001b[0m - \u001b[1mGeneration 13: best fit 342.35823968002353, fit mean 94.46651878176887, fit std 89.98192795524078\u001b[0m\n",
      "\u001b[32m2025-07-23 16:35:31.339\u001b[0m | \u001b[1mINFO    \u001b[0m | \u001b[36mpygrn.evolution.evolution\u001b[0m:\u001b[36mreport\u001b[0m:\u001b[36m80\u001b[0m - \u001b[1mGeneration 14: best fit 342.35823968002353, fit mean 102.95955003887956, fit std 59.72388312952479\u001b[0m\n",
      "\u001b[32m2025-07-23 16:35:34.706\u001b[0m | \u001b[1mINFO    \u001b[0m | \u001b[36mpygrn.evolution.evolution\u001b[0m:\u001b[36mreport\u001b[0m:\u001b[36m80\u001b[0m - \u001b[1mGeneration 15: best fit 379.0482273903923, fit mean 101.20380855795113, fit std 78.83290371821369\u001b[0m\n",
      "\u001b[32m2025-07-23 16:35:38.042\u001b[0m | \u001b[1mINFO    \u001b[0m | \u001b[36mpygrn.evolution.evolution\u001b[0m:\u001b[36mreport\u001b[0m:\u001b[36m80\u001b[0m - \u001b[1mGeneration 16: best fit 379.0482273903923, fit mean 100.66119229239118, fit std 107.11607596457013\u001b[0m\n",
      "\u001b[32m2025-07-23 16:35:41.430\u001b[0m | \u001b[1mINFO    \u001b[0m | \u001b[36mpygrn.evolution.evolution\u001b[0m:\u001b[36mreport\u001b[0m:\u001b[36m80\u001b[0m - \u001b[1mGeneration 17: best fit 379.0482273903923, fit mean 111.00871843793257, fit std 56.30659043043146\u001b[0m\n",
      "\u001b[32m2025-07-23 16:35:44.714\u001b[0m | \u001b[1mINFO    \u001b[0m | \u001b[36mpygrn.evolution.evolution\u001b[0m:\u001b[36mreport\u001b[0m:\u001b[36m80\u001b[0m - \u001b[1mGeneration 18: best fit 379.0482273903923, fit mean 103.5355053180713, fit std 88.78325701870199\u001b[0m\n",
      "\u001b[32m2025-07-23 16:35:48.115\u001b[0m | \u001b[1mINFO    \u001b[0m | \u001b[36mpygrn.evolution.evolution\u001b[0m:\u001b[36mreport\u001b[0m:\u001b[36m80\u001b[0m - \u001b[1mGeneration 19: best fit 379.0482273903923, fit mean 99.81256329335308, fit std 116.09562946881401\u001b[0m\n",
      "\u001b[32m2025-07-23 16:35:51.503\u001b[0m | \u001b[1mINFO    \u001b[0m | \u001b[36mpygrn.evolution.evolution\u001b[0m:\u001b[36mreport\u001b[0m:\u001b[36m80\u001b[0m - \u001b[1mGeneration 20: best fit 379.0482273903923, fit mean 112.29789814982531, fit std 61.74882211273316\u001b[0m\n",
      "\u001b[32m2025-07-23 16:35:54.928\u001b[0m | \u001b[1mINFO    \u001b[0m | \u001b[36mpygrn.evolution.evolution\u001b[0m:\u001b[36mreport\u001b[0m:\u001b[36m80\u001b[0m - \u001b[1mGeneration 21: best fit 379.0482273903923, fit mean 110.78554268313445, fit std 126.35333520706992\u001b[0m\n",
      "\u001b[32m2025-07-23 16:35:58.638\u001b[0m | \u001b[1mINFO    \u001b[0m | \u001b[36mpygrn.evolution.evolution\u001b[0m:\u001b[36mreport\u001b[0m:\u001b[36m80\u001b[0m - \u001b[1mGeneration 22: best fit 379.0482273903923, fit mean 115.11931752533097, fit std 134.03610563961664\u001b[0m\n",
      "\u001b[32m2025-07-23 16:36:02.075\u001b[0m | \u001b[1mINFO    \u001b[0m | \u001b[36mpygrn.evolution.evolution\u001b[0m:\u001b[36mreport\u001b[0m:\u001b[36m80\u001b[0m - \u001b[1mGeneration 23: best fit 379.0482273903923, fit mean 100.152162232665, fit std 183.66520219625417\u001b[0m\n",
      "\u001b[32m2025-07-23 16:36:05.947\u001b[0m | \u001b[1mINFO    \u001b[0m | \u001b[36mpygrn.evolution.evolution\u001b[0m:\u001b[36mreport\u001b[0m:\u001b[36m80\u001b[0m - \u001b[1mGeneration 24: best fit 381.4895789556753, fit mean 121.42671256341467, fit std 121.09967997583092\u001b[0m\n",
      "\u001b[32m2025-07-23 16:36:09.303\u001b[0m | \u001b[1mINFO    \u001b[0m | \u001b[36mpygrn.evolution.evolution\u001b[0m:\u001b[36mreport\u001b[0m:\u001b[36m80\u001b[0m - \u001b[1mGeneration 25: best fit 381.4895789556753, fit mean 120.9067167548595, fit std 140.83782911767315\u001b[0m\n",
      "\u001b[32m2025-07-23 16:36:12.681\u001b[0m | \u001b[1mINFO    \u001b[0m | \u001b[36mpygrn.evolution.evolution\u001b[0m:\u001b[36mreport\u001b[0m:\u001b[36m80\u001b[0m - \u001b[1mGeneration 26: best fit 381.4895789556753, fit mean 134.91199452698183, fit std 91.93619835000578\u001b[0m\n",
      "\u001b[32m2025-07-23 16:36:16.014\u001b[0m | \u001b[1mINFO    \u001b[0m | \u001b[36mpygrn.evolution.evolution\u001b[0m:\u001b[36mreport\u001b[0m:\u001b[36m80\u001b[0m - \u001b[1mGeneration 27: best fit 418.5610714005449, fit mean 130.4923706105059, fit std 104.7769000476894\u001b[0m\n",
      "\u001b[32m2025-07-23 16:36:19.482\u001b[0m | \u001b[1mINFO    \u001b[0m | \u001b[36mpygrn.evolution.evolution\u001b[0m:\u001b[36mreport\u001b[0m:\u001b[36m80\u001b[0m - \u001b[1mGeneration 28: best fit 418.5610714005449, fit mean 126.79650309731208, fit std 128.34205564380287\u001b[0m\n",
      "\u001b[32m2025-07-23 16:36:24.305\u001b[0m | \u001b[1mINFO    \u001b[0m | \u001b[36mpygrn.evolution.evolution\u001b[0m:\u001b[36mreport\u001b[0m:\u001b[36m80\u001b[0m - \u001b[1mGeneration 29: best fit 418.5610714005449, fit mean 141.99025847039627, fit std 82.40985700947259\u001b[0m\n",
      "\u001b[32m2025-07-23 16:36:27.929\u001b[0m | \u001b[1mINFO    \u001b[0m | \u001b[36mpygrn.evolution.evolution\u001b[0m:\u001b[36mreport\u001b[0m:\u001b[36m80\u001b[0m - \u001b[1mGeneration 30: best fit 418.5610714005449, fit mean 149.8051263762745, fit std 91.21683157091762\u001b[0m\n",
      "\u001b[32m2025-07-23 16:36:31.473\u001b[0m | \u001b[1mINFO    \u001b[0m | \u001b[36mpygrn.evolution.evolution\u001b[0m:\u001b[36mreport\u001b[0m:\u001b[36m80\u001b[0m - \u001b[1mGeneration 31: best fit 445.9557053592658, fit mean 145.6461807956884, fit std 117.55327917450151\u001b[0m\n",
      "\u001b[32m2025-07-23 16:36:35.253\u001b[0m | \u001b[1mINFO    \u001b[0m | \u001b[36mpygrn.evolution.evolution\u001b[0m:\u001b[36mreport\u001b[0m:\u001b[36m80\u001b[0m - \u001b[1mGeneration 32: best fit 445.9557053592658, fit mean 148.18599697641469, fit std 105.97457733511088\u001b[0m\n",
      "\u001b[32m2025-07-23 16:36:38.745\u001b[0m | \u001b[1mINFO    \u001b[0m | \u001b[36mpygrn.evolution.evolution\u001b[0m:\u001b[36mreport\u001b[0m:\u001b[36m80\u001b[0m - \u001b[1mGeneration 33: best fit 445.9557053592658, fit mean 146.7329184461629, fit std 97.6160314920404\u001b[0m\n",
      "\u001b[32m2025-07-23 16:36:42.064\u001b[0m | \u001b[1mINFO    \u001b[0m | \u001b[36mpygrn.evolution.evolution\u001b[0m:\u001b[36mreport\u001b[0m:\u001b[36m80\u001b[0m - \u001b[1mGeneration 34: best fit 445.9557053592658, fit mean 151.02401472950373, fit std 95.50060577747973\u001b[0m\n",
      "\u001b[32m2025-07-23 16:36:45.607\u001b[0m | \u001b[1mINFO    \u001b[0m | \u001b[36mpygrn.evolution.evolution\u001b[0m:\u001b[36mreport\u001b[0m:\u001b[36m80\u001b[0m - \u001b[1mGeneration 35: best fit 445.9557053592658, fit mean 150.1114637170176, fit std 106.03899657750188\u001b[0m\n",
      "\u001b[32m2025-07-23 16:36:49.189\u001b[0m | \u001b[1mINFO    \u001b[0m | \u001b[36mpygrn.evolution.evolution\u001b[0m:\u001b[36mreport\u001b[0m:\u001b[36m80\u001b[0m - \u001b[1mGeneration 36: best fit 445.9557053592658, fit mean 151.50612350955748, fit std 121.27078533246981\u001b[0m\n",
      "\u001b[32m2025-07-23 16:36:52.728\u001b[0m | \u001b[1mINFO    \u001b[0m | \u001b[36mpygrn.evolution.evolution\u001b[0m:\u001b[36mreport\u001b[0m:\u001b[36m80\u001b[0m - \u001b[1mGeneration 37: best fit 445.9557053592658, fit mean 157.87163031981942, fit std 109.37775322980734\u001b[0m\n",
      "\u001b[32m2025-07-23 16:36:56.197\u001b[0m | \u001b[1mINFO    \u001b[0m | \u001b[36mpygrn.evolution.evolution\u001b[0m:\u001b[36mreport\u001b[0m:\u001b[36m80\u001b[0m - \u001b[1mGeneration 38: best fit 455.83249977598916, fit mean 163.48243162541056, fit std 100.47775715854718\u001b[0m\n",
      "\u001b[32m2025-07-23 16:36:59.743\u001b[0m | \u001b[1mINFO    \u001b[0m | \u001b[36mpygrn.evolution.evolution\u001b[0m:\u001b[36mreport\u001b[0m:\u001b[36m80\u001b[0m - \u001b[1mGeneration 39: best fit 455.83249977598916, fit mean 168.72648926841921, fit std 103.88791302628594\u001b[0m\n",
      "\u001b[32m2025-07-23 16:37:03.280\u001b[0m | \u001b[1mINFO    \u001b[0m | \u001b[36mpygrn.evolution.evolution\u001b[0m:\u001b[36mreport\u001b[0m:\u001b[36m80\u001b[0m - \u001b[1mGeneration 40: best fit 455.83249977598916, fit mean 166.03972251873952, fit std 115.18289322070812\u001b[0m\n",
      "\u001b[32m2025-07-23 16:37:06.827\u001b[0m | \u001b[1mINFO    \u001b[0m | \u001b[36mpygrn.evolution.evolution\u001b[0m:\u001b[36mreport\u001b[0m:\u001b[36m80\u001b[0m - \u001b[1mGeneration 41: best fit 455.83249977598916, fit mean 163.39012717121562, fit std 113.77317239074488\u001b[0m\n",
      "\u001b[32m2025-07-23 16:37:10.154\u001b[0m | \u001b[1mINFO    \u001b[0m | \u001b[36mpygrn.evolution.evolution\u001b[0m:\u001b[36mreport\u001b[0m:\u001b[36m80\u001b[0m - \u001b[1mGeneration 42: best fit 482.2171615819042, fit mean 170.5615055258344, fit std 103.65310056674574\u001b[0m\n",
      "\u001b[32m2025-07-23 16:37:13.615\u001b[0m | \u001b[1mINFO    \u001b[0m | \u001b[36mpygrn.evolution.evolution\u001b[0m:\u001b[36mreport\u001b[0m:\u001b[36m80\u001b[0m - \u001b[1mGeneration 43: best fit 511.1346157605965, fit mean 166.17268366190686, fit std 120.70957882260255\u001b[0m\n",
      "\u001b[32m2025-07-23 16:37:17.106\u001b[0m | \u001b[1mINFO    \u001b[0m | \u001b[36mpygrn.evolution.evolution\u001b[0m:\u001b[36mreport\u001b[0m:\u001b[36m80\u001b[0m - \u001b[1mGeneration 44: best fit 511.1346157605965, fit mean 175.0567804638591, fit std 117.87160273389205\u001b[0m\n",
      "\u001b[32m2025-07-23 16:37:20.684\u001b[0m | \u001b[1mINFO    \u001b[0m | \u001b[36mpygrn.evolution.evolution\u001b[0m:\u001b[36mreport\u001b[0m:\u001b[36m80\u001b[0m - \u001b[1mGeneration 45: best fit 511.1346157605965, fit mean 172.6333444224002, fit std 105.20254957549166\u001b[0m\n",
      "\u001b[32m2025-07-23 16:37:24.057\u001b[0m | \u001b[1mINFO    \u001b[0m | \u001b[36mpygrn.evolution.evolution\u001b[0m:\u001b[36mreport\u001b[0m:\u001b[36m80\u001b[0m - \u001b[1mGeneration 46: best fit 511.1346157605965, fit mean 166.17210957265675, fit std 121.68045865523834\u001b[0m\n",
      "\u001b[32m2025-07-23 16:37:27.440\u001b[0m | \u001b[1mINFO    \u001b[0m | \u001b[36mpygrn.evolution.evolution\u001b[0m:\u001b[36mreport\u001b[0m:\u001b[36m80\u001b[0m - \u001b[1mGeneration 47: best fit 511.1346157605965, fit mean 179.49043521419236, fit std 106.11759586095816\u001b[0m\n",
      "\u001b[32m2025-07-23 16:37:30.808\u001b[0m | \u001b[1mINFO    \u001b[0m | \u001b[36mpygrn.evolution.evolution\u001b[0m:\u001b[36mreport\u001b[0m:\u001b[36m80\u001b[0m - \u001b[1mGeneration 48: best fit 511.1346157605965, fit mean 179.4655815022008, fit std 105.32990384476966\u001b[0m\n",
      "\u001b[32m2025-07-23 16:37:34.238\u001b[0m | \u001b[1mINFO    \u001b[0m | \u001b[36mpygrn.evolution.evolution\u001b[0m:\u001b[36mreport\u001b[0m:\u001b[36m80\u001b[0m - \u001b[1mGeneration 49: best fit 511.1346157605965, fit mean 180.36088969320448, fit std 105.98655807629056\u001b[0m\n",
      "\u001b[32m2025-07-23 16:37:37.780\u001b[0m | \u001b[1mINFO    \u001b[0m | \u001b[36mpygrn.evolution.evolution\u001b[0m:\u001b[36mreport\u001b[0m:\u001b[36m80\u001b[0m - \u001b[1mGeneration 50: best fit 511.1346157605965, fit mean 179.24624472140513, fit std 112.20458665657758\u001b[0m\n",
      "\u001b[32m2025-07-23 16:37:41.091\u001b[0m | \u001b[1mINFO    \u001b[0m | \u001b[36mpygrn.evolution.evolution\u001b[0m:\u001b[36mreport\u001b[0m:\u001b[36m80\u001b[0m - \u001b[1mGeneration 51: best fit 511.1346157605965, fit mean 174.76957759482255, fit std 126.12760256896857\u001b[0m\n",
      "\u001b[32m2025-07-23 16:37:44.594\u001b[0m | \u001b[1mINFO    \u001b[0m | \u001b[36mpygrn.evolution.evolution\u001b[0m:\u001b[36mreport\u001b[0m:\u001b[36m80\u001b[0m - \u001b[1mGeneration 52: best fit 511.1346157605965, fit mean 177.5956367011072, fit std 112.24749497676062\u001b[0m\n",
      "\u001b[32m2025-07-23 16:37:48.040\u001b[0m | \u001b[1mINFO    \u001b[0m | \u001b[36mpygrn.evolution.evolution\u001b[0m:\u001b[36mreport\u001b[0m:\u001b[36m80\u001b[0m - \u001b[1mGeneration 53: best fit 511.1346157605965, fit mean 183.95872596714648, fit std 107.32825463472373\u001b[0m\n",
      "\u001b[32m2025-07-23 16:37:51.323\u001b[0m | \u001b[1mINFO    \u001b[0m | \u001b[36mpygrn.evolution.evolution\u001b[0m:\u001b[36mreport\u001b[0m:\u001b[36m80\u001b[0m - \u001b[1mGeneration 54: best fit 623.6301907139102, fit mean 183.41961034247797, fit std 107.02391194333853\u001b[0m\n",
      "\u001b[32m2025-07-23 16:37:54.610\u001b[0m | \u001b[1mINFO    \u001b[0m | \u001b[36mpygrn.evolution.evolution\u001b[0m:\u001b[36mreport\u001b[0m:\u001b[36m80\u001b[0m - \u001b[1mGeneration 55: best fit 623.6301907139102, fit mean 187.28961221012182, fit std 108.71383390853894\u001b[0m\n",
      "\u001b[32m2025-07-23 16:37:58.105\u001b[0m | \u001b[1mINFO    \u001b[0m | \u001b[36mpygrn.evolution.evolution\u001b[0m:\u001b[36mreport\u001b[0m:\u001b[36m80\u001b[0m - \u001b[1mGeneration 56: best fit 623.6301907139102, fit mean 190.01589190190361, fit std 107.7763131968087\u001b[0m\n",
      "\u001b[32m2025-07-23 16:38:01.446\u001b[0m | \u001b[1mINFO    \u001b[0m | \u001b[36mpygrn.evolution.evolution\u001b[0m:\u001b[36mreport\u001b[0m:\u001b[36m80\u001b[0m - \u001b[1mGeneration 57: best fit 623.6301907139102, fit mean 188.9476991311471, fit std 110.46196041422118\u001b[0m\n",
      "\u001b[32m2025-07-23 16:38:04.779\u001b[0m | \u001b[1mINFO    \u001b[0m | \u001b[36mpygrn.evolution.evolution\u001b[0m:\u001b[36mreport\u001b[0m:\u001b[36m80\u001b[0m - \u001b[1mGeneration 58: best fit 623.6301907139102, fit mean 190.1699612006757, fit std 111.50185195933484\u001b[0m\n",
      "\u001b[32m2025-07-23 16:38:08.159\u001b[0m | \u001b[1mINFO    \u001b[0m | \u001b[36mpygrn.evolution.evolution\u001b[0m:\u001b[36mreport\u001b[0m:\u001b[36m80\u001b[0m - \u001b[1mGeneration 59: best fit 623.6301907139102, fit mean 192.02454895824886, fit std 111.8922443225938\u001b[0m\n",
      "\u001b[32m2025-07-23 16:38:11.506\u001b[0m | \u001b[1mINFO    \u001b[0m | \u001b[36mpygrn.evolution.evolution\u001b[0m:\u001b[36mreport\u001b[0m:\u001b[36m80\u001b[0m - \u001b[1mGeneration 60: best fit 623.6301907139102, fit mean 193.80476339253835, fit std 109.87281475221326\u001b[0m\n",
      "\u001b[32m2025-07-23 16:38:14.903\u001b[0m | \u001b[1mINFO    \u001b[0m | \u001b[36mpygrn.evolution.evolution\u001b[0m:\u001b[36mreport\u001b[0m:\u001b[36m80\u001b[0m - \u001b[1mGeneration 61: best fit 623.6301907139102, fit mean 194.79613395887122, fit std 111.91782433291831\u001b[0m\n",
      "\u001b[32m2025-07-23 16:38:18.362\u001b[0m | \u001b[1mINFO    \u001b[0m | \u001b[36mpygrn.evolution.evolution\u001b[0m:\u001b[36mreport\u001b[0m:\u001b[36m80\u001b[0m - \u001b[1mGeneration 62: best fit 623.6301907139102, fit mean 200.16191488212652, fit std 113.02911606862799\u001b[0m\n",
      "\u001b[32m2025-07-23 16:38:22.665\u001b[0m | \u001b[1mINFO    \u001b[0m | \u001b[36mpygrn.evolution.evolution\u001b[0m:\u001b[36mreport\u001b[0m:\u001b[36m80\u001b[0m - \u001b[1mGeneration 63: best fit 651.5214402254853, fit mean 203.6639525125514, fit std 117.64257387138899\u001b[0m\n",
      "\u001b[32m2025-07-23 16:38:26.842\u001b[0m | \u001b[1mINFO    \u001b[0m | \u001b[36mpygrn.evolution.evolution\u001b[0m:\u001b[36mreport\u001b[0m:\u001b[36m80\u001b[0m - \u001b[1mGeneration 64: best fit 651.5214402254853, fit mean 198.35399545817543, fit std 115.23029691190676\u001b[0m\n",
      "\u001b[32m2025-07-23 16:38:31.152\u001b[0m | \u001b[1mINFO    \u001b[0m | \u001b[36mpygrn.evolution.evolution\u001b[0m:\u001b[36mreport\u001b[0m:\u001b[36m80\u001b[0m - \u001b[1mGeneration 65: best fit 651.5214402254853, fit mean 196.85276296551663, fit std 137.25695266746538\u001b[0m\n",
      "\u001b[32m2025-07-23 16:38:35.425\u001b[0m | \u001b[1mINFO    \u001b[0m | \u001b[36mpygrn.evolution.evolution\u001b[0m:\u001b[36mreport\u001b[0m:\u001b[36m80\u001b[0m - \u001b[1mGeneration 66: best fit 651.5214402254853, fit mean 210.3618667437404, fit std 118.07957794286166\u001b[0m\n",
      "\u001b[32m2025-07-23 16:38:39.421\u001b[0m | \u001b[1mINFO    \u001b[0m | \u001b[36mpygrn.evolution.evolution\u001b[0m:\u001b[36mreport\u001b[0m:\u001b[36m80\u001b[0m - \u001b[1mGeneration 67: best fit 651.5214402254853, fit mean 201.84064847755275, fit std 117.61966627656362\u001b[0m\n",
      "\u001b[32m2025-07-23 16:38:43.811\u001b[0m | \u001b[1mINFO    \u001b[0m | \u001b[36mpygrn.evolution.evolution\u001b[0m:\u001b[36mreport\u001b[0m:\u001b[36m80\u001b[0m - \u001b[1mGeneration 68: best fit 651.5214402254853, fit mean 207.34116931392882, fit std 114.8625814934277\u001b[0m\n",
      "\u001b[32m2025-07-23 16:38:48.086\u001b[0m | \u001b[1mINFO    \u001b[0m | \u001b[36mpygrn.evolution.evolution\u001b[0m:\u001b[36mreport\u001b[0m:\u001b[36m80\u001b[0m - \u001b[1mGeneration 69: best fit 651.5214402254853, fit mean 207.4544401681768, fit std 117.40298807016731\u001b[0m\n",
      "\u001b[32m2025-07-23 16:38:52.288\u001b[0m | \u001b[1mINFO    \u001b[0m | \u001b[36mpygrn.evolution.evolution\u001b[0m:\u001b[36mreport\u001b[0m:\u001b[36m80\u001b[0m - \u001b[1mGeneration 70: best fit 651.5214402254853, fit mean 203.4394736882857, fit std 117.54665797202746\u001b[0m\n",
      "\u001b[32m2025-07-23 16:38:56.248\u001b[0m | \u001b[1mINFO    \u001b[0m | \u001b[36mpygrn.evolution.evolution\u001b[0m:\u001b[36mreport\u001b[0m:\u001b[36m80\u001b[0m - \u001b[1mGeneration 71: best fit 651.5214402254853, fit mean 200.34257945994958, fit std 117.32270737874454\u001b[0m\n",
      "\u001b[32m2025-07-23 16:39:00.549\u001b[0m | \u001b[1mINFO    \u001b[0m | \u001b[36mpygrn.evolution.evolution\u001b[0m:\u001b[36mreport\u001b[0m:\u001b[36m80\u001b[0m - \u001b[1mGeneration 72: best fit 651.5214402254853, fit mean 210.1815422204813, fit std 115.05263421211777\u001b[0m\n",
      "\u001b[32m2025-07-23 16:39:05.091\u001b[0m | \u001b[1mINFO    \u001b[0m | \u001b[36mpygrn.evolution.evolution\u001b[0m:\u001b[36mreport\u001b[0m:\u001b[36m80\u001b[0m - \u001b[1mGeneration 73: best fit 651.5214402254853, fit mean 212.86398172532708, fit std 117.94027370651065\u001b[0m\n",
      "\u001b[32m2025-07-23 16:39:09.684\u001b[0m | \u001b[1mINFO    \u001b[0m | \u001b[36mpygrn.evolution.evolution\u001b[0m:\u001b[36mreport\u001b[0m:\u001b[36m80\u001b[0m - \u001b[1mGeneration 74: best fit 651.5214402254853, fit mean 209.41412579797628, fit std 117.82786252993213\u001b[0m\n",
      "\u001b[32m2025-07-23 16:39:14.167\u001b[0m | \u001b[1mINFO    \u001b[0m | \u001b[36mpygrn.evolution.evolution\u001b[0m:\u001b[36mreport\u001b[0m:\u001b[36m80\u001b[0m - \u001b[1mGeneration 75: best fit 651.5214402254853, fit mean 207.3532766139984, fit std 120.72443508546812\u001b[0m\n",
      "\u001b[32m2025-07-23 16:39:18.596\u001b[0m | \u001b[1mINFO    \u001b[0m | \u001b[36mpygrn.evolution.evolution\u001b[0m:\u001b[36mreport\u001b[0m:\u001b[36m80\u001b[0m - \u001b[1mGeneration 76: best fit 651.5214402254853, fit mean 205.92501264631133, fit std 114.54820816088339\u001b[0m\n",
      "\u001b[32m2025-07-23 16:39:22.903\u001b[0m | \u001b[1mINFO    \u001b[0m | \u001b[36mpygrn.evolution.evolution\u001b[0m:\u001b[36mreport\u001b[0m:\u001b[36m80\u001b[0m - \u001b[1mGeneration 77: best fit 651.5214402254853, fit mean 207.2227410481623, fit std 121.02453438634826\u001b[0m\n",
      "\u001b[32m2025-07-23 16:39:26.956\u001b[0m | \u001b[1mINFO    \u001b[0m | \u001b[36mpygrn.evolution.evolution\u001b[0m:\u001b[36mreport\u001b[0m:\u001b[36m80\u001b[0m - \u001b[1mGeneration 78: best fit 651.5214402254853, fit mean 206.31430549331424, fit std 116.92497758788832\u001b[0m\n",
      "\u001b[32m2025-07-23 16:39:30.810\u001b[0m | \u001b[1mINFO    \u001b[0m | \u001b[36mpygrn.evolution.evolution\u001b[0m:\u001b[36mreport\u001b[0m:\u001b[36m80\u001b[0m - \u001b[1mGeneration 79: best fit 651.5214402254853, fit mean 209.03968850855128, fit std 117.78015248574658\u001b[0m\n",
      "\u001b[32m2025-07-23 16:39:35.163\u001b[0m | \u001b[1mINFO    \u001b[0m | \u001b[36mpygrn.evolution.evolution\u001b[0m:\u001b[36mreport\u001b[0m:\u001b[36m80\u001b[0m - \u001b[1mGeneration 80: best fit 651.5214402254853, fit mean 204.70502426604935, fit std 118.9048258754825\u001b[0m\n",
      "\u001b[32m2025-07-23 16:39:38.931\u001b[0m | \u001b[1mINFO    \u001b[0m | \u001b[36mpygrn.evolution.evolution\u001b[0m:\u001b[36mreport\u001b[0m:\u001b[36m80\u001b[0m - \u001b[1mGeneration 81: best fit 651.5214402254853, fit mean 209.46850734229628, fit std 118.37579761525511\u001b[0m\n",
      "\u001b[32m2025-07-23 16:39:42.361\u001b[0m | \u001b[1mINFO    \u001b[0m | \u001b[36mpygrn.evolution.evolution\u001b[0m:\u001b[36mreport\u001b[0m:\u001b[36m80\u001b[0m - \u001b[1mGeneration 82: best fit 651.5214402254853, fit mean 201.59533686599846, fit std 118.92539275471786\u001b[0m\n",
      "\u001b[32m2025-07-23 16:39:45.802\u001b[0m | \u001b[1mINFO    \u001b[0m | \u001b[36mpygrn.evolution.evolution\u001b[0m:\u001b[36mreport\u001b[0m:\u001b[36m80\u001b[0m - \u001b[1mGeneration 83: best fit 651.5214402254853, fit mean 197.63102021238143, fit std 137.17693576790595\u001b[0m\n",
      "\u001b[32m2025-07-23 16:39:49.204\u001b[0m | \u001b[1mINFO    \u001b[0m | \u001b[36mpygrn.evolution.evolution\u001b[0m:\u001b[36mreport\u001b[0m:\u001b[36m80\u001b[0m - \u001b[1mGeneration 84: best fit 651.5214402254853, fit mean 206.24285405409913, fit std 116.10136882547985\u001b[0m\n",
      "\u001b[32m2025-07-23 16:39:52.829\u001b[0m | \u001b[1mINFO    \u001b[0m | \u001b[36mpygrn.evolution.evolution\u001b[0m:\u001b[36mreport\u001b[0m:\u001b[36m80\u001b[0m - \u001b[1mGeneration 85: best fit 651.5214402254853, fit mean 210.65145326172552, fit std 123.2648153300224\u001b[0m\n",
      "\u001b[32m2025-07-23 16:39:56.431\u001b[0m | \u001b[1mINFO    \u001b[0m | \u001b[36mpygrn.evolution.evolution\u001b[0m:\u001b[36mreport\u001b[0m:\u001b[36m80\u001b[0m - \u001b[1mGeneration 86: best fit 716.3966486683029, fit mean 211.08025118641473, fit std 118.56920977739482\u001b[0m\n",
      "\u001b[32m2025-07-23 16:39:59.940\u001b[0m | \u001b[1mINFO    \u001b[0m | \u001b[36mpygrn.evolution.evolution\u001b[0m:\u001b[36mreport\u001b[0m:\u001b[36m80\u001b[0m - \u001b[1mGeneration 87: best fit 716.3966486683029, fit mean 205.27497144497548, fit std 118.2055425423249\u001b[0m\n",
      "\u001b[32m2025-07-23 16:40:03.532\u001b[0m | \u001b[1mINFO    \u001b[0m | \u001b[36mpygrn.evolution.evolution\u001b[0m:\u001b[36mreport\u001b[0m:\u001b[36m80\u001b[0m - \u001b[1mGeneration 88: best fit 716.3966486683029, fit mean 208.802961139457, fit std 116.87241415080308\u001b[0m\n",
      "\u001b[32m2025-07-23 16:40:07.247\u001b[0m | \u001b[1mINFO    \u001b[0m | \u001b[36mpygrn.evolution.evolution\u001b[0m:\u001b[36mreport\u001b[0m:\u001b[36m80\u001b[0m - \u001b[1mGeneration 89: best fit 716.3966486683029, fit mean 215.85560164052126, fit std 127.60722928813713\u001b[0m\n",
      "\u001b[32m2025-07-23 16:40:11.089\u001b[0m | \u001b[1mINFO    \u001b[0m | \u001b[36mpygrn.evolution.evolution\u001b[0m:\u001b[36mreport\u001b[0m:\u001b[36m80\u001b[0m - \u001b[1mGeneration 90: best fit 716.3966486683029, fit mean 217.90914499130162, fit std 121.48224885396512\u001b[0m\n",
      "\u001b[32m2025-07-23 16:40:14.994\u001b[0m | \u001b[1mINFO    \u001b[0m | \u001b[36mpygrn.evolution.evolution\u001b[0m:\u001b[36mreport\u001b[0m:\u001b[36m80\u001b[0m - \u001b[1mGeneration 91: best fit 716.3966486683029, fit mean 222.21109363638809, fit std 121.35843559824937\u001b[0m\n",
      "\u001b[32m2025-07-23 16:40:18.909\u001b[0m | \u001b[1mINFO    \u001b[0m | \u001b[36mpygrn.evolution.evolution\u001b[0m:\u001b[36mreport\u001b[0m:\u001b[36m80\u001b[0m - \u001b[1mGeneration 92: best fit 716.3966486683029, fit mean 222.27977576913418, fit std 117.80259069790142\u001b[0m\n",
      "\u001b[32m2025-07-23 16:40:22.672\u001b[0m | \u001b[1mINFO    \u001b[0m | \u001b[36mpygrn.evolution.evolution\u001b[0m:\u001b[36mreport\u001b[0m:\u001b[36m80\u001b[0m - \u001b[1mGeneration 93: best fit 716.3966486683029, fit mean 211.86989526586544, fit std 115.86550018703022\u001b[0m\n",
      "\u001b[32m2025-07-23 16:40:26.675\u001b[0m | \u001b[1mINFO    \u001b[0m | \u001b[36mpygrn.evolution.evolution\u001b[0m:\u001b[36mreport\u001b[0m:\u001b[36m80\u001b[0m - \u001b[1mGeneration 94: best fit 716.3966486683029, fit mean 212.07560730263336, fit std 119.67772678796365\u001b[0m\n",
      "\u001b[32m2025-07-23 16:40:30.549\u001b[0m | \u001b[1mINFO    \u001b[0m | \u001b[36mpygrn.evolution.evolution\u001b[0m:\u001b[36mreport\u001b[0m:\u001b[36m80\u001b[0m - \u001b[1mGeneration 95: best fit 716.3966486683029, fit mean 219.60964876362752, fit std 119.87750863949638\u001b[0m\n",
      "\u001b[32m2025-07-23 16:40:34.445\u001b[0m | \u001b[1mINFO    \u001b[0m | \u001b[36mpygrn.evolution.evolution\u001b[0m:\u001b[36mreport\u001b[0m:\u001b[36m80\u001b[0m - \u001b[1mGeneration 96: best fit 716.3966486683029, fit mean 216.5410675842598, fit std 119.62947435554283\u001b[0m\n",
      "\u001b[32m2025-07-23 16:40:38.517\u001b[0m | \u001b[1mINFO    \u001b[0m | \u001b[36mpygrn.evolution.evolution\u001b[0m:\u001b[36mreport\u001b[0m:\u001b[36m80\u001b[0m - \u001b[1mGeneration 97: best fit 716.3966486683029, fit mean 218.18935227256233, fit std 122.90416259489962\u001b[0m\n",
      "\u001b[32m2025-07-23 16:40:42.418\u001b[0m | \u001b[1mINFO    \u001b[0m | \u001b[36mpygrn.evolution.evolution\u001b[0m:\u001b[36mreport\u001b[0m:\u001b[36m80\u001b[0m - \u001b[1mGeneration 98: best fit 716.3966486683029, fit mean 217.7317269696722, fit std 121.7642118614287\u001b[0m\n",
      "\u001b[32m2025-07-23 16:40:46.439\u001b[0m | \u001b[1mINFO    \u001b[0m | \u001b[36mpygrn.evolution.evolution\u001b[0m:\u001b[36mreport\u001b[0m:\u001b[36m80\u001b[0m - \u001b[1mGeneration 99: best fit 716.3966486683029, fit mean 222.4163389421141, fit std 121.80812338245973\u001b[0m\n",
      "\u001b[32m2025-07-23 16:40:50.483\u001b[0m | \u001b[1mINFO    \u001b[0m | \u001b[36mpygrn.evolution.evolution\u001b[0m:\u001b[36mreport\u001b[0m:\u001b[36m80\u001b[0m - \u001b[1mGeneration 100: best fit 716.3966486683029, fit mean 219.65838786285363, fit std 120.90412466104367\u001b[0m\n",
      "\u001b[32m2025-07-23 16:40:54.930\u001b[0m | \u001b[1mINFO    \u001b[0m | \u001b[36mpygrn.evolution.evolution\u001b[0m:\u001b[36mreport\u001b[0m:\u001b[36m80\u001b[0m - \u001b[1mGeneration 101: best fit 716.3966486683029, fit mean 218.40117219463926, fit std 118.39490374731258\u001b[0m\n",
      "\u001b[32m2025-07-23 16:40:58.985\u001b[0m | \u001b[1mINFO    \u001b[0m | \u001b[36mpygrn.evolution.evolution\u001b[0m:\u001b[36mreport\u001b[0m:\u001b[36m80\u001b[0m - \u001b[1mGeneration 102: best fit 716.3966486683029, fit mean 218.4097988375171, fit std 120.1076129772016\u001b[0m\n",
      "\u001b[32m2025-07-23 16:41:03.174\u001b[0m | \u001b[1mINFO    \u001b[0m | \u001b[36mpygrn.evolution.evolution\u001b[0m:\u001b[36mreport\u001b[0m:\u001b[36m80\u001b[0m - \u001b[1mGeneration 103: best fit 716.3966486683029, fit mean 220.62031740080556, fit std 120.47316306125866\u001b[0m\n",
      "\u001b[32m2025-07-23 16:41:07.317\u001b[0m | \u001b[1mINFO    \u001b[0m | \u001b[36mpygrn.evolution.evolution\u001b[0m:\u001b[36mreport\u001b[0m:\u001b[36m80\u001b[0m - \u001b[1mGeneration 104: best fit 716.3966486683029, fit mean 222.9184839498416, fit std 120.53840765603738\u001b[0m\n",
      "\u001b[32m2025-07-23 16:41:11.529\u001b[0m | \u001b[1mINFO    \u001b[0m | \u001b[36mpygrn.evolution.evolution\u001b[0m:\u001b[36mreport\u001b[0m:\u001b[36m80\u001b[0m - \u001b[1mGeneration 105: best fit 716.3966486683029, fit mean 221.636008284048, fit std 150.0320277241106\u001b[0m\n",
      "\u001b[32m2025-07-23 16:41:15.983\u001b[0m | \u001b[1mINFO    \u001b[0m | \u001b[36mpygrn.evolution.evolution\u001b[0m:\u001b[36mreport\u001b[0m:\u001b[36m80\u001b[0m - \u001b[1mGeneration 106: best fit 716.3966486683029, fit mean 225.04165939795038, fit std 119.17153630070541\u001b[0m\n",
      "\u001b[32m2025-07-23 16:41:20.299\u001b[0m | \u001b[1mINFO    \u001b[0m | \u001b[36mpygrn.evolution.evolution\u001b[0m:\u001b[36mreport\u001b[0m:\u001b[36m80\u001b[0m - \u001b[1mGeneration 107: best fit 716.3966486683029, fit mean 214.96230728871708, fit std 140.70966826939966\u001b[0m\n",
      "\u001b[32m2025-07-23 16:41:24.186\u001b[0m | \u001b[1mINFO    \u001b[0m | \u001b[36mpygrn.evolution.evolution\u001b[0m:\u001b[36mreport\u001b[0m:\u001b[36m80\u001b[0m - \u001b[1mGeneration 108: best fit 716.3966486683029, fit mean 220.10288137996153, fit std 120.82837942582515\u001b[0m\n",
      "\u001b[32m2025-07-23 16:41:28.028\u001b[0m | \u001b[1mINFO    \u001b[0m | \u001b[36mpygrn.evolution.evolution\u001b[0m:\u001b[36mreport\u001b[0m:\u001b[36m80\u001b[0m - \u001b[1mGeneration 109: best fit 716.3966486683029, fit mean 222.87565502286853, fit std 120.1881839565105\u001b[0m\n",
      "\u001b[32m2025-07-23 16:41:31.896\u001b[0m | \u001b[1mINFO    \u001b[0m | \u001b[36mpygrn.evolution.evolution\u001b[0m:\u001b[36mreport\u001b[0m:\u001b[36m80\u001b[0m - \u001b[1mGeneration 110: best fit 716.3966486683029, fit mean 221.9284676618817, fit std 124.58180499025721\u001b[0m\n",
      "\u001b[32m2025-07-23 16:41:35.663\u001b[0m | \u001b[1mINFO    \u001b[0m | \u001b[36mpygrn.evolution.evolution\u001b[0m:\u001b[36mreport\u001b[0m:\u001b[36m80\u001b[0m - \u001b[1mGeneration 111: best fit 716.3966486683029, fit mean 226.65784572878783, fit std 127.66420047543755\u001b[0m\n",
      "\u001b[32m2025-07-23 16:41:39.503\u001b[0m | \u001b[1mINFO    \u001b[0m | \u001b[36mpygrn.evolution.evolution\u001b[0m:\u001b[36mreport\u001b[0m:\u001b[36m80\u001b[0m - \u001b[1mGeneration 112: best fit 716.3966486683029, fit mean 225.78857805605628, fit std 124.39484848546938\u001b[0m\n",
      "\u001b[32m2025-07-23 16:41:43.276\u001b[0m | \u001b[1mINFO    \u001b[0m | \u001b[36mpygrn.evolution.evolution\u001b[0m:\u001b[36mreport\u001b[0m:\u001b[36m80\u001b[0m - \u001b[1mGeneration 113: best fit 716.3966486683029, fit mean 231.77104812576593, fit std 120.61046527469989\u001b[0m\n",
      "\u001b[32m2025-07-23 16:41:46.969\u001b[0m | \u001b[1mINFO    \u001b[0m | \u001b[36mpygrn.evolution.evolution\u001b[0m:\u001b[36mreport\u001b[0m:\u001b[36m80\u001b[0m - \u001b[1mGeneration 114: best fit 716.3966486683029, fit mean 228.65367186456047, fit std 122.71030011571695\u001b[0m\n",
      "\u001b[32m2025-07-23 16:41:50.691\u001b[0m | \u001b[1mINFO    \u001b[0m | \u001b[36mpygrn.evolution.evolution\u001b[0m:\u001b[36mreport\u001b[0m:\u001b[36m80\u001b[0m - \u001b[1mGeneration 115: best fit 716.3966486683029, fit mean 226.2783659323687, fit std 139.31644276211338\u001b[0m\n",
      "\u001b[32m2025-07-23 16:41:54.442\u001b[0m | \u001b[1mINFO    \u001b[0m | \u001b[36mpygrn.evolution.evolution\u001b[0m:\u001b[36mreport\u001b[0m:\u001b[36m80\u001b[0m - \u001b[1mGeneration 116: best fit 716.3966486683029, fit mean 226.90395186966634, fit std 127.80806667014798\u001b[0m\n",
      "\u001b[32m2025-07-23 16:41:58.033\u001b[0m | \u001b[1mINFO    \u001b[0m | \u001b[36mpygrn.evolution.evolution\u001b[0m:\u001b[36mreport\u001b[0m:\u001b[36m80\u001b[0m - \u001b[1mGeneration 117: best fit 716.3966486683029, fit mean 224.52356480854425, fit std 129.44226084602292\u001b[0m\n",
      "\u001b[32m2025-07-23 16:42:01.796\u001b[0m | \u001b[1mINFO    \u001b[0m | \u001b[36mpygrn.evolution.evolution\u001b[0m:\u001b[36mreport\u001b[0m:\u001b[36m80\u001b[0m - \u001b[1mGeneration 118: best fit 716.3966486683029, fit mean 225.04559640443256, fit std 123.58209046482403\u001b[0m\n",
      "\u001b[32m2025-07-23 16:42:05.492\u001b[0m | \u001b[1mINFO    \u001b[0m | \u001b[36mpygrn.evolution.evolution\u001b[0m:\u001b[36mreport\u001b[0m:\u001b[36m80\u001b[0m - \u001b[1mGeneration 119: best fit 716.3966486683029, fit mean 231.72057373103553, fit std 126.34345333536379\u001b[0m\n",
      "\u001b[32m2025-07-23 16:42:09.214\u001b[0m | \u001b[1mINFO    \u001b[0m | \u001b[36mpygrn.evolution.evolution\u001b[0m:\u001b[36mreport\u001b[0m:\u001b[36m80\u001b[0m - \u001b[1mGeneration 120: best fit 716.3966486683029, fit mean 226.20627104779902, fit std 121.9377017954707\u001b[0m\n",
      "\u001b[32m2025-07-23 16:42:13.084\u001b[0m | \u001b[1mINFO    \u001b[0m | \u001b[36mpygrn.evolution.evolution\u001b[0m:\u001b[36mreport\u001b[0m:\u001b[36m80\u001b[0m - \u001b[1mGeneration 121: best fit 716.3966486683029, fit mean 229.02991867164448, fit std 121.28593103744394\u001b[0m\n",
      "\u001b[32m2025-07-23 16:42:16.839\u001b[0m | \u001b[1mINFO    \u001b[0m | \u001b[36mpygrn.evolution.evolution\u001b[0m:\u001b[36mreport\u001b[0m:\u001b[36m80\u001b[0m - \u001b[1mGeneration 122: best fit 716.3966486683029, fit mean 226.69672166272707, fit std 117.90711755774981\u001b[0m\n",
      "\u001b[32m2025-07-23 16:42:20.708\u001b[0m | \u001b[1mINFO    \u001b[0m | \u001b[36mpygrn.evolution.evolution\u001b[0m:\u001b[36mreport\u001b[0m:\u001b[36m80\u001b[0m - \u001b[1mGeneration 123: best fit 716.3966486683029, fit mean 222.23013673950587, fit std 122.05073004803225\u001b[0m\n",
      "\u001b[32m2025-07-23 16:42:24.488\u001b[0m | \u001b[1mINFO    \u001b[0m | \u001b[36mpygrn.evolution.evolution\u001b[0m:\u001b[36mreport\u001b[0m:\u001b[36m80\u001b[0m - \u001b[1mGeneration 124: best fit 716.3966486683029, fit mean 227.89798679608725, fit std 122.99415692987847\u001b[0m\n",
      "\u001b[32m2025-07-23 16:42:28.160\u001b[0m | \u001b[1mINFO    \u001b[0m | \u001b[36mpygrn.evolution.evolution\u001b[0m:\u001b[36mreport\u001b[0m:\u001b[36m80\u001b[0m - \u001b[1mGeneration 125: best fit 716.3966486683029, fit mean 227.90388578210812, fit std 128.62292661312318\u001b[0m\n",
      "\u001b[32m2025-07-23 16:42:31.773\u001b[0m | \u001b[1mINFO    \u001b[0m | \u001b[36mpygrn.evolution.evolution\u001b[0m:\u001b[36mreport\u001b[0m:\u001b[36m80\u001b[0m - \u001b[1mGeneration 126: best fit 716.3966486683029, fit mean 228.4099541259102, fit std 125.3578567379668\u001b[0m\n",
      "\u001b[32m2025-07-23 16:42:35.535\u001b[0m | \u001b[1mINFO    \u001b[0m | \u001b[36mpygrn.evolution.evolution\u001b[0m:\u001b[36mreport\u001b[0m:\u001b[36m80\u001b[0m - \u001b[1mGeneration 127: best fit 716.3966486683029, fit mean 227.27574242624266, fit std 126.72611465634182\u001b[0m\n",
      "\u001b[32m2025-07-23 16:42:39.308\u001b[0m | \u001b[1mINFO    \u001b[0m | \u001b[36mpygrn.evolution.evolution\u001b[0m:\u001b[36mreport\u001b[0m:\u001b[36m80\u001b[0m - \u001b[1mGeneration 128: best fit 734.5646900368025, fit mean 222.7722809884582, fit std 124.73903792772911\u001b[0m\n",
      "\u001b[32m2025-07-23 16:42:43.265\u001b[0m | \u001b[1mINFO    \u001b[0m | \u001b[36mpygrn.evolution.evolution\u001b[0m:\u001b[36mreport\u001b[0m:\u001b[36m80\u001b[0m - \u001b[1mGeneration 129: best fit 734.5646900368025, fit mean 237.36378024650696, fit std 122.99466768558172\u001b[0m\n",
      "\u001b[32m2025-07-23 16:42:47.129\u001b[0m | \u001b[1mINFO    \u001b[0m | \u001b[36mpygrn.evolution.evolution\u001b[0m:\u001b[36mreport\u001b[0m:\u001b[36m80\u001b[0m - \u001b[1mGeneration 130: best fit 734.5646900368025, fit mean 234.70188302051386, fit std 122.64415941420454\u001b[0m\n",
      "\u001b[32m2025-07-23 16:42:50.968\u001b[0m | \u001b[1mINFO    \u001b[0m | \u001b[36mpygrn.evolution.evolution\u001b[0m:\u001b[36mreport\u001b[0m:\u001b[36m80\u001b[0m - \u001b[1mGeneration 131: best fit 734.5646900368025, fit mean 234.95047693287586, fit std 124.11158640412754\u001b[0m\n",
      "\u001b[32m2025-07-23 16:42:54.894\u001b[0m | \u001b[1mINFO    \u001b[0m | \u001b[36mpygrn.evolution.evolution\u001b[0m:\u001b[36mreport\u001b[0m:\u001b[36m80\u001b[0m - \u001b[1mGeneration 132: best fit 734.5646900368025, fit mean 240.08185641227163, fit std 122.11744266200392\u001b[0m\n",
      "\u001b[32m2025-07-23 16:42:58.689\u001b[0m | \u001b[1mINFO    \u001b[0m | \u001b[36mpygrn.evolution.evolution\u001b[0m:\u001b[36mreport\u001b[0m:\u001b[36m80\u001b[0m - \u001b[1mGeneration 133: best fit 734.5646900368025, fit mean 239.0976650433071, fit std 125.38970418422542\u001b[0m\n",
      "\u001b[32m2025-07-23 16:43:02.683\u001b[0m | \u001b[1mINFO    \u001b[0m | \u001b[36mpygrn.evolution.evolution\u001b[0m:\u001b[36mreport\u001b[0m:\u001b[36m80\u001b[0m - \u001b[1mGeneration 134: best fit 734.5646900368025, fit mean 237.68514575981425, fit std 132.0142264883466\u001b[0m\n",
      "\u001b[32m2025-07-23 16:43:06.752\u001b[0m | \u001b[1mINFO    \u001b[0m | \u001b[36mpygrn.evolution.evolution\u001b[0m:\u001b[36mreport\u001b[0m:\u001b[36m80\u001b[0m - \u001b[1mGeneration 135: best fit 734.5646900368025, fit mean 246.2328897089939, fit std 121.51538759022647\u001b[0m\n",
      "\u001b[32m2025-07-23 16:43:10.874\u001b[0m | \u001b[1mINFO    \u001b[0m | \u001b[36mpygrn.evolution.evolution\u001b[0m:\u001b[36mreport\u001b[0m:\u001b[36m80\u001b[0m - \u001b[1mGeneration 136: best fit 734.5646900368025, fit mean 244.608737751526, fit std 124.69813630454395\u001b[0m\n",
      "\u001b[32m2025-07-23 16:43:14.991\u001b[0m | \u001b[1mINFO    \u001b[0m | \u001b[36mpygrn.evolution.evolution\u001b[0m:\u001b[36mreport\u001b[0m:\u001b[36m80\u001b[0m - \u001b[1mGeneration 137: best fit 734.5646900368025, fit mean 247.30899355736253, fit std 124.79188778335738\u001b[0m\n",
      "\u001b[32m2025-07-23 16:43:18.777\u001b[0m | \u001b[1mINFO    \u001b[0m | \u001b[36mpygrn.evolution.evolution\u001b[0m:\u001b[36mreport\u001b[0m:\u001b[36m80\u001b[0m - \u001b[1mGeneration 138: best fit 734.5646900368025, fit mean 248.28422632543376, fit std 126.75182028011133\u001b[0m\n",
      "\u001b[32m2025-07-23 16:43:22.656\u001b[0m | \u001b[1mINFO    \u001b[0m | \u001b[36mpygrn.evolution.evolution\u001b[0m:\u001b[36mreport\u001b[0m:\u001b[36m80\u001b[0m - \u001b[1mGeneration 139: best fit 734.5646900368025, fit mean 247.62478885839477, fit std 125.85234556175011\u001b[0m\n",
      "\u001b[32m2025-07-23 16:43:26.384\u001b[0m | \u001b[1mINFO    \u001b[0m | \u001b[36mpygrn.evolution.evolution\u001b[0m:\u001b[36mreport\u001b[0m:\u001b[36m80\u001b[0m - \u001b[1mGeneration 140: best fit 734.5646900368025, fit mean 247.82881127651152, fit std 125.53220254076517\u001b[0m\n",
      "\u001b[32m2025-07-23 16:43:29.958\u001b[0m | \u001b[1mINFO    \u001b[0m | \u001b[36mpygrn.evolution.evolution\u001b[0m:\u001b[36mreport\u001b[0m:\u001b[36m80\u001b[0m - \u001b[1mGeneration 141: best fit 734.5646900368025, fit mean 244.35102240152528, fit std 128.70917051233576\u001b[0m\n",
      "\u001b[32m2025-07-23 16:43:33.734\u001b[0m | \u001b[1mINFO    \u001b[0m | \u001b[36mpygrn.evolution.evolution\u001b[0m:\u001b[36mreport\u001b[0m:\u001b[36m80\u001b[0m - \u001b[1mGeneration 142: best fit 734.5646900368025, fit mean 246.73082004130316, fit std 130.94429910049564\u001b[0m\n",
      "\u001b[32m2025-07-23 16:43:37.515\u001b[0m | \u001b[1mINFO    \u001b[0m | \u001b[36mpygrn.evolution.evolution\u001b[0m:\u001b[36mreport\u001b[0m:\u001b[36m80\u001b[0m - \u001b[1mGeneration 143: best fit 734.5646900368025, fit mean 248.0173419343183, fit std 128.89050024664385\u001b[0m\n",
      "\u001b[32m2025-07-23 16:43:41.244\u001b[0m | \u001b[1mINFO    \u001b[0m | \u001b[36mpygrn.evolution.evolution\u001b[0m:\u001b[36mreport\u001b[0m:\u001b[36m80\u001b[0m - \u001b[1mGeneration 144: best fit 734.5646900368025, fit mean 243.59675527957106, fit std 129.31318913611955\u001b[0m\n",
      "\u001b[32m2025-07-23 16:43:45.051\u001b[0m | \u001b[1mINFO    \u001b[0m | \u001b[36mpygrn.evolution.evolution\u001b[0m:\u001b[36mreport\u001b[0m:\u001b[36m80\u001b[0m - \u001b[1mGeneration 145: best fit 734.5646900368025, fit mean 242.2224835548207, fit std 126.36961786579654\u001b[0m\n",
      "\u001b[32m2025-07-23 16:43:48.890\u001b[0m | \u001b[1mINFO    \u001b[0m | \u001b[36mpygrn.evolution.evolution\u001b[0m:\u001b[36mreport\u001b[0m:\u001b[36m80\u001b[0m - \u001b[1mGeneration 146: best fit 818.8740705239586, fit mean 251.53796034322843, fit std 129.19889038914673\u001b[0m\n",
      "\u001b[32m2025-07-23 16:43:52.628\u001b[0m | \u001b[1mINFO    \u001b[0m | \u001b[36mpygrn.evolution.evolution\u001b[0m:\u001b[36mreport\u001b[0m:\u001b[36m80\u001b[0m - \u001b[1mGeneration 147: best fit 818.8740705239586, fit mean 248.02914733952872, fit std 128.71507474207357\u001b[0m\n",
      "\u001b[32m2025-07-23 16:43:56.295\u001b[0m | \u001b[1mINFO    \u001b[0m | \u001b[36mpygrn.evolution.evolution\u001b[0m:\u001b[36mreport\u001b[0m:\u001b[36m80\u001b[0m - \u001b[1mGeneration 148: best fit 818.8740705239586, fit mean 238.43875368925484, fit std 148.81698931002938\u001b[0m\n",
      "\u001b[32m2025-07-23 16:44:00.135\u001b[0m | \u001b[1mINFO    \u001b[0m | \u001b[36mpygrn.evolution.evolution\u001b[0m:\u001b[36mreport\u001b[0m:\u001b[36m80\u001b[0m - \u001b[1mGeneration 149: best fit 818.8740705239586, fit mean 255.89839229503775, fit std 125.81808032134064\u001b[0m\n",
      "\u001b[32m2025-07-23 16:44:03.851\u001b[0m | \u001b[1mINFO    \u001b[0m | \u001b[36mpygrn.evolution.evolution\u001b[0m:\u001b[36mreport\u001b[0m:\u001b[36m80\u001b[0m - \u001b[1mGeneration 150: best fit 818.8740705239586, fit mean 250.60414660548693, fit std 129.29568017161515\u001b[0m\n",
      "\u001b[32m2025-07-23 16:44:07.520\u001b[0m | \u001b[1mINFO    \u001b[0m | \u001b[36mpygrn.evolution.evolution\u001b[0m:\u001b[36mreport\u001b[0m:\u001b[36m80\u001b[0m - \u001b[1mGeneration 151: best fit 818.8740705239586, fit mean 248.25401133963618, fit std 130.53524789691153\u001b[0m\n",
      "\u001b[32m2025-07-23 16:44:11.207\u001b[0m | \u001b[1mINFO    \u001b[0m | \u001b[36mpygrn.evolution.evolution\u001b[0m:\u001b[36mreport\u001b[0m:\u001b[36m80\u001b[0m - \u001b[1mGeneration 152: best fit 818.8740705239586, fit mean 250.15378696771123, fit std 132.99967031808754\u001b[0m\n",
      "\u001b[32m2025-07-23 16:44:14.907\u001b[0m | \u001b[1mINFO    \u001b[0m | \u001b[36mpygrn.evolution.evolution\u001b[0m:\u001b[36mreport\u001b[0m:\u001b[36m80\u001b[0m - \u001b[1mGeneration 153: best fit 818.8740705239586, fit mean 256.0563657182484, fit std 134.1704549176302\u001b[0m\n",
      "\u001b[32m2025-07-23 16:44:18.636\u001b[0m | \u001b[1mINFO    \u001b[0m | \u001b[36mpygrn.evolution.evolution\u001b[0m:\u001b[36mreport\u001b[0m:\u001b[36m80\u001b[0m - \u001b[1mGeneration 154: best fit 818.8740705239586, fit mean 257.95503849437966, fit std 136.4772090362856\u001b[0m\n",
      "\u001b[32m2025-07-23 16:44:22.371\u001b[0m | \u001b[1mINFO    \u001b[0m | \u001b[36mpygrn.evolution.evolution\u001b[0m:\u001b[36mreport\u001b[0m:\u001b[36m80\u001b[0m - \u001b[1mGeneration 155: best fit 818.8740705239586, fit mean 258.78527162860155, fit std 139.26047019956223\u001b[0m\n",
      "\u001b[32m2025-07-23 16:44:26.095\u001b[0m | \u001b[1mINFO    \u001b[0m | \u001b[36mpygrn.evolution.evolution\u001b[0m:\u001b[36mreport\u001b[0m:\u001b[36m80\u001b[0m - \u001b[1mGeneration 156: best fit 818.8740705239586, fit mean 256.02296482350164, fit std 137.5447892455641\u001b[0m\n",
      "\u001b[32m2025-07-23 16:44:29.707\u001b[0m | \u001b[1mINFO    \u001b[0m | \u001b[36mpygrn.evolution.evolution\u001b[0m:\u001b[36mreport\u001b[0m:\u001b[36m80\u001b[0m - \u001b[1mGeneration 157: best fit 818.8740705239586, fit mean 245.66321663503228, fit std 140.47204207455678\u001b[0m\n",
      "\u001b[32m2025-07-23 16:44:33.369\u001b[0m | \u001b[1mINFO    \u001b[0m | \u001b[36mpygrn.evolution.evolution\u001b[0m:\u001b[36mreport\u001b[0m:\u001b[36m80\u001b[0m - \u001b[1mGeneration 158: best fit 818.8740705239586, fit mean 255.1776061279959, fit std 142.1715703883074\u001b[0m\n",
      "\u001b[32m2025-07-23 16:44:37.223\u001b[0m | \u001b[1mINFO    \u001b[0m | \u001b[36mpygrn.evolution.evolution\u001b[0m:\u001b[36mreport\u001b[0m:\u001b[36m80\u001b[0m - \u001b[1mGeneration 159: best fit 818.8740705239586, fit mean 257.97692407144586, fit std 137.23155460333254\u001b[0m\n",
      "\u001b[32m2025-07-23 16:44:40.884\u001b[0m | \u001b[1mINFO    \u001b[0m | \u001b[36mpygrn.evolution.evolution\u001b[0m:\u001b[36mreport\u001b[0m:\u001b[36m80\u001b[0m - \u001b[1mGeneration 160: best fit 818.8740705239586, fit mean 251.44512523610402, fit std 142.8742147087194\u001b[0m\n",
      "\u001b[32m2025-07-23 16:44:44.634\u001b[0m | \u001b[1mINFO    \u001b[0m | \u001b[36mpygrn.evolution.evolution\u001b[0m:\u001b[36mreport\u001b[0m:\u001b[36m80\u001b[0m - \u001b[1mGeneration 161: best fit 818.8740705239586, fit mean 246.5881598363354, fit std 154.2858885936158\u001b[0m\n",
      "\u001b[32m2025-07-23 16:44:48.323\u001b[0m | \u001b[1mINFO    \u001b[0m | \u001b[36mpygrn.evolution.evolution\u001b[0m:\u001b[36mreport\u001b[0m:\u001b[36m80\u001b[0m - \u001b[1mGeneration 162: best fit 818.8740705239586, fit mean 263.61429452362484, fit std 141.99428561880922\u001b[0m\n",
      "\u001b[32m2025-07-23 16:44:51.986\u001b[0m | \u001b[1mINFO    \u001b[0m | \u001b[36mpygrn.evolution.evolution\u001b[0m:\u001b[36mreport\u001b[0m:\u001b[36m80\u001b[0m - \u001b[1mGeneration 163: best fit 818.8740705239586, fit mean 261.3608171858394, fit std 139.79097469822557\u001b[0m\n",
      "\u001b[32m2025-07-23 16:44:55.641\u001b[0m | \u001b[1mINFO    \u001b[0m | \u001b[36mpygrn.evolution.evolution\u001b[0m:\u001b[36mreport\u001b[0m:\u001b[36m80\u001b[0m - \u001b[1mGeneration 164: best fit 818.8740705239586, fit mean 255.44808215968854, fit std 142.2055089261813\u001b[0m\n",
      "\u001b[32m2025-07-23 16:44:59.213\u001b[0m | \u001b[1mINFO    \u001b[0m | \u001b[36mpygrn.evolution.evolution\u001b[0m:\u001b[36mreport\u001b[0m:\u001b[36m80\u001b[0m - \u001b[1mGeneration 165: best fit 818.8740705239586, fit mean 254.18955188383222, fit std 140.57776630097487\u001b[0m\n",
      "\u001b[32m2025-07-23 16:45:02.826\u001b[0m | \u001b[1mINFO    \u001b[0m | \u001b[36mpygrn.evolution.evolution\u001b[0m:\u001b[36mreport\u001b[0m:\u001b[36m80\u001b[0m - \u001b[1mGeneration 166: best fit 818.8740705239586, fit mean 260.2513625435409, fit std 140.12991167732764\u001b[0m\n",
      "\u001b[32m2025-07-23 16:45:06.444\u001b[0m | \u001b[1mINFO    \u001b[0m | \u001b[36mpygrn.evolution.evolution\u001b[0m:\u001b[36mreport\u001b[0m:\u001b[36m80\u001b[0m - \u001b[1mGeneration 167: best fit 818.8740705239586, fit mean 251.95359427253757, fit std 136.06001477639774\u001b[0m\n",
      "\u001b[32m2025-07-23 16:45:10.102\u001b[0m | \u001b[1mINFO    \u001b[0m | \u001b[36mpygrn.evolution.evolution\u001b[0m:\u001b[36mreport\u001b[0m:\u001b[36m80\u001b[0m - \u001b[1mGeneration 168: best fit 818.8740705239586, fit mean 251.29369513625318, fit std 141.7074549856342\u001b[0m\n",
      "\u001b[32m2025-07-23 16:45:13.653\u001b[0m | \u001b[1mINFO    \u001b[0m | \u001b[36mpygrn.evolution.evolution\u001b[0m:\u001b[36mreport\u001b[0m:\u001b[36m80\u001b[0m - \u001b[1mGeneration 169: best fit 818.8740705239586, fit mean 254.26617607162012, fit std 141.5983108226871\u001b[0m\n",
      "\u001b[32m2025-07-23 16:45:17.351\u001b[0m | \u001b[1mINFO    \u001b[0m | \u001b[36mpygrn.evolution.evolution\u001b[0m:\u001b[36mreport\u001b[0m:\u001b[36m80\u001b[0m - \u001b[1mGeneration 170: best fit 818.8740705239586, fit mean 262.4221602329905, fit std 140.1122468628121\u001b[0m\n",
      "\u001b[32m2025-07-23 16:45:21.005\u001b[0m | \u001b[1mINFO    \u001b[0m | \u001b[36mpygrn.evolution.evolution\u001b[0m:\u001b[36mreport\u001b[0m:\u001b[36m80\u001b[0m - \u001b[1mGeneration 171: best fit 818.8740705239586, fit mean 260.1990069687309, fit std 137.6988081375375\u001b[0m\n",
      "\u001b[32m2025-07-23 16:45:24.525\u001b[0m | \u001b[1mINFO    \u001b[0m | \u001b[36mpygrn.evolution.evolution\u001b[0m:\u001b[36mreport\u001b[0m:\u001b[36m80\u001b[0m - \u001b[1mGeneration 172: best fit 818.8740705239586, fit mean 249.51178042385604, fit std 139.08071507754647\u001b[0m\n",
      "\u001b[32m2025-07-23 16:45:28.233\u001b[0m | \u001b[1mINFO    \u001b[0m | \u001b[36mpygrn.evolution.evolution\u001b[0m:\u001b[36mreport\u001b[0m:\u001b[36m80\u001b[0m - \u001b[1mGeneration 173: best fit 818.8740705239586, fit mean 253.02906595493872, fit std 142.39182814470578\u001b[0m\n",
      "\u001b[32m2025-07-23 16:45:31.932\u001b[0m | \u001b[1mINFO    \u001b[0m | \u001b[36mpygrn.evolution.evolution\u001b[0m:\u001b[36mreport\u001b[0m:\u001b[36m80\u001b[0m - \u001b[1mGeneration 174: best fit 818.8740705239586, fit mean 254.20262199218425, fit std 139.15592800960536\u001b[0m\n",
      "\u001b[32m2025-07-23 16:45:35.613\u001b[0m | \u001b[1mINFO    \u001b[0m | \u001b[36mpygrn.evolution.evolution\u001b[0m:\u001b[36mreport\u001b[0m:\u001b[36m80\u001b[0m - \u001b[1mGeneration 175: best fit 818.8740705239586, fit mean 256.444773557013, fit std 139.1120246747415\u001b[0m\n",
      "\u001b[32m2025-07-23 16:45:39.249\u001b[0m | \u001b[1mINFO    \u001b[0m | \u001b[36mpygrn.evolution.evolution\u001b[0m:\u001b[36mreport\u001b[0m:\u001b[36m80\u001b[0m - \u001b[1mGeneration 176: best fit 818.8740705239586, fit mean 259.56772829644115, fit std 139.9645884482452\u001b[0m\n",
      "\u001b[32m2025-07-23 16:45:43.004\u001b[0m | \u001b[1mINFO    \u001b[0m | \u001b[36mpygrn.evolution.evolution\u001b[0m:\u001b[36mreport\u001b[0m:\u001b[36m80\u001b[0m - \u001b[1mGeneration 177: best fit 818.8740705239586, fit mean 252.77281948925955, fit std 140.31420002127592\u001b[0m\n",
      "\u001b[32m2025-07-23 16:45:46.734\u001b[0m | \u001b[1mINFO    \u001b[0m | \u001b[36mpygrn.evolution.evolution\u001b[0m:\u001b[36mreport\u001b[0m:\u001b[36m80\u001b[0m - \u001b[1mGeneration 178: best fit 818.8740705239586, fit mean 260.2283140487702, fit std 138.59420849438678\u001b[0m\n",
      "\u001b[32m2025-07-23 16:45:50.476\u001b[0m | \u001b[1mINFO    \u001b[0m | \u001b[36mpygrn.evolution.evolution\u001b[0m:\u001b[36mreport\u001b[0m:\u001b[36m80\u001b[0m - \u001b[1mGeneration 179: best fit 818.8740705239586, fit mean 259.8806694887218, fit std 136.1065186212506\u001b[0m\n",
      "\u001b[32m2025-07-23 16:45:54.159\u001b[0m | \u001b[1mINFO    \u001b[0m | \u001b[36mpygrn.evolution.evolution\u001b[0m:\u001b[36mreport\u001b[0m:\u001b[36m80\u001b[0m - \u001b[1mGeneration 180: best fit 818.8740705239586, fit mean 259.88016758160325, fit std 135.56833946143053\u001b[0m\n",
      "\u001b[32m2025-07-23 16:45:58.006\u001b[0m | \u001b[1mINFO    \u001b[0m | \u001b[36mpygrn.evolution.evolution\u001b[0m:\u001b[36mreport\u001b[0m:\u001b[36m80\u001b[0m - \u001b[1mGeneration 181: best fit 818.8740705239586, fit mean 262.5048245694351, fit std 139.2994736087333\u001b[0m\n",
      "\u001b[32m2025-07-23 16:46:01.662\u001b[0m | \u001b[1mINFO    \u001b[0m | \u001b[36mpygrn.evolution.evolution\u001b[0m:\u001b[36mreport\u001b[0m:\u001b[36m80\u001b[0m - \u001b[1mGeneration 182: best fit 818.8740705239586, fit mean 256.14425818945693, fit std 155.655853448004\u001b[0m\n",
      "\u001b[32m2025-07-23 16:46:05.393\u001b[0m | \u001b[1mINFO    \u001b[0m | \u001b[36mpygrn.evolution.evolution\u001b[0m:\u001b[36mreport\u001b[0m:\u001b[36m80\u001b[0m - \u001b[1mGeneration 183: best fit 818.8740705239586, fit mean 257.5679076099685, fit std 138.1333495454056\u001b[0m\n",
      "\u001b[32m2025-07-23 16:46:09.141\u001b[0m | \u001b[1mINFO    \u001b[0m | \u001b[36mpygrn.evolution.evolution\u001b[0m:\u001b[36mreport\u001b[0m:\u001b[36m80\u001b[0m - \u001b[1mGeneration 184: best fit 818.8740705239586, fit mean 258.1797485213772, fit std 135.54246607247822\u001b[0m\n",
      "\u001b[32m2025-07-23 16:46:12.897\u001b[0m | \u001b[1mINFO    \u001b[0m | \u001b[36mpygrn.evolution.evolution\u001b[0m:\u001b[36mreport\u001b[0m:\u001b[36m80\u001b[0m - \u001b[1mGeneration 185: best fit 818.8740705239586, fit mean 257.642077763383, fit std 132.36368702331012\u001b[0m\n",
      "\u001b[32m2025-07-23 16:46:16.716\u001b[0m | \u001b[1mINFO    \u001b[0m | \u001b[36mpygrn.evolution.evolution\u001b[0m:\u001b[36mreport\u001b[0m:\u001b[36m80\u001b[0m - \u001b[1mGeneration 186: best fit 818.8740705239586, fit mean 260.9402599025097, fit std 128.19727501183348\u001b[0m\n",
      "\u001b[32m2025-07-23 16:46:20.513\u001b[0m | \u001b[1mINFO    \u001b[0m | \u001b[36mpygrn.evolution.evolution\u001b[0m:\u001b[36mreport\u001b[0m:\u001b[36m80\u001b[0m - \u001b[1mGeneration 187: best fit 818.8740705239586, fit mean 265.416882710006, fit std 136.31156491795176\u001b[0m\n",
      "\u001b[32m2025-07-23 16:46:24.260\u001b[0m | \u001b[1mINFO    \u001b[0m | \u001b[36mpygrn.evolution.evolution\u001b[0m:\u001b[36mreport\u001b[0m:\u001b[36m80\u001b[0m - \u001b[1mGeneration 188: best fit 818.8740705239586, fit mean 261.77931775192474, fit std 138.6283022516242\u001b[0m\n",
      "\u001b[32m2025-07-23 16:46:27.887\u001b[0m | \u001b[1mINFO    \u001b[0m | \u001b[36mpygrn.evolution.evolution\u001b[0m:\u001b[36mreport\u001b[0m:\u001b[36m80\u001b[0m - \u001b[1mGeneration 189: best fit 818.8740705239586, fit mean 258.34507008147546, fit std 144.17864038075746\u001b[0m\n",
      "\u001b[32m2025-07-23 16:46:31.593\u001b[0m | \u001b[1mINFO    \u001b[0m | \u001b[36mpygrn.evolution.evolution\u001b[0m:\u001b[36mreport\u001b[0m:\u001b[36m80\u001b[0m - \u001b[1mGeneration 190: best fit 818.8740705239586, fit mean 255.55917856151132, fit std 137.24464521513272\u001b[0m\n",
      "\u001b[32m2025-07-23 16:46:35.446\u001b[0m | \u001b[1mINFO    \u001b[0m | \u001b[36mpygrn.evolution.evolution\u001b[0m:\u001b[36mreport\u001b[0m:\u001b[36m80\u001b[0m - \u001b[1mGeneration 191: best fit 818.8740705239586, fit mean 272.7882058609582, fit std 140.50322389747248\u001b[0m\n",
      "\u001b[32m2025-07-23 16:46:39.275\u001b[0m | \u001b[1mINFO    \u001b[0m | \u001b[36mpygrn.evolution.evolution\u001b[0m:\u001b[36mreport\u001b[0m:\u001b[36m80\u001b[0m - \u001b[1mGeneration 192: best fit 818.8740705239586, fit mean 264.0065266143523, fit std 135.37669174037745\u001b[0m\n",
      "\u001b[32m2025-07-23 16:46:42.918\u001b[0m | \u001b[1mINFO    \u001b[0m | \u001b[36mpygrn.evolution.evolution\u001b[0m:\u001b[36mreport\u001b[0m:\u001b[36m80\u001b[0m - \u001b[1mGeneration 193: best fit 818.8740705239586, fit mean 262.12414392275804, fit std 137.93276613401127\u001b[0m\n",
      "\u001b[32m2025-07-23 16:46:46.719\u001b[0m | \u001b[1mINFO    \u001b[0m | \u001b[36mpygrn.evolution.evolution\u001b[0m:\u001b[36mreport\u001b[0m:\u001b[36m80\u001b[0m - \u001b[1mGeneration 194: best fit 818.8740705239586, fit mean 269.00325021780543, fit std 135.7154962102834\u001b[0m\n",
      "\u001b[32m2025-07-23 16:46:50.426\u001b[0m | \u001b[1mINFO    \u001b[0m | \u001b[36mpygrn.evolution.evolution\u001b[0m:\u001b[36mreport\u001b[0m:\u001b[36m80\u001b[0m - \u001b[1mGeneration 195: best fit 818.8740705239586, fit mean 268.8498710841981, fit std 136.6524591964698\u001b[0m\n",
      "\u001b[32m2025-07-23 16:46:53.986\u001b[0m | \u001b[1mINFO    \u001b[0m | \u001b[36mpygrn.evolution.evolution\u001b[0m:\u001b[36mreport\u001b[0m:\u001b[36m80\u001b[0m - \u001b[1mGeneration 196: best fit 818.8740705239586, fit mean 262.7304663635101, fit std 135.6171642306372\u001b[0m\n",
      "\u001b[32m2025-07-23 16:46:58.420\u001b[0m | \u001b[1mINFO    \u001b[0m | \u001b[36mpygrn.evolution.evolution\u001b[0m:\u001b[36mreport\u001b[0m:\u001b[36m80\u001b[0m - \u001b[1mGeneration 197: best fit 818.8740705239586, fit mean 260.5329964378725, fit std 140.15999170318787\u001b[0m\n",
      "\u001b[32m2025-07-23 16:47:03.406\u001b[0m | \u001b[1mINFO    \u001b[0m | \u001b[36mpygrn.evolution.evolution\u001b[0m:\u001b[36mreport\u001b[0m:\u001b[36m80\u001b[0m - \u001b[1mGeneration 198: best fit 818.8740705239586, fit mean 254.47516201281007, fit std 130.70294760256613\u001b[0m\n",
      "\u001b[32m2025-07-23 16:47:07.284\u001b[0m | \u001b[1mINFO    \u001b[0m | \u001b[36mpygrn.evolution.evolution\u001b[0m:\u001b[36mreport\u001b[0m:\u001b[36m80\u001b[0m - \u001b[1mGeneration 199: best fit 818.8740705239586, fit mean 258.81083251425866, fit std 134.38114950099876\u001b[0m\n",
      "\u001b[32m2025-07-23 16:47:07.285\u001b[0m | \u001b[1mINFO    \u001b[0m | \u001b[36m__main__\u001b[0m:\u001b[36m<module>\u001b[0m:\u001b[36m11\u001b[0m - \u001b[1mbest fit: 818.8740705239586\u001b[0m\n",
      "\u001b[32m2025-07-23 16:47:07.285\u001b[0m | \u001b[1mINFO    \u001b[0m | \u001b[36m__main__\u001b[0m:\u001b[36m<module>\u001b[0m:\u001b[36m12\u001b[0m - \u001b[1mbest ind: {\"num_input\": 9, \"num_output\": 1, \"num_regulatory\": 5, \"ids\": [0.32468106735312796, 0.7327127140627794, 0.021887429644798617, 0.8633914818125511, 0.9872344463693609, 0.3643237134649371, 0.9948351239355697, 0.6657468971496732, 0.18835544811488536, 0.9412183196455333, 0.509626452919193, 0.44029213083948693, 0.5432167435137542, 0.002655078075370132, 0.16643729910782878], \"enh\": [0.8430268688954609, 0.636701317283098, 0.16283902991036503, 0.31833986960459304, 0.9933227710149457, 0.9111876343385169, 0.7016097085829864, 0.15288048740095894, 0.23470909752873226, 0.7105148813020193, 0.9416577507253878, 0.9046204593776327, 0.2374703203885482, 0.9477636664692117, 0.17706444794607157], \"inh\": [0.29166258101385867, 0.15441106951905725, 0.8419242913801058, 0.3872517617149781, 0.3444224872949829, 0.402326096500381, 0.43640414420196616, 0.8680775822851966, 0.8715413692748388, 0.6838488346330361, 0.519168067990052, 0.006674612178547701, 0.24929215543617367, 0.9317041318140737, 0.334251822360501], \"beta\": 1.7862686745132725, \"delta\": 1.8519720929920713}\u001b[0m\n"
     ]
    }
   ],
   "source": [
    "# evolve grn\n",
    "n_gens = 200\n",
    "\n",
    "grn = lambda : grns.DissetGRN()\n",
    "# grn = lambda : grns.ClassicGRN()\n",
    "\n",
    "grneat = evolution.Evolution(problem, grn, num_workers=num_workers)\n",
    "best_fit, best_ind = grneat.run(n_gens)\n",
    "\n",
    "\n",
    "logger.info(f\"best fit: {best_fit}\")\n",
    "logger.info(f\"best ind: {best_ind.grn}\")\n",
    "\n",
    "with open(env_name + \".grn\", 'w') as f:\n",
    "    f.write(str(best_ind.grn) + '\\n')\n"
   ]
  },
  {
   "cell_type": "code",
   "execution_count": null,
   "id": "f83483c8",
   "metadata": {},
   "outputs": [
    {
     "name": "stdout",
     "output_type": "stream",
     "text": [
      "818.8740705239586\n"
     ]
    },
    {
     "ename": "",
     "evalue": "",
     "output_type": "error",
     "traceback": [
      "\u001b[1;31mThe Kernel crashed while executing code in the current cell or a previous cell. \n",
      "\u001b[1;31mPlease review the code in the cell(s) to identify a possible cause of the failure. \n",
      "\u001b[1;31mClick <a href='https://aka.ms/vscodeJupyterKernelCrash'>here</a> for more info. \n",
      "\u001b[1;31mView Jupyter <a href='command:jupyter.viewOutput'>log</a> for further details."
     ]
    }
   ],
   "source": [
    "\n",
    "fit_eval = problem.eval(best_ind.grn)\n",
    "\n",
    "\n",
    "fit_viz = problem.visualize_grn(best_ind.grn)\n",
    "\n",
    "print(fit_eval)\n",
    "\n",
    "\n",
    "# best_fit"
   ]
  },
  {
   "cell_type": "code",
   "execution_count": 21,
   "id": "2ebfb85a",
   "metadata": {},
   "outputs": [],
   "source": [
    "with open(\"mujuco_double_pendulum.grn\", 'w') as f:\n",
    "    f.write(str(best_ind.grn) + '\\n')\n"
   ]
  },
  {
   "cell_type": "code",
   "execution_count": 20,
   "id": "290d7e1a",
   "metadata": {},
   "outputs": [
    {
     "data": {
      "text/plain": [
       "[<matplotlib.lines.Line2D at 0x724f1ef48890>]"
      ]
     },
     "execution_count": 20,
     "metadata": {},
     "output_type": "execute_result"
    },
    {
     "data": {
      "image/png": "[encoded data removed]",
      "text/plain": [
       "<Figure size 640x480 with 1 Axes>"
      ]
     },
     "metadata": {},
     "output_type": "display_data"
    }
   ],
   "source": [
    "plt.plot(grneat.best_fit_history)"
   ]
  }
 ],
 "metadata": {
  "kernelspec": {
   "display_name": "grn",
   "language": "python",
   "name": "python3"
  },
  "language_info": {
   "codemirror_mode": {
    "name": "ipython",
    "version": 3
   },
   "file_extension": ".py",
   "mimetype": "text/x-python",
   "name": "python",
   "nbconvert_exporter": "python",
   "pygments_lexer": "ipython3",
   "version": "3.11.5"
  }
 },
 "nbformat": 4,
 "nbformat_minor": 5
}
